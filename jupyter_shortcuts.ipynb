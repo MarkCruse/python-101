{
 "cells": [
  {
   "cell_type": "markdown",
   "metadata": {},
   "source": [
    "## Keyboard Shortcuts\n",
    "**Cmd + Shift + P**  opens the keyboard shortcuts  (Ctrl + Shift + P on Linux & Windows)\n",
    "\n",
    "**Esc** takes you into command mode.  Within you can:  \n",
    "    <b>A</b>  insert new cell above current  \n",
    "    <b>B</b>  insert new cell below current  \n",
    "    <b>M</b>  to change current cell to Markdown  \n",
    "    <b>Y</b>  to change current cell to code  \n",
    "    <b>D + D</b>  delete current cell  \n",
    "    **Enter** will take you from command mode back into edit mode  \n",
    "    **Shift + Tab** will show Docstring (documentation) for the object you have just typed in code cell  \n",
    "    **Ctrl + Shift + -**  will split current cell into two at the point where your cursor is  \n",
    "    **Esc + F**  Find and replace on your code  \n",
    "    **Esc + O**  Toggle cell output  \n",
    "    \n",
    "*Select Multiple Cells*\n",
    "    **Shift + J** or **Shift + Down** selects the next cell in a downwards direction.  \n",
    "    **Shift + K** or **Shift + Up** selects the next cell in an upwards direction.  \n",
    "        Once cells are selected, you can then delete / copy / cut / paste / run them as a batch. \n",
    "        This is helpful when you need to move parts of a notebook.  \n",
    "    **Shift + M** will merge multiple cells\n",
    " "
   ]
  },
  {
   "cell_type": "markdown",
   "metadata": {},
   "source": [
    "## Pretty Display of Variables\n",
    "\n",
    "By finishing a Jupyter cell with the name of a variable or unassigned output of a statement, \n",
    "Jupyter will display that variable without the need for a print statement. \n",
    "This is especially useful when dealing with Pandas DataFrames, as the output is neatly formatted into a table.\n",
    "\n",
    "What is known less, is that you can alter a modify the `ast_note_interactivity`  \n",
    "kernel option to make jupyter do this for any variable or statement on it's own line, so you can  \n",
    "see the value of multiple statements at once.\n",
    "\n",
    ">from IPython.core.interactiveshell import InteractiveShell\n",
    ">InteractiveShell.ast_node_interactivity = \"all\"\n",
    "\n",
    ">from pydataset import data\n",
    ">quakes = data('quakes')\n",
    ">quakes.head()\n",
    ">quakes.tail()\n",
    "\n",
    "lat\tlong\tdepth\tmag\tstations\n",
    "1\t-20.42\t181.62\t562\t4.8\t41\n",
    "2\t-20.62\t181.03\t650\t4.2\t15\n",
    "3\t-26.00\t184.10\t42\t5.4\t43\n",
    "4\t-17.97\t181.66\t626\t4.1\t19\n",
    "5\t-20.42\t181.96\t649\t4.0\t11\n",
    "lat\tlong\tdepth\tmag\tstations\n",
    "996\t-25.93\t179.54\t470\t4.4\t22\n",
    "997\t-12.28\t167.06\t248\t4.7\t35\n",
    "998\t-20.13\t184.20\t244\t4.5\t34\n",
    "999\t-17.40\t187.80\t40\t4.5\t14\n",
    "1000\t-21.59\t170.56\t165\t6.0\t119\n",
    "\n",
    "If you want to set this behaviour for all instances of Jupyter (Notebook and Console), simply create a file `~/.ipython/profile_default/ipython_config.py` with the lines below.\n",
    "\n",
    "`c = get_config()`\n",
    "\n",
    "`# Run all nodes interactively`  \n",
    "`c.InteractiveShell.ast_node_interactivity = \"all\"`\n",
    "\n",
    "For more visual appeal go to: https://www.dataquest.io/blog/jupyter-notebook-tips-tricks-shortcuts/"
   ]
  },
  {
   "cell_type": "markdown",
   "metadata": {},
   "source": []
  }
 ],
 "metadata": {
  "kernelspec": {
   "display_name": "Python 3",
   "language": "python",
   "name": "python3"
  },
  "language_info": {
   "codemirror_mode": {
    "name": "ipython",
    "version": 3
   },
   "file_extension": ".py",
   "mimetype": "text/x-python",
   "name": "python",
   "nbconvert_exporter": "python",
   "pygments_lexer": "ipython3",
   "version": "3.7.0"
  }
 },
 "nbformat": 4,
 "nbformat_minor": 2
}
