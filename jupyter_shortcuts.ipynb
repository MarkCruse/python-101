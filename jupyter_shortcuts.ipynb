{
 "cells": [
  {
   "cell_type": "markdown",
   "metadata": {},
   "source": [
    "Esc will take you into command mode where you can navigate around your notebook with arrow keys.  \n",
    "\n",
    "While in command mode:  \n",
    "* A to insert a new cell above the current cell  \n",
    "    B to insert a new cell below. \n",
    "* M to change the current cell to Markdown  \n",
    "    Y to change it back to code  \n",
    "* D + D (press the key twice) to delete the current cell  \n",
    "* Esc-Enter will take you from command mode back into edit mode for the given cell.  \n",
    "\n",
    "* Shift + Tab will show you the Docstring (documentation) for the the object you have just typed in a code cell - you  can keep pressing this short cut to cycle through a few modes of documentation.  \n",
    "* Ctrl + Shift + - will split the current cell into two from where your cursor is.  \n",
    "* Esc + F Find and replace on your code but not the outputs.  \n",
    "* Esc + O Toggle cell output.  \n",
    "* Select Multiple Cells:  \n",
    "* Shift + J or Shift + Down selects the next cell in a downwards direction. You can also select sells in an upwards  direction by using Shift + K or Shift + Up.  \n",
    "* Once cells are selected, you can then delete / copy / cut / paste / run them as a batch. This is helpful when you need to move parts of a notebook.  \n",
    "* You can also use Shift + M to merge multiple cells.  "
   ]
  },
  {
   "cell_type": "code",
   "execution_count": null,
   "metadata": {},
   "outputs": [],
   "source": []
  }
 ],
 "metadata": {
  "kernelspec": {
   "display_name": "Python 3",
   "language": "python",
   "name": "python3"
  },
  "language_info": {
   "codemirror_mode": {
    "name": "ipython",
    "version": 3
   },
   "file_extension": ".py",
   "mimetype": "text/x-python",
   "name": "python",
   "nbconvert_exporter": "python",
   "pygments_lexer": "ipython3",
   "version": "3.6.6"
  }
 },
 "nbformat": 4,
 "nbformat_minor": 2
}
