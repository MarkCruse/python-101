{
 "cells": [
  {
   "cell_type": "markdown",
   "metadata": {},
   "source": [
    "***\n",
    "## Functions\n",
    "### _Define a function_  \n",
    "```python \n",
    "def MyFunction(param):\n",
    "```\n",
    "### _Call a function_\n",
    "```python \n",
    "name = 'Sam'\n",
    "MyFunction(name)\n",
    "```\n",
    "### _Parameters Vs. Arguments_  \n",
    "   > `Parameters` are the name within the function definition. __In example above__, the function `MyFunction` is asking for a parameter called `param` which is used within the function.  \n",
    "   > `Arguments` are the values passed in when the function is called. __In example above__, `name` is the argument.\n",
    "     `Parameters` don’t change when the program is running.  \n",
    "   `Arguments` are probably going to be different every time the function is called."
   ]
  },
  {
   "cell_type": "markdown",
   "metadata": {},
   "source": [
    "### _Function returns One/More Values_\n",
    "  Most functions take in arguments, perform some processing and then return a value to the caller.  \n",
    "  In Python this is achieved with the return statement.\n"
   ]
  },
  {
   "cell_type": "code",
   "execution_count": 8,
   "metadata": {},
   "outputs": [
    {
     "name": "stdout",
     "output_type": "stream",
     "text": [
      "4\n",
      "4\n"
     ]
    }
   ],
   "source": [
    "def square(n):  \n",
    "  return n*n\n",
    "\n",
    "two_squared = square(2)   # this is calling the function square and puts the return value into two_squared\n",
    "print(two_squared)\n",
    "\n",
    "print(square(2))        # or call the function and then print the returned value"
   ]
  },
  {
   "cell_type": "markdown",
   "metadata": {},
   "source": [
    "Python also has the ability to __return multiple values__ from a function call, something missing from many other languages. In this case the return values should be a comma-separated list of values and Python then constructs a tuple and returns this to the caller, e.g.  "
   ]
  },
  {
   "cell_type": "code",
   "execution_count": 9,
   "metadata": {},
   "outputs": [
    {
     "name": "stdout",
     "output_type": "stream",
     "text": [
      "(4, 9)\n"
     ]
    }
   ],
   "source": [
    "def square(x,y):\n",
    "    return x*x, y*y\n",
    "\n",
    "t = square(2,3)\n",
    "print(t)  \n",
    "# Outputs: (4,9)\n",
    "# Now access the tuple with usual operations"
   ]
  },
  {
   "cell_type": "markdown",
   "metadata": {},
   "source": [
    "An alternate syntax when dealing with multiple return values is to have Python \"unwrap\" the tuple into the variables directly by specifying the same number of variables on the left-hand side of the assignment as there are returned from the function, e.g.  "
   ]
  },
  {
   "cell_type": "code",
   "execution_count": 10,
   "metadata": {},
   "outputs": [
    {
     "name": "stdout",
     "output_type": "stream",
     "text": [
      "4\n",
      "9\n"
     ]
    }
   ],
   "source": [
    "def square(x,y):\n",
    "    return x*x, y*y\n",
    "\n",
    "xsq, ysq = square(2,3)\n",
    "print(xsq)  \n",
    "# Outputs: 4\n",
    "print(ysq)  \n",
    "# Outputs: 9  \n",
    "# Tuple has vanished!"
   ]
  },
  {
   "cell_type": "markdown",
   "metadata": {},
   "source": [
    "__Return multiple values from a method using list__"
   ]
  },
  {
   "cell_type": "code",
   "execution_count": 12,
   "metadata": {},
   "outputs": [
    {
     "name": "stdout",
     "output_type": "stream",
     "text": [
      "[4, 9]\n"
     ]
    }
   ],
   "source": [
    "def square(x,y):\n",
    "    return [x*x, y*y]\n",
    "\n",
    "list = square(2,3)\n",
    "print(list)\n",
    "# Outputs: [4,9]"
   ]
  },
  {
   "cell_type": "markdown",
   "metadata": {},
   "source": [
    "### _Local vs. Global variables in Functions_"
   ]
  },
  {
   "cell_type": "code",
   "execution_count": 14,
   "metadata": {},
   "outputs": [
    {
     "name": "stdout",
     "output_type": "stream",
     "text": [
      "global :  1\n",
      "Inside f() :  1\n",
      "global :  1\n",
      "Inside g() :  2\n",
      "global :  1\n",
      "Inside h() :  3\n",
      "global :  3\n"
     ]
    }
   ],
   "source": [
    "a = 1\n",
    "\n",
    "# Uses global because there is no local 'a' \n",
    "def f(): \n",
    "    print ('Inside f() : ', a ) \n",
    "\n",
    "# Variable 'a' is redefined as a local \n",
    "def g():     \n",
    "    a = 2\n",
    "    print ('Inside g() : ',a )\n",
    "\n",
    "# Uses global keyword to modify global 'a' \n",
    "def h():     \n",
    "    global a \n",
    "    a = 3\n",
    "    print ('Inside h() : ',a )\n",
    "\n",
    "# Global scope \n",
    "print ('global : ',a )\n",
    "f() \n",
    "print ('global : ',a )\n",
    "g() \n",
    "print ('global : ',a )\n",
    "h() \n",
    "print ('global : ',a)"
   ]
  },
  {
   "cell_type": "markdown",
   "metadata": {},
   "source": [
    "### _Passing(variable of int, float, Boolean) vs list_ \n",
    "> Variables of int, float, Boolean are immutable  \n",
    "> Lists are mutable therfore they can be passed, changed with in the function, passed to another  \n",
    "> If the list was declared outside of all functions the list is available within all functions AND the changes occuring inside the funtions on the list is available everywhere. Variables of int, float, Boolean would not have such a capability."
   ]
  },
  {
   "cell_type": "markdown",
   "metadata": {},
   "source": [
    "***\n",
    "## Strings\n",
    "\n",
    "Textual data in Python is handled with str objects, or strings. String literals are written in a variety of ways: "
   ]
  },
  {
   "cell_type": "markdown",
   "metadata": {},
   "source": [
    "#### _Creating strings_\n",
    "\n",
    "__Examples__\n",
    "```python\n",
    "name = \"tom\"          # a string  \n",
    "\n",
    "mychar = 'a'          # a character  \n",
    "```\n",
    "\n",
    "you can also use the following syntax to create strings.  \n",
    "\n",
    "```python\n",
    "name1 = str()                 # this will create empty string object\n",
    "\n",
    "name2 = str(\"newstring\")      # string object containing 'newstring'\n",
    "```"
   ]
  },
  {
   "cell_type": "markdown",
   "metadata": {},
   "source": [
    "### _strings can be single, double, or triple quoted_\n",
    "\n",
    "\n",
    "_Single quote:_ \n",
    "Bean = ' the Chicago the Bean sculpture is made of 168 highly polished stainless steel plates '  \n",
    "\n",
    "You can also use single quote that embedded  double quotes as follow:  \n",
    "AlPacinoQuote = ' \"I always tell the truth. Even when I lie.\" '  \n",
    "\n",
    "_Double quotes:_   \n",
    "MerylStreepQuote = \" Acting is not about being someone different. It’s finding the similarity in what is apparently different, then finding myself in there \"  \n",
    "\n",
    "You can also use double quotes that embedded  single quote as follow:  \n",
    "EmbdedQuotes = \" I said, 'I need to protect my treasure!' and did so. \"  \n",
    "\n",
    "_Triple quoted:_  \n",
    "It is used to bound text that expand over multiple lines.  \n",
    "Here you can use either three single quotes or three double quotes, as follow:    \n",
    "CharlesSwindollQuote = ' ' ' Life is 10% what happens to me and 90% of how I react to it  ' ' '  \n",
    "MarkTwainQuote= \"\"\" Twenty years from now you will be more disappointed by the things that you didn’t do than by the ones you did do, so throw off the bowlines, sail away from safe harbor, catch the trade winds in your sails. Explore, Dream, Discover  \"\"\"  "
   ]
  },
  {
   "cell_type": "markdown",
   "metadata": {},
   "source": [
    "### _strings are immutable_\n",
    "Python strings are immutable, which means that the content of a str object cannot be modified after the creation. However, `MyString` (see example below) is not a string: it is a variable with a string value. You can't mutate the string, but can replace/change the value of the variable to a new string.  \n",
    "__Example__\n",
    "```python\n",
    "MyString = 'Good things come to those that study hard'\n",
    "print(MyString)                   # output: 'Good things come to those that study hard'\n",
    "print(type(MyString))             # output: <class 'str'>\n",
    "MyString = 'a changed string'     \n",
    "print(MyString)                   # output: 'a replaced/changed string'\n",
    "```"
   ]
  },
  {
   "cell_type": "markdown",
   "metadata": {},
   "source": [
    "### _escape sequence_\n",
    "Special characters can be embedded in strings with the use of escape sequences.  \n",
    "\n",
    "|Character|Character literal|\n",
    "|---------|:-----------------:|\n",
    "|single quote '      |'\\''|\n",
    "|double quote \"      |\"\\\"\" in double quoted string|\n",
    "|backslash|'\\\\'      |\n",
    "|new line|'\\n'      |\n",
    "|carriage return      |'\\r'|\n",
    "|tab      |'\\t'|\n",
    "|backspace      |'\\b'|\n",
    "|formfeed      |'\\f'|"
   ]
  },
  {
   "cell_type": "markdown",
   "metadata": {},
   "source": [
    "__examples of escape sequence use__\n",
    "```python\n",
    "paragraph = '\"Computer science inverts the normal. In normal science, \\nyou\\'re given a world, and your job is to find out the rules. \\nIn computer science, you give the computer the rules, \\nand it creates the world.\"\\n by Alan Kay'\n",
    "raw_paragraph = r'\"Computer science inverts the normal. In normal science, \\nyou\\'re given a world, and your job is to find out the rules. \\nIn computer science, you give the computer the rules, \\nand it creates the world.\"\\n by Alan Kay'\n",
    "\n",
    "print(paragraph)\n",
    "\n",
    "print(raw_paragraph)\n",
    "```\n",
    "\n",
    "\"Computer science inverts the normal. In normal science, \n",
    "you're given a world, and your job is to find out the rules. \n",
    "In computer science, you give the computer the rules, \n",
    "and it creates the world.\"\n",
    " by Alan Kay\n",
    " \n",
    "\"Computer science inverts the normal. In normal science, \\nyou\\'re given a world, and your job is to find out the rules. \\nIn computer science, you give the computer the rules, \\nand it creates the world.\"\\n by Alan Kay"
   ]
  },
  {
   "cell_type": "markdown",
   "metadata": {},
   "source": [
    "### _string comparison_\n",
    "You can use ( `>` , `<` , `<=` , `<=` , `==` , `!=` ) to compare two strings. \n",
    "  \n",
    "\n",
    "Python compares string lexicographically i.e using ASCII value of the characters.  \n",
    "Suppose you have `str1` as `\"Mary\"` and `str2` as `\"Mac\"`  \n",
    "The first two characters from `str1` and `str2` ( `M` and `M` ) are compared.\n",
    "As they are equal, the second two characters are compared.  \n",
    "Because they are also equal, the third two characters ( `r`  and `c` ) are compared. \n",
    "And because `'r'`  has greater ASCII value than `'c'` ,  \n",
    "`str1`  is greater than `str2`.  \n",
    "  \n",
    "__Examples__\n",
    "```python\n",
    "\"tim\"  ==  \"tie\"\n",
    "False\n",
    "\n",
    "\"free\"  !=  \"freedom\"\n",
    "True\n",
    "\n",
    "\"arrow\"  >  \"aron\"\n",
    "True\n",
    "\n",
    "\"right\"  >=  \"left\"\n",
    "True\n",
    "\n",
    "\"teeth\"  <  \"tee\"\n",
    "False\n",
    "\n",
    "\"yellow\"  <=  \"fellow\"\n",
    "False\n",
    "\n",
    "\"abc\"  >  \"\"\n",
    "True\n",
    "```"
   ]
  },
  {
   "cell_type": "markdown",
   "metadata": {},
   "source": [
    "### _string functions_  \n",
    "\n",
    "|FUNCTION NAME|FUNCTION DESCRIPTION|\n",
    "|-------------|--------------------|\n",
    "|__len(str)__|returns length of the string|\n",
    "|__max(str)__|returns character having highest ASCII value|\n",
    "|__min(str)__|returns character having lowest ASCII value|\n",
    "|__chr(int)__|returns the string unicode point as an integer|\n",
    "|__ord(str)__|returns the unicode point as an integer based on a given character|\n",
    "\n",
    "intNumber =  ord (singleCharacter)\n",
    "_Examples:_ \n",
    "```python    \n",
    "len(\"hello\")  \n",
    "5  \n",
    "\n",
    "max(\"abc\")  \n",
    "'c'  \n",
    "\n",
    "min(\"abc\")  \n",
    "'a'  \n",
    "\n",
    "chr(97)\n",
    "'a'\n",
    "\n",
    "ord('a')\n",
    "97\n",
    "```\n"
   ]
  },
  {
   "cell_type": "markdown",
   "metadata": {},
   "source": [
    "### _string methods_"
   ]
  },
  {
   "cell_type": "markdown",
   "metadata": {},
   "source": [
    "__Converting Strings__"
   ]
  },
  {
   "cell_type": "markdown",
   "metadata": {},
   "source": [
    "\n",
    "|METHOD NAME|METHOD DESCRIPTION|\n",
    "|---------------------|------------------------------------------------------------------------------------------|\n",
    "|__capitalize(): str__|Returns a copy of this string with only the first character capitalized.|\n",
    "|__lower(): str__|Returns string by converting every character to lowercase|\n",
    "|__upper(): str__|Returns string by converting every character to uppercase|\n",
    "|__title(): str__|Returns string by capitalizing first letter of every word in the string|\n",
    "|__swapcase(): str__|Returns a string in which the lowercase letter is converted to uppercase and uppercase to lowercase|\n",
    "|__replace(old, new): str__|Returns new string by replacing the occurrence of old string with new string|\n",
    "|__strip('to be stripped'): str__|Returns a copy of the string in which all chars have been stripped from the beginning and the end of the string (default whitespace characters).|"
   ]
  },
  {
   "cell_type": "markdown",
   "metadata": {},
   "source": [
    "__examples:__\n",
    "```python\n",
    "s = \"string in python\"\n",
    "s1 = s.capitalize()\n",
    "print ( s1 )\n",
    "'String in python'\n",
    "\n",
    "s2 = s.title()\n",
    "print ( s2 )\n",
    "'String In Python'\n",
    "\n",
    "s = \"This Is Test\"\n",
    "s3 = s.lower()\n",
    "print ( s3 )\n",
    "'this is test'\n",
    "\n",
    "s = \"This Is Test\"\n",
    "s4 = s.upper()\n",
    "print ( s4 )\n",
    "'THIS IS TEST'\n",
    "\n",
    "s = \"This Is Test\"\n",
    "s5 = s.swapcase()\n",
    "print ( s5 )\n",
    "'tHIS iS tEST'\n",
    "       \n",
    "s = \"This Is Test\"\n",
    "s6 = s.replace(\"Is\", \"Was\")\n",
    "print ( s6 )\n",
    "'This Was Test'\n",
    "print ( s )\n",
    "'This Is Test'\n",
    "\n",
    "s7 = \"0000000this is string example....wow!!!0000000\";    # strip all 0s from the string\n",
    "print s7.strip( '0' )\n",
    "'this is string example....wow!!!'\n",
    "\n",
    "```"
   ]
  },
  {
   "cell_type": "code",
   "execution_count": 38,
   "metadata": {},
   "outputs": [
    {
     "name": "stdout",
     "output_type": "stream",
     "text": [
      "String in python\n"
     ]
    }
   ],
   "source": [
    "s = \"string in python\"\n",
    "s1 = s.capitalize()\n",
    "print ( s1 )"
   ]
  },
  {
   "cell_type": "code",
   "execution_count": 83,
   "metadata": {},
   "outputs": [
    {
     "data": {
      "text/plain": [
       "'a'"
      ]
     },
     "execution_count": 83,
     "metadata": {},
     "output_type": "execute_result"
    }
   ],
   "source": [
    "chr(97)"
   ]
  },
  {
   "cell_type": "markdown",
   "metadata": {},
   "source": [
    "### _string split() method_\n",
    "\n",
    "The split() method splits a string into a list.  \n",
    "  \n",
    "You can specify the separator, default separator is any whitespace.\n",
    "\n",
    "`string.split(separator, max)`\n",
    "\n",
    "|Parameter    |Description|  \n",
    "|-----------------------|---------------------------------------------------------------------------------------|  \n",
    "|separator| Optional. Specifies the separator to use when splitting the string. Default value is a whitespace|  \n",
    "|max| Optional. Specifies how many splits to do. Default value is -1, which is \"all occurrences\"|  \n",
    "\n",
    "__Example:__   \n",
    "\n",
    "```python\n",
    "txt = \"welcome to the jungle\"\n",
    "x = txt.split()\n",
    "['welcome', 'to', 'the', 'jungle']\n",
    "\n",
    "txt = \"apple#banana#cherry#orange\"\n",
    "x = txt.split(\"#\")\n",
    "['apple', 'banana', 'cherry', 'orange']\n",
    "```\n",
    "Split the string into a list with max 2 items:\n",
    "```python\n",
    "txt = \"apple#banana#cherry#orange\"\n",
    "x = txt.split(\"#\", 1)\n",
    "['apple', 'banana#cherry#orange']\n",
    "\n",
    "```"
   ]
  },
  {
   "cell_type": "markdown",
   "metadata": {},
   "source": [
    "### _join method to join strings into a list_\n",
    "Sometimes there is a ned to join a list if strings into one String. This can be done using the split method as follow.  \n",
    "\n",
    "NewJoinedString = stringName.join ( ListOfStrings )  \n",
    "\n",
    "Here the list of strings are joined together into one string using the stringName as connector (delimiter) between these substrings.   \n",
    "\n",
    "__example:__  \n",
    "```python\n",
    "delimiterString = '-'\n",
    "ListOfAnimals = ['dog','cat','bird','cow']\n",
    "AllAnimals = delimiterString.join (ListOfAnimals)\n",
    "print (AllAnimals)                                 # output:  'dog-cat-bird-cow'\n",
    "```"
   ]
  },
  {
   "cell_type": "markdown",
   "metadata": {},
   "source": [
    "### _testing strings_\n",
    "String class in python has various inbuilt methods which allows to check for different types of strings.\n",
    "\n",
    "|METHOD NAME|METHOD DESCRIPTION|\n",
    "|--------------|--------------------------------------------|\n",
    "|__isalnum()__|Returns True if string is alphanumeric|\n",
    "|__isalpha()__|Returns True if string contains only alphabets|\n",
    "|__isdigit()__|Returns True if string contains only digits|\n",
    "|__isidentifier()__|Return True is string a valid identifier|\n",
    "|__islower()__|Returns True if string is in lowercase|\n",
    "|__isupper()__|Returns True if string is in uppercase|\n",
    "|__isspace()__|Returns True if string contains only whitespace|\n",
    "\n",
    "__examples:__  \n",
    "```python\n",
    "s = \"welcome to python\"\n",
    "\n",
    "s.isalnum()\n",
    "False\n",
    "\n",
    "\"Welcome\".isalpha()\n",
    "True\n",
    "\n",
    "\"2012\".isdigit()\n",
    "True\n",
    "\n",
    "\"first Number\".isidentifier()\n",
    "False\n",
    "\n",
    "s.islower()\n",
    "True\n",
    "\n",
    "\"WELCOME\".isupper()\n",
    "True\n",
    "\n",
    "\"  \\t\".isspace()\n",
    "True\n",
    "```"
   ]
  },
  {
   "cell_type": "markdown",
   "metadata": {},
   "source": [
    "### _searching for substrings_\n",
    "\n",
    "|METHOD NAME|METHODS DESCRIPTION:|\n",
    "|------------------|---------------------|\n",
    "|__endswith(s1: str): bool__|Returns True if strings ends with substring s1|\n",
    "|__startswith(s1: str): bool__|Returns True if strings starts with substring s1|\n",
    "|__count(substring): int__|Returns number of occurrences of substring in the string|\n",
    "|__find(s1): int__|Returns lowest index from where s1 starts in the string, if string not found returns -1|\n",
    "|__rfind(s1): int__|Returns highest index from where s1 starts in the string, if string not found returns -1|\n",
    "\n",
    "__Examples:__  \n",
    "```python\n",
    "s = \"welcome to python\"\n",
    "\n",
    "s.endswith(\"thon\")     # does s end with \"thon\"?\n",
    "True\n",
    "\n",
    "s.startswith(\"good\")   # does s start with \"good\"?\n",
    "False\n",
    "\n",
    "s.find(\"come\")         # where is the first index of \"come\"?\n",
    "3\n",
    "\n",
    "s.find(\"become\")       # -1 means that the string was not found\n",
    "-1\n",
    "\n",
    "s.rfind(\"o\")         # where is the last index of the letter \"o\"?\n",
    "15\n",
    "\n",
    "s.count(\"o\")         # how many times does the letter 'o' appear in the string?\n",
    "3\n",
    "  \n",
    "```"
   ]
  },
  {
   "cell_type": "markdown",
   "metadata": {},
   "source": [
    "### _finding a string in a string_\n",
    "`in`  and `not in`  operators\n",
    "\n",
    "You can use `in`  and `not in`  operators to check existence of a string in another string. They are also known as membership operator.\n",
    "\n",
    "\n",
    "__Examples:__  \n",
    "```python\n",
    "s1 = \"Welcome\"\n",
    "\n",
    "\"come\" in s1\n",
    "True\n",
    "\n",
    "\"come\" not in s1\n",
    "False\n",
    "\n",
    "```"
   ]
  },
  {
   "cell_type": "markdown",
   "metadata": {},
   "source": [
    "### _concatentating strings_\n",
    "\n",
    "Concatenation - Adds values on either side of the operator  \n",
    "\n",
    "__Example:__  \n",
    "```python\n",
    "s1 = \"Welcome\"\n",
    "s2 = \" Home\"\n",
    "s1 + s2\n",
    "\"Welcome Home\"\n",
    "```"
   ]
  },
  {
   "cell_type": "markdown",
   "metadata": {},
   "source": [
    "#### _strings repitition_\n",
    "\n",
    "Repetition - Creates new strings, concatenating multiple copies of the same string   \n",
    "\n",
    "__Example:__  \n",
    "```python\n",
    "s1 = \"Welcome \"\n",
    "s2 = \"Home\"\n",
    "s1*3 + s2\n",
    "\"Welcome Welcome Welcome Home\"\n",
    "```"
   ]
  },
  {
   "cell_type": "markdown",
   "metadata": {},
   "source": [
    "### _accessing string characters_  \n",
    "Each character in the string can be accessed by using `[]` operator. There are two ways to reach each element as follows:  \n",
    "\n",
    " - Start from left to right: The indexes start at 0, and the index of the last chracter is indexed with len(StringName) - 1 , where  len(StringName) gives the number of chracterss inside the StringName.  \n",
    " - Start from right to left: The string can also be indexed from the right using negative numbers, with the index of the right-most chracter being -1, and the index of the second right-most element being -2, and the index of the left-most chracter being -len(list)."
   ]
  },
  {
   "cell_type": "markdown",
   "metadata": {},
   "source": [
    "### _slicing strings - slice / range slice_\n",
    "\n",
    "For the string `Welcome_Home!` the index breakdown looks like this:\n",
    "\n",
    "|W  |e  |l  |c  |o  |m  |e  |&nbsp; |H |o |m |e |! |  \n",
    "|--|--|--|--|--|--|--|--|--|--|--|--|--|  \n",
    "|0 |1 |2 |3 |4 |5 |6 |7 |8 |9 |10|11|12|\n",
    "\n",
    "`Slice` - Gives the character from the given index  \n",
    "\n",
    "__Example:__  \n",
    "```python\n",
    "s1 = \"Welcome Home!\"\n",
    "\n",
    "s[1] \n",
    "\"e\"\n",
    "\n",
    "s[8]\n",
    "\"H\"\n",
    "```\n",
    "\n",
    "`Range Slice` - Gives the characters from the given range  \n",
    "__Example:__   \n",
    "```python\n",
    "s1[1:4]\n",
    "\"elc\"\n",
    "\n",
    "s1[3:7]\n",
    "\"come\"\n",
    "\n",
    "s1[8:13]\n",
    "\"Home!\"\n",
    "```"
   ]
  },
  {
   "cell_type": "markdown",
   "metadata": {},
   "source": [
    "### _slicing - accessing characters by negative index number_\n",
    "\n",
    "If we have a long string and we want to pinpoint an item towards the end, we can also count backwards from the end of the string, starting at the index number -1.\n",
    "\n",
    "For the same string `Welcome_Home!` the negative index breakdown looks like this:  \n",
    "\n",
    "|W  |e  |l  |c  |o  |m  |e  |&nbsp; |H |o |m |e |! |  \n",
    "|--|--|--|--|--|--|--|--|--|--|--|--|--|  \n",
    "|-13 |-12 |-11 |-10 |-9 |-8 |-7 |-6 |-5 |-4 |-3|-2|-1|  \n",
    "\n",
    "Using negative index numbers can be advantageous for isolating a single character towards the end of a long string.\n",
    "__Example:__   \n",
    "```python\n",
    "s[-5]               # handier than counting all the way through welcome!\n",
    "\"H\"\n",
    "s1[-5:-1]\n",
    "\"Home!\"\n",
    "\n",
    "```"
   ]
  },
  {
   "cell_type": "markdown",
   "metadata": {},
   "source": [
    "### _specifying stride while slicing strings_\n",
    "\n",
    "String slicing can accept a third parameter in addition to two index numbers. The third parameter specifies the `stride`,  \n",
    "which refers to how many characters to move forward after the first character is retrieved from the string.  \n",
    "\n",
    "So far, we have omitted the stride parameter, and Python defaults to the stride of 1, so that every character between two index numbers is retrieved.\n",
    "\n",
    "\n",
    "|W  |e  |l  |c  |o  |m  |e  |&nbsp; |H |o |m |e |! |  \n",
    "|--|--|--|--|--|--|--|--|--|--|--|--|--|  \n",
    "|0 |1 |2 |3 |4 |5 |6 |7 |8 |9 |10|11|12|\n",
    "\n",
    "\n",
    "__Example:__   \n",
    "```python\n",
    "\n",
    "s1[8:13]\n",
    "\"Home!\"\n",
    "\n",
    "We can obtain the same results by including a third parameter with a stride of 1:\n",
    "    \n",
    "s1[8:13:1]\n",
    "\"Home!\"\n",
    "\n",
    "If, instead, we increase the stride, we will see that characters are skipped:\n",
    "    \n",
    "s1[0:12:2]\n",
    "\"WloeHm\"\n",
    "\n",
    "Note that the whitespace character are counted as index number 7 is skipped with a stride of 2 specified.\n",
    "```"
   ]
  },
  {
   "cell_type": "markdown",
   "metadata": {},
   "source": [
    "### _string format_\n",
    "\n",
    "Python has a string format facility to put together a string. There are two ways to use the string format utilities:\n",
    "printf C style format, or use the newer str.format().  \n",
    "\n",
    "str.format is a more powerful, flexible and extensible approach to formatting text, and generally causes fewer errors.  \n",
    "\n",
    "_printf C style string format_\n",
    "String objects have one formatting operator:  `%` operator. Given `format % values` (where format is a string), `%` conversion specifications in format are replaced with zero or more elements of values. The syntax and effects are similar to using the `printf()` in the C language.  \n",
    "\n",
    "If format requires a single argument, values may be a single non-tuple object. Otherwise, values must be a tuple with exactly the number of items specified by the format string, or a single mapping object (for example, a dictionary).  \n",
    "\n",
    "__Examples:__   \n",
    "```python\n",
    "# if there is one argument \n",
    "name = \"John\"\n",
    "print(\"My name is %s.\" % name)                 # output:  'My name is John.'\n",
    "\n",
    "\n",
    "# if there are more than one argument, use a \n",
    "# tuple to enclose all the values\n",
    "name = \"John\"\n",
    "age = 18\n",
    "print(\"%s is %d years old.\" % (name, age))    # output: 'John is 18 years old.'\n",
    "```\n",
    "\n",
    "\n",
    "A conversion specifier contains two or more characters and has the following components, which must occur in this order:  \n",
    "\n",
    " 1. The '%' character, which marks the start of the specifier.  \n",
    " 2. Mapping key (optional), consisting of a parenthesised sequence of characters (for example, (somename)).  \n",
    " 3. Conversion flags (optional), which affect the result of some conversion types.  \n",
    " 4. Minimum field width (optional). If specified as an '*' (asterisk), the actual width is read from the next element of the tuple in values, and the object to convert comes after the minimum field width and optional precision.  \n",
    " 5. Precision (optional), given as a '.' (dot) followed by the precision. If specified as '*' (an asterisk), the actual precision is read from the next element of the tuple in values, and the value to convert comes after the precision.  \n",
    " 6. Length modifier (optional).  \n",
    " 7. Conversion type.  \n",
    " \n",
    "__Examples:__   \n",
    "```python\n",
    "# a list of three tuples(each tuple has four elements)\n",
    "tbl = [(\"John\", 18, \"Freshman\", 3.5), (\"Alice\", 19, \"Junior\", 3.8), (\"Bob\", 22, \"Senior\", 3.4)]\n",
    "\n",
    "# print each tuple out by specifying the type conversion only \n",
    "for i in range(0, len(tbl)):\n",
    "   print(\"%s %d %s %f\" % tbl[i])\n",
    "\n",
    "Output:  \n",
    "John 18 Freshman 3.500000  \n",
    "Alice 19 Junior 3.800000  \n",
    "Bob 22 Senior 3.400000  \n",
    "\n",
    "# the width of name is 10 and is left ajusted\n",
    "# the with of age is 4 (right adjusted)\n",
    "# the width of major is 10 (right adjusted)\n",
    "for i in range(0, len(tbl)):\n",
    "   print(\"%-10s %4d %10s %f\" % tbl[i])\n",
    "   \n",
    "# the width of name is 10 and is left ajusted\n",
    "# the with of age is 4 and is left adjusted\n",
    "\n",
    "Output:  \n",
    "John         18   Freshman 3.500000  \n",
    "Alice        19     Junior 3.800000  \n",
    "Bob          22     Senior 3.400000 \n",
    "```"
   ]
  },
  {
   "cell_type": "markdown",
   "metadata": {},
   "source": [
    "### _Use of string formatter_  \n",
    "A string formatter takes a format string and an arbitrary set of positional and keyword arguments. Take a look at the following example:  \n",
    "__Example:__   \n",
    "```python\n",
    "result = \"{} {}\".format(\"one\", \"two\")\n",
    "print(result)\n",
    "\n",
    "# the following statement is exactly the same as above\n",
    "result = \"{0} {1}\".format(\"one\", \"two\")\n",
    "print(result)\n",
    "\n",
    "# a parameter may be used multiple times\n",
    "result = \"{0} {1} {1}\".format(\"one\", \"two\")\n",
    "print(result)\n",
    "\n",
    "# we can reverse the order of parameter list\n",
    "result = \"{1} {0}\".format(\"two\", \"one\")\n",
    "print(result)  \n",
    "\n",
    "Output:\n",
    "one two\n",
    "one two\n",
    "one two two\n",
    "one two\n",
    "```\n",
    "```python\n",
    "# Formatting currency and decimals\n",
    "currency = 1.20\n",
    "currency2 = 1141.80\n",
    "percentage = .254893453453\n",
    "print('${:,.2f}'.format(currency))                            # $1.20\n",
    "print('${:,.2f}'.format(currency2))                           # $1,141.80\n",
    "print('{:,.0f}%'.format(percentage * 100))                    # 25%\n",
    "print('This project is {:%} completed.'.format(percentage))   # 'This project is 25.489345% completed.'\n",
    "print('This project is {:.0%} completed.'.format(percentage)) # 'This project is 25% completed.'\n",
    "print('This project is {:.1%} completed.'.format(percentage)) # 'This project is 25.5% completed.'\n",
    "```"
   ]
  },
  {
   "cell_type": "markdown",
   "metadata": {},
   "source": [
    "***\n",
    "## Lists"
   ]
  },
  {
   "cell_type": "markdown",
   "metadata": {},
   "source": [
    "A list is a data structure in Python that is a mutable, or changeable, ordered sequence of elements.  \n",
    "Each element or value that is inside of a list is called an item.  \n",
    "\n",
    "Just as strings are defined as characters between quotes, lists are defined by having values between square brackets `[ ]`."
   ]
  },
  {
   "cell_type": "markdown",
   "metadata": {},
   "source": [
    "### _initializing a list_ \n",
    "\n",
    "A list can be initialize as empty  \n",
    "```python\n",
    "teams = []\n",
    "or\n",
    "teams = list()\n",
    "```\n",
    "or with elements  \n",
    "```python\n",
    "teams = ['Cowboys','Redskins','Eagles','Giants','Dolphins']\n",
    "\n",
    "numbers = [1,2,6,8,24,99,3,2,7,1]\n",
    "```"
   ]
  },
  {
   "cell_type": "markdown",
   "metadata": {},
   "source": [
    "### _Indexing Lists_  \n",
    "Each item in a list corresponds to an index number, which is an integer value, starting with the index number 0.\n",
    "\n",
    "For a list teams, the index breakdown looks like this:\n",
    "\n",
    "teams = ['Cowboys','Redskins','Eagles','Giants','Dolphins']\n",
    "\n",
    "|'Cowboys'|'Redskins'|'Eagles'|'Giants'|'Packers'|\n",
    "|:-------:|:--------:|:------:|:------:|:--------:|\n",
    "| 0| 1 | 2 | 3 | 4 |\n",
    "\n",
    "The first item, the string `'Cowboys'` starts at index 0, and the list ends at index 4 with the item `'Packers'`.\n",
    "\n",
    "Because each item in a Python list has a corresponding index number, we’re able to access and manipulate lists in the same ways we can with other sequential data types.\n",
    "\n",
    "Now we can call a discrete item of the list by referring to its index number:\n",
    "\n",
    "__Example:__   \n",
    "```python\n",
    "print(teams[0])       # output: Cowboys\n",
    "print(teams[4])       # output: Packers\n",
    "\n",
    "\n",
    "```\n",
    "If we call the list teams with an index number of any that is greater than 4, it will be `out of range` as it will not be valid:\n",
    "\n",
    "__Example:__   \n",
    "```python\n",
    "print(teams[10])      # output: IndexError: list index out of range\n",
    "```\n",
    "\n",
    "In addition to positive index numbers, we can also access items from the list with a negative index number, by counting backwards from the end of the list, starting at -1. This is especially useful if we have a long list and we want to pinpoint an item towards the end of a list.\n",
    "\n",
    "For the same list teams, the negative index breakdown looks like this:\n",
    "\n",
    "\n",
    "|'Cowboys'|'Redskins'|'Eagles'|'Giants'|'Packers'|\n",
    "|:-------:|:--------:|:------:|:------:|:--------:|\n",
    "|-5|-4|-3|-2|-1|\n",
    "\n",
    "So, if we would like to print out the item 'Packers' by using its negative index number, we can do so like:\n",
    "\n",
    "__Example:__   \n",
    "```python\n",
    "print(teams[-1])                # output: Packers\n",
    "```\n",
    "or a combination of both\n",
    "```python\n",
    "print(teams[-1] + teams[4])     # output: PackersPackers\n",
    "\n",
    "```"
   ]
  },
  {
   "cell_type": "markdown",
   "metadata": {},
   "source": [
    "### _lists are heterogeneous (elements don't have to be all the same type)_\n",
    "```python\n",
    "junk = [1,2,'pink',8.10,'dolls',True]  \n",
    "\n",
    "type(junk[0])      # int\n",
    "type(junk[2])      # str \n",
    "type(junk[3])     # float\n",
    "type(junk[5])     # bool\n",
    "```"
   ]
  },
  {
   "cell_type": "markdown",
   "metadata": {},
   "source": [
    "### _get the length of a list_\n",
    "pass your list to the len() function to get the length of your list back  \n",
    "```python\n",
    "junk = [1,2,'pink',8.10,'dolls',True]  \n",
    "teams = ['Cowboys','Redskins','Eagles','Giants','Dolphins']\n",
    "\n",
    "len(junk)    # 6\n",
    "len(teams)   # 5\n",
    "```"
   ]
  },
  {
   "cell_type": "markdown",
   "metadata": {},
   "source": [
    "### _loop over a list_\n",
    "```python\n",
    "junk = [1,2,'pink',8.10,'dolls',True]  \n",
    "\n",
    "# Loop over your list and print all elements that are of string\n",
    "for x in junk:\n",
    "      if type(x)==str:\n",
    "        print(x)\n",
    "```\n",
    "Output:  \n",
    ">pink  \n",
    ">dolls  "
   ]
  },
  {
   "cell_type": "markdown",
   "metadata": {},
   "source": [
    "### _how many times one particular list item occurs in a list and how many times each list item is encountered_\n",
    "\n",
    "```python\n",
    "# Count the occurrences of the number 2\n",
    "numbers = [1,2,6,8,24,99,3,2,7,1]\n",
    "\n",
    "print(numbers.count(2))         # output: 2\n",
    "\n",
    "# Count the occurrences of the letter \"a\"\n",
    "list = [\"d\", \"a\", \"t\", \"a\", \"c\", \"a\", \"m\", \"p\"]\n",
    "\n",
    "list.count(\"a\")                 # output: 3\n",
    "```"
   ]
  },
  {
   "cell_type": "markdown",
   "metadata": {},
   "source": [
    "### _create single list out of list of lists_\n",
    "\n",
    "```python\n",
    "# Your initial list of lists\n",
    "list = [[1,2],[3,4],[5,6]]\n",
    "\n",
    "# Flatten out your original list of lists with `sum()`\n",
    "sum(list, [])\n",
    "```\n",
    "ouput: [1, 2, 3, 4, 5, 6]"
   ]
  },
  {
   "cell_type": "markdown",
   "metadata": {},
   "source": [
    "### _list methods_\n",
    "\n",
    "|Method|Description|\n",
    "|------------------|------------------------------------------------------------------------------------------------------------------------|\n",
    "|list.append(elem)|adds a single element to the end of the list. Common error: does not return the new list, just modifies the original.|\n",
    "|list.insert(index, elem) |inserts the element at the given index, shifting elements to the right.|\n",
    "|list.extend(list2)|adds the elements in list2 to the end of the list. Using + or += on a list is similar to using extend().|\n",
    "|list.index(elem)|searches for the given element from the start of the list and returns its index. Throws a ValueError if the element does not appear (use \"in\" to check without a ValueError).|\n",
    "|list.remove(elem)|searches for the first instance of the given element and removes it (throws ValueError if not present)|\n",
    "|list.sort() |sorts the list in place (does not return it). (The sorted() function shown later is preferred.)|\n",
    "|list.reverse()|reverses the list in place (does not return it)|\n",
    "|list.pop(index)|removes and returns the element at the given index. Returns the rightmost element if index is omitted (roughly the opposite of append()).|\n",
    "\n",
    "__Examples:__\n",
    "```python\n",
    "teams = ['Cowboys','Redskins','Eagles','Giants','Dolphins']\n",
    "teams2 = ['Raiders', 'Seahawks', 'Vikings']\n",
    "\n",
    "teams.append('Falcons')            # ['Cowboys', 'Redskins', 'Eagles', 'Giants', 'Dolphins', 'Falcons']\n",
    "\n",
    "teams.insert(2,'Steelers')         # ['Cowboys', 'Redskins', 'Steelers', 'Eagles', 'Giants', 'Dolphins', 'Falcons']\n",
    "\n",
    "teams.extend(teams2)               # ['Cowboys', 'Redskins', 'Steelers', 'Eagles', 'Giants', 'Dolphins', 'Falcons', 'Raiders', 'Seahawks', 'Vikings']\n",
    "\n",
    "teams.index('Giants')              # 4\n",
    "\n",
    "teams.remove('Steeler')            # ['Cowboys', 'Redskins', 'Eagles', 'Giants', 'Dolphins', 'Falcons', 'Raiders', 'Seahawks', 'Vikings']\n",
    "\n",
    "teams.sort()   #  does not return the list but list is altered as follows ['Cowboys', 'Dolphins', 'Eagles', 'Falcons', 'Giants', 'Raiders', 'Redskins', 'Seahawks', 'Vikings']\n",
    "\n",
    "teams.reverse()  #  does not return the list but list is altered as follows ['Vikings', 'Seahawks', 'Redskins', 'Raiders', 'Giants', 'Falcons', 'Eagles', 'Dolphins', 'Cowboys']\n",
    "\n",
    "teams.pop(2)                       # removes Redskinds ['Vikings', 'Seahawks', 'Raiders', 'Giants', 'Falcons', 'Eagles', 'Dolphins', 'Cowboys']\n",
    "\n",
    "```"
   ]
  },
  {
   "cell_type": "markdown",
   "metadata": {},
   "source": [
    "### _Try / except control with list.remove()_\n",
    "Attempting to remove a list element that doesn’t exists in the list will throw exception.  \n",
    "\n",
    "Therefore before calling list.remove() we should either,\n",
    "\n",
    "Check if element exists in list i.e."
   ]
  },
  {
   "cell_type": "code",
   "execution_count": 133,
   "metadata": {},
   "outputs": [
    {
     "name": "stdout",
     "output_type": "stream",
     "text": [
      "['Cowboys', 'Eagles', 'Giants', 'Dolphins']\n"
     ]
    }
   ],
   "source": [
    "# Check if element exist in List, before removing\n",
    "\n",
    "teams = ['Cowboys','Redskins','Eagles','Giants','Dolphins']\n",
    "\n",
    "if 'Redskins' in teams:\n",
    "    teams.remove('Redskins')\n",
    "else:\n",
    "    print(\"Given Element Not Found in List\")\n",
    "print ( teams )     "
   ]
  },
  {
   "cell_type": "markdown",
   "metadata": {},
   "source": [
    "Or use try / except i.e."
   ]
  },
  {
   "cell_type": "code",
   "execution_count": 132,
   "metadata": {},
   "outputs": [
    {
     "name": "stdout",
     "output_type": "stream",
     "text": [
      "Given Element Not Found in List\n"
     ]
    }
   ],
   "source": [
    "# If given element doesn't exists in list, then remove() can throw Error\n",
    "# Therefore use try / except while calling list.remove()\n",
    "try :\n",
    "    teams.remove('Patriots')\n",
    "except ValueError:\n",
    "    print(\"Given Element Not Found in List\")\n"
   ]
  },
  {
   "cell_type": "markdown",
   "metadata": {},
   "source": [
    "### _list concatenation_  \n",
    "See extend method above for another way to concatenate strings "
   ]
  },
  {
   "cell_type": "code",
   "execution_count": 131,
   "metadata": {},
   "outputs": [
    {
     "name": "stdout",
     "output_type": "stream",
     "text": [
      "['Cowboys', 'Redskins', 'Eagles', 'Giants', 'Dolphins', 'Raiders', 'Seahawks', 'Vikings']\n"
     ]
    }
   ],
   "source": [
    "teams = ['Cowboys','Redskins','Eagles','Giants','Dolphins']  \n",
    "teams2 = ['Raiders', 'Seahawks', 'Vikings']  \n",
    "\n",
    "\n",
    "teams = teams + teams2\n",
    "print(teams) "
   ]
  },
  {
   "cell_type": "markdown",
   "metadata": {},
   "source": [
    "### _list `in` and `not in`_   \n",
    "Examples:"
   ]
  },
  {
   "cell_type": "code",
   "execution_count": 130,
   "metadata": {},
   "outputs": [
    {
     "name": "stdout",
     "output_type": "stream",
     "text": [
      "True\n",
      "False\n",
      "True\n",
      "False\n"
     ]
    }
   ],
   "source": [
    "teams = ['Cowboys','Redskins','Eagles','Giants','Dolphins']    \n",
    "teams2 = ['Raiders', 'Seahawks', 'Vikings']    \n",
    "\n",
    "print ( 'Cowboys' in teams )       # True\n",
    "print ( 'Raiders' in teams )       # False\n",
    "\n",
    "print ( 'Raiders' not in teams )   # True\n",
    "print ( 'Eagles' not in teams )    # False"
   ]
  },
  {
   "cell_type": "markdown",
   "metadata": {},
   "source": [
    "### _slicing a list_\n",
    "The slice() constructor creates a slice object representing the set of indices specified by range(start, stop, step).\n",
    "\n",
    "slice() mainly takes three parameters which have the same meaning in both constructs:\n",
    "\n",
    " - start - starting integer where the slicing of the object starts\n",
    " - stop - integer until which the slicing takes place. The slicing stops at index stop - 1.\n",
    " - step - integer value which determines the increment between each index for slicing  \n",
    "If a single parameter is passed, start and step are set to None.\n",
    "\n",
    "Examples:"
   ]
  },
  {
   "cell_type": "code",
   "execution_count": 127,
   "metadata": {},
   "outputs": [
    {
     "name": "stdout",
     "output_type": "stream",
     "text": [
      "['Redskins', 'Eagles', 'Giants']\n",
      "['Cowboys', 'Eagles', 'Dolphins', 'Seahawks']\n"
     ]
    }
   ],
   "source": [
    "teams = ['Cowboys','Redskins','Eagles','Giants','Dolphins','Raiders', 'Seahawks', 'Vikings']    \n",
    "\n",
    "print ( teams[1:4] )                  # ['Redskins', 'Eagles', 'Giants']\n",
    " \n",
    "print ( teams[0:len(teams):2] )       # ['Cowboys', 'Eagles', 'Dolphins', 'Seahawks']"
   ]
  },
  {
   "cell_type": "markdown",
   "metadata": {},
   "source": [
    "### _difference between \"for i in list\" and \"for i in range(len(list))_  \n",
    "`i in list` returns the values of each element in the list  \n",
    "`i in range` returns the index values of each element in the list  \n",
    "\n",
    "Examples:"
   ]
  },
  {
   "cell_type": "code",
   "execution_count": 125,
   "metadata": {},
   "outputs": [
    {
     "name": "stdout",
     "output_type": "stream",
     "text": [
      "Cowboys\n",
      "Redskins\n",
      "Eagles\n",
      "Giants\n",
      "Dolphins\n",
      "Raiders\n",
      "Seahawks\n",
      "Vikings\n"
     ]
    }
   ],
   "source": [
    "teams = ['Cowboys','Redskins','Eagles','Giants','Dolphins','Raiders', 'Seahawks', 'Vikings']    \n",
    "\n",
    "for name in teams:\n",
    "    print ( name )"
   ]
  },
  {
   "cell_type": "code",
   "execution_count": 126,
   "metadata": {},
   "outputs": [
    {
     "name": "stdout",
     "output_type": "stream",
     "text": [
      "0\n",
      "1\n",
      "2\n",
      "3\n",
      "4\n",
      "5\n",
      "6\n",
      "7\n"
     ]
    }
   ],
   "source": [
    "for name in range(len(teams)):\n",
    "    print ( name )"
   ]
  },
  {
   "cell_type": "markdown",
   "metadata": {},
   "source": [
    "### _list comparisons_  \n",
    "programatically you can compare this way\n",
    "```python\n",
    "teams = ['Cowboys','Redskins','Eagles','Giants','Dolphins']    \n",
    "teams2 = ['Raiders', 'Seahawks', 'Vikings']    \n",
    "teams3 = teams + ['Vikings']\n",
    "for name in teams:\n",
    "    for otherName in teams2:\n",
    "        if name == otherName:\n",
    "            print(name, otherName)\n",
    "```\n",
    "    returns:\n",
    "        nothing\n",
    "```python\n",
    "for name in teams2:\n",
    "    for otherName in teams3:\n",
    "        if name == otherName:\n",
    "            print(name)   \n",
    "```\n",
    "    returns:\n",
    "        Vikings\n",
    "            \n",
    "The use of Python Sets makes it easier:\n",
    "```python\n",
    "set(teams2).intersection(teams3)\n",
    "```\n",
    "    returns:\n",
    "        Vikings"
   ]
  },
  {
   "cell_type": "markdown",
   "metadata": {},
   "source": [
    "### _list sorted_\n",
    "\n",
    "The easiest way to sort is with the sorted(list) function, which takes a list and returns a new list with those elements in sorted order. The original list is not changed."
   ]
  },
  {
   "cell_type": "code",
   "execution_count": 2,
   "metadata": {},
   "outputs": [
    {
     "name": "stdout",
     "output_type": "stream",
     "text": [
      "[1, 3, 4, 5]\n",
      "[5, 1, 4, 3]\n"
     ]
    }
   ],
   "source": [
    "a = [5, 1, 4, 3]\n",
    "print ( sorted(a) )    ## [1, 3, 4, 5]\n",
    "print ( a )            ## [5, 1, 4, 3]"
   ]
  },
  {
   "cell_type": "markdown",
   "metadata": {},
   "source": [
    "It's most common to pass a list into the sorted() function, but in fact it can take as input any sort of iterable collection. The older list.sort() method is an alternative detailed below. The sorted() function seems easier to use compared to sort(), so I recommend using sorted().\n",
    "\n",
    "The sorted() function can be customized through optional arguments. The sorted() optional argument reverse=True, e.g. sorted(list, reverse=True), makes it sort backwards."
   ]
  },
  {
   "cell_type": "code",
   "execution_count": 3,
   "metadata": {},
   "outputs": [
    {
     "name": "stdout",
     "output_type": "stream",
     "text": [
      "['BB', 'CC', 'aa', 'zz']\n",
      "['zz', 'aa', 'CC', 'BB']\n"
     ]
    }
   ],
   "source": [
    "strs = ['aa', 'BB', 'zz', 'CC']\n",
    "print ( sorted(strs) )                ## ['BB', 'CC', 'aa', 'zz'] (case sensitive)\n",
    "print ( sorted(strs, reverse=True) )  ## ['zz', 'aa', 'CC', 'BB']"
   ]
  },
  {
   "cell_type": "markdown",
   "metadata": {},
   "source": [
    "#### __Good to know__\n",
    "-  lists are heterogeneous (elements don't have to be all the same type)\n",
    "-  have direct (or random) access (can refer to any element without having to access the others before it)\n",
    "-  don't have to stay the same size all the time - can get larger or smaller\n",
    "-  mutable - their elements can be changed\n"
   ]
  },
  {
   "cell_type": "markdown",
   "metadata": {},
   "source": [
    "***\n",
    "## _Try / except control structure_\n",
    "\n",
    "As we saw earlier Python can give error messages under certain conditions. This is known as raising an exception and Python's default behaviour is to halt execution. \n",
    "\n",
    "In some cases we may be able to manage the error and still continue. This is known as exception handling and is achieved using `try ... except clauses`,\n",
    "```python\n",
    "arr = [1,2,3,4,5]\n",
    "# loop through the elements + 1 to throw an erro\n",
    "for i in range(6):\n",
    "    try:\n",
    "        val = arr[i]\n",
    "        print(str(val))\n",
    "    except IndexError:\n",
    "        print('Error: List index out of range, leaving loop')\n",
    "        break\n",
    "```\n",
    "If an exception is raised then the code immediately jumps to the nearest `except` block. The output of the above code block is:  \n",
    "    Output:  \n",
    "        1  \n",
    "        2  \n",
    "        3  \n",
    "        4  \n",
    "        5  \n",
    "        Error: List index out of range, leaving loop  \n",
    "\n",
    "As with other control structures there is an extra `else` clause that can be added which will only be executed if no error was raised,  \n",
    "```python\n",
    "arr = [1,2,3,4,5]\n",
    "value = 0\n",
    "try:\n",
    "   value = arr[5]\n",
    "except IndexError:\n",
    "   print('5 is not a valid array index')\n",
    "else:\n",
    "   print('6th element is ' + str(value))\n",
    "```\n",
    "    Output:  \n",
    "        5 is not a valid array index  \n",
    "\n",
    "With a `try...except...else` structure only one of the except/else clauses will ever be executed. In some circumstances however it is necessary to perform some operation, maybe a clean up, regardless of whether an exception was raised. This is done with a `try...except...finally` structure,  \n",
    "```python\n",
    "value = 0\n",
    "arr = [1,2,3,4]\n",
    "element = 6\n",
    "try:\n",
    "    value = arr[element]\n",
    "except IndexError:\n",
    "    print(str(element) + ' is not a valid array index')\n",
    "else:\n",
    "    print(str(element + 1 ) + 'th element is ' + str(value))\n",
    "finally:\n",
    "    print('Entered finally clause, do cleanup ...')\n",
    "```\n",
    "    Output:  \n",
    "        6 is not a valid array index  \n",
    "        Entered finally clause, do cleanup ...   \n",
    "\n",
    "Changing the value of the element variable between valid/invalid values will show that one of the `except/else` clauses gets executed and then the `finally` clause always gets executed.  \n",
    "\n",
    "It is also possible to catch exceptions of any type by leaving off the specific error that is to be caught. This is however not recommended as then it is not possible to say exactly what error occurred\n",
    "```python\n",
    "value = 0\n",
    "arr = [1,2,3,4]\n",
    "element = 6\n",
    "try:\n",
    "    value = arr[element]\n",
    "except:     # Catch everything\n",
    "    print(\"Something went wrong but I don't know what\")\n",
    "```\n",
    "    Output:  \n",
    "        Something went wrong but I don't know what  "
   ]
  },
  {
   "cell_type": "markdown",
   "metadata": {},
   "source": [
    "### _Python Standard Exceptions_\n",
    "\n",
    "|Exception Name|Description|\n",
    "|----------------------|----------------------------------------------------|\n",
    "|Exception|Base class for all exceptions|\n",
    "|StopIteration|Raised when the next() method of an iterator does not point to any object.|\n",
    "|SystemExit|Raised by the sys.exit() function.|\n",
    "|StandardError|Base class for all built-in exceptions except StopIteration and SystemExit.|\n",
    "|ArithmeticError|Base class for all errors that occur for numeric calculation.|\n",
    "|OverflowError|Raised when a calculation exceeds maximum limit for a numeric type.|\n",
    "|FloatingPointError|Raised when a floating point calculation fails.|\n",
    "|ZeroDivisionError|Raised when division or modulo by zero takes place for all numeric types.|\n",
    "|AssertionError|Raised in case of failure of the Assert statement.|\n",
    "|AttributeError|Raised in case of failure of attribute reference or assignment.|\n",
    "|EOFError|Raised when there is no input from either the raw_input() or input() function and the end of file is reached.|\n",
    "|ImportError|Raised when an import statement fails.|\n",
    "|KeyboardInterrupt|Raised when the user interrupts program execution, usually by pressing Ctrl+c.|\n",
    "|LookupError|Base class for all lookup errors.|\n",
    "|IndexError|Raised when an index is not found in a sequence.|\n",
    "|KeyError|Raised when the specified key is not found in the dictionary.|\n",
    "|NameError|Raised when an identifier is not found in the local or global namespace.|\n",
    "|UnboundLocalError|Raised when trying to access a local variable in a function or method but no value has been assigned to it.\n",
    "|EnvironmentError|Base class for all exceptions that occur outside the Python environment.|\n",
    "|IOError|Raised when an input/ output operation fails, such as the print statement or the open() function when trying to open a file that does not exist.|\n",
    "|OSError|Raised for operating system-related errors.|\n",
    "|SyntaxError|Raised when there is an error in Python syntax.|\n",
    "|IndentationError|Raised when indentation is not specified properly.|\n",
    "|SystemError|Raised when the interpreter finds an internal problem, but when this error is encountered the Python interpreter does not exit.|\n",
    "|SystemExit|Raised when Python interpreter is quit by using the sys.exit() function. If not handled in the code, causes the interpreter to exit.|\n",
    "|TypeError|Raised when an operation or function is attempted that is invalid for the specified data type.|\n",
    "|ValueError|Raised when the built-in function for a data type has the valid type of arguments, but the arguments have invalid values specified.|\n",
    "|RuntimeError|Raised when a generated error does not fall into any category.|\n",
    "|NotImplementedError|Raised when an abstract method that needs to be implemented in an inherited class is not actually implemented.|"
   ]
  },
  {
   "cell_type": "markdown",
   "metadata": {},
   "source": [
    "***\n",
    "## _file handling_\n",
    "\n",
    "The data used to test the previous program axamples are stored in random access memory (RAM). RAM is fast and inexpensive, but it is also volatile, which means that when the program ends, or you shut down your computer, then these data inside the RAM is going to disappear. This is not a proper solution to deal with daily life problems.  \n",
    "\n",
    "Programs that solve real life problems generate data that needs to be saved so the data is available the next time the computer is turned on and the program is started. To do this data has to be written to a non-volatile storage medium, such a hard drive, USB drive, etc. Each data has to be organized and independent of other data; this can be accomplished using files.\n",
    "\n"
   ]
  },
  {
   "cell_type": "markdown",
   "metadata": {},
   "source": [
    "_`Three main operations` that can be done over a file._\n",
    " - `Read` data from a file.  \n",
    " - `Add` some data to the end of an existing file.  \n",
    " - `Wipe (Delete)` the content of a file.  \n",
    " \n",
    "In all of these three operations, there are three main processes to follow.      \n",
    " - Open a file and detemine determine which operation you are going to do with it.  \n",
    " - Read/Add/Write data from/to a file based on the operation you chose in the previous step.  \n",
    " - Close the file.\n",
    " \n",
    "The key function for working with files in Python is the open() function.\n",
    "\n",
    "The open() function takes two parameters; filename, and mode.\n",
    "\n",
    "There are four different methods (modes) for opening a file:\n",
    "\n",
    "    \"r\" - Read - Default value. Opens a file for reading, error if the file does not exist\n",
    "\n",
    "    \"a\" - Append - Opens a file for appending, creates the file if it does not exist\n",
    "\n",
    "    \"w\" - Write - Opens a file for writing, creates the file if it does not exist\n",
    "\n",
    "    \"x\" - Create - Creates the specified file, returns an error if the file exists\n",
    "\n",
    "In addition you can specify if the file should be handled as binary or text mode\n",
    "\n",
    "    \"t\" - Text - Default value. Text mode\n",
    "\n",
    "    \"b\" - Binary - Binary mode (e.g. images)\n",
    "    \n",
    "\n",
    "Because \"r\" for read, and \"t\" for text are the default values, you do not need to specify them."
   ]
  },
  {
   "cell_type": "markdown",
   "metadata": {},
   "source": [
    "__Open()__  \n",
    "The open() function is used to open files in our system, the filename is the\n",
    "name of the file to be opened.  \n",
    "\n",
    "The open function takes two arguments, the name of the file and and the mode\n",
    "for which we would like to open the file.  \n",
    "\n",
    "By default, when only the filename is passed, the open function opens the file\n",
    "in read mode.  \n",
    "\n",
    "Example\n",
    "This small script, will open the (hello.txt) and print the content. \n",
    "\n",
    "This will store the file information in the file object \"filename\".  \n",
    "```python\n",
    "filename = \"hello.txt\"\n",
    "file = open(filename, \"r\")\n",
    "for line in file:\n",
    "   print line\n",
    "```\n",
    "__Read ()__  \n",
    "The read functions contains different methods, `read()`,`readline()` and `readlines()`  \n",
    "\n",
    "| Method of read| Result|  \n",
    "|----------|--------------------------|  \n",
    "|read()|return one big string|  \n",
    "|readline|return one line at a time|  \n",
    "|readlines|returns a list of lines|  \n",
    "\n",
    "To read a text file, use:  \n",
    "```python  \n",
    "fh = open(\"hello.txt\",\"r\")\n",
    "print fh.read()\n",
    "``` \n",
    "To read one line at a time, use:  \n",
    "```python  \n",
    "fh = open(\"hello\".txt\", \"r\")\n",
    "print fh.readline()\n",
    "```\n",
    "To read a list of lines use:  \n",
    "```python  \n",
    "fh = open(\"hello.txt.\", \"r\")\n",
    "print fh.readlines()\n",
    "```  \n",
    "__Write ()__  \n",
    "This method writes a sequence of strings to the file.  \n",
    "\n",
    "| Method of read| Result|  \n",
    "|----------|--------------------------|  \n",
    "|write ()|Used to write a fixed sequence of characters to a file|  \n",
    "|writelines()|writelines can write a list of strings|  \n",
    "\n",
    "use write() method  \n",
    "```python\n",
    "fh = open(\"hello.txt\",\"w\")\n",
    "write(\"Hello World\")\n",
    "fh.close() \n",
    "```  \n",
    "use writelines() method  \n",
    "```python\n",
    "fh = open(\"hello.txt\", \"w\")\n",
    "lines_of_text = [\"a line of text\", \"another line of text\", \"a third line\"]\n",
    "fh.writelines(lines_of_text)\n",
    "fh.close()\n",
    "```  \n",
    "__Append ()__  \n",
    "The append function is used to append to the file instead of overwriting it.\n",
    "\n",
    "To append to an existing file, simply open the file in `append mode (\"a\")`:  \n",
    "```python\n",
    "fh = open(\"Hello.txt\", \"a\")\n",
    "write(\"Hello World again\")\n",
    "fh.close()\n",
    "``` \n",
    "Close()\n",
    "When you’re done with a file, use close() to close it and free up any system\n",
    "resources taken up by the open file.  \n",
    "\n",
    "To close a file, use:  \n",
    "```python\n",
    "fh = open(\"hello.txt\", \"r\")\n",
    "print fh.read()\n",
    "fh.close()\n",
    "```"
   ]
  },
  {
   "cell_type": "markdown",
   "metadata": {},
   "source": [
    "## _file system -- os, os.path, shutil_\n",
    "The `os` and `os.path` modules include many functions to interact with the file system. The *shutil* module can copy files.\n",
    "\n",
    "    The filenames are just the names in the directory, not their absolute paths.\n",
    "    \n",
    "    os.path.join(dir, filename) -- given a filename from the above list, use this to put the dir and filename together to make a path\n",
    "    os.path.abspath(path) -- given a path, return an absolute form, e.g. /home/nick/foo/bar.html\n",
    "    os.path.dirname(path), os.path.basename(path) -- given dir/foo/bar.html, return the dirname \"dir/foo\" and basename \"bar.html\"\n",
    "    os.path.exists(path) -- true if it exists\n",
    "    os.mkdir(dir_path) -- makes one dir, os.makedirs(dir_path) makes all the needed dirs in this path\n",
    "    shutil.copy(source-path, dest-path) -- copy a file (dest path directories should exist)"
   ]
  },
  {
   "cell_type": "code",
   "execution_count": 55,
   "metadata": {},
   "outputs": [
    {
     "data": {
      "text/plain": [
       "'/Users/mark/Documents/mapping/map674/tips-tricks'"
      ]
     },
     "execution_count": 55,
     "metadata": {},
     "output_type": "execute_result"
    }
   ],
   "source": [
    "dir = os.getcwd() \n",
    "dir"
   ]
  },
  {
   "cell_type": "code",
   "execution_count": 58,
   "metadata": {},
   "outputs": [
    {
     "name": "stdout",
     "output_type": "stream",
     "text": [
      "['markdown-tips-tricks.ipynb', 'bash-command-reference.md', 'python101.ipynb', 'pandas-quick-reference.md', 'python101.html', 'rivers_toxic_inventory.html', '.DS_Store', 'images', 'shapes', 'README.md', 'jupyter-shortcuts.ipynb', 'Python_Study_Guide.ipynb', '.gitignore', 'colormap-reference-cmap.ipynb', 'understanding-missing-data-using-missingno-and-pandas-summary.ipynb', '.ipynb_checkpoints', 'rivers_toxic_inventory.ipynb', '.git', 'understanding-matplotlib.ipynb', 'data', 'checkout-basemap-shapely-descartes.ipynb', 'geopandas-101.ipynb', 'cleaning-data-overview.md']\n"
     ]
    }
   ],
   "source": [
    "filenames = os.listdir(dir)        # list of filenames in that directory path (not including . and ..).   \n",
    "print ( filenames )                # print the current working directory"
   ]
  },
  {
   "cell_type": "markdown",
   "metadata": {},
   "source": [
    "### _check if file/folder exist - delete if exist:_\n",
    "To avoid getting an error, you might want to check if the file exist before you try to delete it:\n"
   ]
  },
  {
   "cell_type": "code",
   "execution_count": 60,
   "metadata": {},
   "outputs": [
    {
     "name": "stdout",
     "output_type": "stream",
     "text": [
      "The file does not exist\n"
     ]
    }
   ],
   "source": [
    "import os\n",
    "if os.path.exists(\"demofile.txt\"):\n",
    "  os.remove(\"demofile.txt\")\n",
    "else:\n",
    "  print(\"The file does not exist\")"
   ]
  },
  {
   "cell_type": "code",
   "execution_count": 63,
   "metadata": {},
   "outputs": [
    {
     "name": "stdout",
     "output_type": "stream",
     "text": [
      "The folder does not exist\n"
     ]
    }
   ],
   "source": [
    "import os\n",
    "# delete an entire folder\n",
    "if os.path.exists(\"demofile.txt\"):\n",
    "    os.rmdir(\"myfolder\")\n",
    "else:\n",
    "  print(\"The folder does not exist\")\n",
    "#Note: You can only remove empty folders. "
   ]
  },
  {
   "cell_type": "code",
   "execution_count": null,
   "metadata": {},
   "outputs": [],
   "source": [
    "print ( os )\n",
    "print ( os.path )"
   ]
  },
  {
   "cell_type": "markdown",
   "metadata": {},
   "source": [
    "***\n",
    "## _looping_  \n",
    "#### __loop through a list__   "
   ]
  },
  {
   "cell_type": "code",
   "execution_count": 103,
   "metadata": {},
   "outputs": [
    {
     "name": "stdout",
     "output_type": "stream",
     "text": [
      "john\n",
      "raj\n",
      "lisa\n"
     ]
    }
   ],
   "source": [
    "names = [\"john\", \"raj\", \"lisa\"]\n",
    "for i in names:\n",
    "  print(i)"
   ]
  },
  {
   "cell_type": "markdown",
   "metadata": {},
   "source": [
    "#### __default range__ "
   ]
  },
  {
   "cell_type": "code",
   "execution_count": 104,
   "metadata": {},
   "outputs": [
    {
     "name": "stdout",
     "output_type": "stream",
     "text": [
      "0\n",
      "1\n",
      "2\n",
      "3\n",
      "4\n"
     ]
    }
   ],
   "source": [
    "for i in range(5):   # loops from 0-4\n",
    " print(i)"
   ]
  },
  {
   "cell_type": "markdown",
   "metadata": {},
   "source": [
    "#### __custom start and end numbers__  "
   ]
  },
  {
   "cell_type": "code",
   "execution_count": 105,
   "metadata": {},
   "outputs": [
    {
     "name": "stdout",
     "output_type": "stream",
     "text": [
      "1\n",
      "2\n",
      "3\n",
      "4\n",
      "5\n"
     ]
    }
   ],
   "source": [
    "for i in range(1,6): # loops from 1-5\n",
    "  print(i)"
   ]
  },
  {
   "cell_type": "markdown",
   "metadata": {},
   "source": [
    "#### __loop with incremental numbers__  \n",
    "\n",
    "range(1,6,2) – will print 1,3 and 5  \n",
    "\n",
    "range(1,5,2) – will print only 1 and 3  "
   ]
  },
  {
   "cell_type": "code",
   "execution_count": 111,
   "metadata": {},
   "outputs": [
    {
     "name": "stdout",
     "output_type": "stream",
     "text": [
      "1\n",
      "3\n",
      "5\n",
      "\n",
      "\n",
      "1\n",
      "3\n"
     ]
    }
   ],
   "source": [
    "for i in range(1,6,2):\n",
    "  print(i)\n",
    "print('\\n')\n",
    "for i in range(1,5,2):\n",
    "  print(i)"
   ]
  },
  {
   "cell_type": "markdown",
   "metadata": {},
   "source": [
    "#### __loop range with negative numbers__  \n",
    "This example uses negative numbers for end-value (-5) and increment-value (-2)  "
   ]
  },
  {
   "cell_type": "code",
   "execution_count": 112,
   "metadata": {},
   "outputs": [
    {
     "name": "stdout",
     "output_type": "stream",
     "text": [
      "4\n",
      "2\n",
      "0\n",
      "-2\n",
      "-4\n"
     ]
    }
   ],
   "source": [
    "for i in range(4,-5,-2):\n",
    "  print(i)"
   ]
  },
  {
   "cell_type": "markdown",
   "metadata": {},
   "source": [
    "#### __continue statement inside for loop__  "
   ]
  },
  {
   "cell_type": "code",
   "execution_count": 113,
   "metadata": {},
   "outputs": [
    {
     "name": "stdout",
     "output_type": "stream",
     "text": [
      "lisa\n",
      "lisa\n",
      "--end--\n"
     ]
    }
   ],
   "source": [
    "names = [\"john\", \"lisa\", \"raj\", \"lisa\"]\n",
    "for i in names:\n",
    "  if i != \"lisa\":\n",
    "    continue\n",
    "  print(i)\n",
    "print(\"--end--\")"
   ]
  },
  {
   "cell_type": "markdown",
   "metadata": {},
   "source": [
    "#### __break statement inside loop__  "
   ]
  },
  {
   "cell_type": "code",
   "execution_count": 114,
   "metadata": {},
   "outputs": [
    {
     "name": "stdout",
     "output_type": "stream",
     "text": [
      "john\n",
      "lisa\n",
      "--end--\n"
     ]
    }
   ],
   "source": [
    "names = [\"john\", \"lisa\", \"raj\", \"lisa\"]\n",
    "for i in names:\n",
    "  if i == \"raj\":\n",
    "    break\n",
    "  print(i)\n",
    "print(\"--end--\")"
   ]
  },
  {
   "cell_type": "markdown",
   "metadata": {},
   "source": [
    "#### __loop with else__  \n",
    "anything inside the else-block for the for-loop will get executed when the for statement fails "
   ]
  },
  {
   "cell_type": "code",
   "execution_count": 116,
   "metadata": {},
   "outputs": [
    {
     "name": "stdout",
     "output_type": "stream",
     "text": [
      "john\n",
      "raj\n",
      "lisa\n",
      "for loop condition failed!\n"
     ]
    }
   ],
   "source": [
    "names = [\"john\", \"raj\", \"lisa\"]\n",
    "for i in names:\n",
    "  print(i)\n",
    "else:\n",
    "  print(\"for loop condition failed!\")"
   ]
  },
  {
   "cell_type": "markdown",
   "metadata": {},
   "source": [
    "#### __else and break combination__  "
   ]
  },
  {
   "cell_type": "code",
   "execution_count": 117,
   "metadata": {},
   "outputs": [
    {
     "name": "stdout",
     "output_type": "stream",
     "text": [
      "john\n",
      "lisa\n",
      "--end--\n"
     ]
    }
   ],
   "source": [
    "names = [\"john\", \"lisa\", \"raj\", \"lisa\"]\n",
    "for i in names:\n",
    "  if i == \"raj\":\n",
    "    break\n",
    "  print(i)\n",
    "else:\n",
    "  print(\"for loop condition failed!\")\n",
    "print(\"--end--\")"
   ]
  },
  {
   "cell_type": "markdown",
   "metadata": {},
   "source": [
    "#### __nested loops__  "
   ]
  },
  {
   "cell_type": "code",
   "execution_count": 118,
   "metadata": {},
   "outputs": [
    {
     "name": "stdout",
     "output_type": "stream",
     "text": [
      "centos 32-bit\n",
      "centos 64-bit\n",
      "-----------\n",
      "redhat 32-bit\n",
      "redhat 64-bit\n",
      "-----------\n",
      "ubuntu 32-bit\n",
      "ubuntu 64-bit\n",
      "-----------\n"
     ]
    }
   ],
   "source": [
    "distros = [\"centos\", \"redhat\", \"ubuntu\"]\n",
    "arch = [\"32-bit\", \"64-bit\"]\n",
    "for i in distros:\n",
    "  for j in arch:\n",
    "    print(i + \" \" + j)\n",
    "  print(\"-----------\")"
   ]
  },
  {
   "cell_type": "markdown",
   "metadata": {},
   "source": [
    "#### __list of list looping__  "
   ]
  },
  {
   "cell_type": "code",
   "execution_count": 119,
   "metadata": {},
   "outputs": [
    {
     "name": "stdout",
     "output_type": "stream",
     "text": [
      "CA\n",
      "NV\n",
      "UT\n",
      "NJ\n",
      "NY\n",
      "DE\n"
     ]
    }
   ],
   "source": [
    "multiple_state_lists = [ [\"CA\",\"NV\",\"UT\"], [\"NJ\",\"NY\",\"DE\"] ]\n",
    "for state_list in multiple_state_lists:\n",
    "  for state in state_list:\n",
    "    print(state)"
   ]
  },
  {
   "cell_type": "code",
   "execution_count": null,
   "metadata": {},
   "outputs": [],
   "source": []
  },
  {
   "cell_type": "markdown",
   "metadata": {},
   "source": [
    "## _while loop_  \n",
    "The while loop executes a set of statements as long as a condition is true.  "
   ]
  },
  {
   "cell_type": "code",
   "execution_count": 100,
   "metadata": {},
   "outputs": [
    {
     "name": "stdout",
     "output_type": "stream",
     "text": [
      "1\n",
      "2\n",
      "3\n",
      "4\n",
      "5\n"
     ]
    }
   ],
   "source": [
    "# Print i as long as i is less than 6:\n",
    "i = 1\n",
    "while i < 6:\n",
    "  print(i)\n",
    "  i += 1"
   ]
  },
  {
   "cell_type": "markdown",
   "metadata": {},
   "source": [
    "Note: `remember to increment i`, or else the loop will continue forever.  \n",
    "\n",
    "The while loop requires relevant variables to be ready, in the above example we need to define an indexing variable, i, which we set to 1.  \n",
    "\n",
    "#### __break statement inside while loop__  \n",
    "With the break statement we can stop the loop even if the while condition is true:  "
   ]
  },
  {
   "cell_type": "code",
   "execution_count": 101,
   "metadata": {},
   "outputs": [
    {
     "name": "stdout",
     "output_type": "stream",
     "text": [
      "1\n",
      "2\n",
      "3\n"
     ]
    }
   ],
   "source": [
    "# Exit the loop when i is 3:\n",
    "i = 1\n",
    "while i < 6:\n",
    "  print(i)\n",
    "  if i == 3:\n",
    "    break\n",
    "  i += 1"
   ]
  },
  {
   "cell_type": "markdown",
   "metadata": {},
   "source": [
    "#### __continue statement inside while loop__  \n",
    "With the continue statement we can stop the current iteration, and continue with the next:"
   ]
  },
  {
   "cell_type": "code",
   "execution_count": 102,
   "metadata": {},
   "outputs": [
    {
     "name": "stdout",
     "output_type": "stream",
     "text": [
      "1\n",
      "2\n",
      "4\n",
      "5\n",
      "6\n"
     ]
    }
   ],
   "source": [
    "# Continue to the next iteration if i is 3:\n",
    "i = 0\n",
    "while i < 6:\n",
    "  i += 1 \n",
    "  if i == 3:\n",
    "    continue\n",
    "  print(i)"
   ]
  },
  {
   "cell_type": "code",
   "execution_count": 98,
   "metadata": {},
   "outputs": [
    {
     "name": "stdout",
     "output_type": "stream",
     "text": [
      "1\n",
      "2\n",
      "4\n",
      "5\n",
      "6\n"
     ]
    }
   ],
   "source": [
    "i = 1\n",
    "while i < 6:\n",
    "  print(i)\n",
    "  if i == 3:\n",
    "    break\n",
    "  i += 1"
   ]
  },
  {
   "cell_type": "markdown",
   "metadata": {},
   "source": [
    "## _if...elif...else statement_\n",
    "\n",
    "__What are Conditions?__   \n",
    "Conditions tests if a something is True or False, and it uses Boolean values (type bool) to check that.   \n",
    "\n",
    "Conditions are either True or False (with no quotes!).  \n",
    "2 < 5         # output: True\n",
    "3 > 7         # output: False\n",
    "\n",
    "x = 11      \n",
    "x > 10        # output: True\n",
    "\n",
    "2 * x < x     # output: False\n",
    "\n",
    "type(True)    # output: bool\n",
    "\n",
    "The results of these tests decides what happens next.   \n",
    "\n",
    "__When to use a Condition?__  \n",
    "If you want to check if the user typed in the right word or to see if a number is higher / lower than 100.   \n",
    "\n",
    "__Syntax Explained__ \n",
    "\n",
    "`Rememeber, to indicate a block of code in Python, you must indent each line of the block by the same amount. `   \n",
    "\n",
    "__if ...else__   \n",
    "```python\n",
    "    if condition:\n",
    "        statements\n",
    "\n",
    "    elif condition:\n",
    " statements\n",
    "\n",
    "    else:\n",
    " statements\n",
    "```\n",
    "\n",
    "`If, elif and else` are `keywords` in Python.\n",
    "\n",
    "The `colon (:)` at the end of the if line is `required`. \n",
    "\n",
    "Statements are `instructions` to follow if the condition is true. \n",
    "\n",
    "These statements must be `indented` and is only being run when the if condition is met. \n",
    "\n",
    "Typical conditions are: `xy, x<=y, x>=y, x!=y and x==y`. \n",
    "\n",
    "If you want more choices, you will have to include at least two conditions . \n",
    "\n",
    "The \"else\" `MUST` be preceded by an if test and will `ONLY` run when condition of the if statement is `NOT` met. \n",
    "\n",
    "`else` will run if all others fail. \n",
    "\n",
    "If you only have two choices in your construction, use `if ..else` \n",
    "\n",
    "If there are more than two options, use `if ..elif ..else..` that will make it easier to read\n",
    "\n",
    "`elif` is short for `\"else if\"`\n",
    "\n",
    "__Conditional Tests__ \n",
    "An If statement sets a condition with one or more if statement that will be used when a condition is met.\n",
    "\n",
    "There can be zero or more elif parts, and the else part is optional. \n",
    "\n",
    "The keyword 'elif' is short for 'else if', and is useful to avoid excessive\n",
    "indentation.\n",
    "\n",
    "An `if ... elif ... elif ...` sequence is a substitute for the `switch or case` statements found in other languages."
   ]
  },
  {
   "cell_type": "code",
   "execution_count": 123,
   "metadata": {},
   "outputs": [
    {
     "name": "stdin",
     "output_type": "stream",
     "text": [
      "What is the time? 10\n"
     ]
    },
    {
     "name": "stdout",
     "output_type": "stream",
     "text": [
      "Soon time for lunch\n"
     ]
    }
   ],
   "source": [
    "x = input(\"What is the time?\")\n",
    "x = int(x)\n",
    "if x < 10:\n",
    " print (\"Good morning\")\n",
    "elif x<12: \n",
    " print (\"Soon time for lunch\")\n",
    "elif x<18: \n",
    "  print (\"Good day\")\n",
    "elif x<22: \n",
    " print (\"Good evening\")\n",
    "else: \n",
    "  print (\"Good night\")"
   ]
  },
  {
   "cell_type": "markdown",
   "metadata": {},
   "source": [
    "You can also use it to control that only specified users can login to a system."
   ]
  },
  {
   "cell_type": "code",
   "execution_count": 124,
   "metadata": {},
   "outputs": [
    {
     "name": "stdin",
     "output_type": "stream",
     "text": [
      "What is your login? :   Mark\n"
     ]
    },
    {
     "name": "stdout",
     "output_type": "stream",
     "text": [
      "Access denied\n"
     ]
    }
   ],
   "source": [
    "# Allowed users to login\n",
    "allowed_users = ['bill', 'steve']\n",
    "\n",
    "# Get the username from a prompt\n",
    "username = input(\"What is your login? :  \")\n",
    " \n",
    "# Control if the user belongs to allowed_users\n",
    "\n",
    "if username in allowed_users:\n",
    "    print (\"Access granted\")\n",
    "\n",
    "else:\n",
    "    print (\"Access denied\")"
   ]
  },
  {
   "cell_type": "markdown",
   "metadata": {},
   "source": [
    "#### __Python If statement Code Block__\n",
    "To get an easy overview of Pythons if statement code block  \n",
    "\n",
    "```python\n",
    "if :  \n",
    "    [do something]  \n",
    "    ....  \n",
    "    ....  \n",
    "elif [another statement is true]:  \n",
    "    [do something else]  \n",
    "    ....  \n",
    "    ....  \n",
    "else:  \n",
    "    [do another thing]  \n",
    "    ....  \n",
    "    ....  \n",
    "```"
   ]
  },
  {
   "cell_type": "markdown",
   "metadata": {},
   "source": [
    "## _getting user input from the keyboard_  \n",
    "\n",
    "There are two functions in Python that you can use to read data from the user:  `input`\n",
    "\n",
    "__Return value from input()__  \n",
    "The `input() method` reads a line from input (usually user), `converts the input into a string` by removing the trailing newline, and returns it.\n",
    "\n",
    "```python\n",
    "age = input(\"What is your age? \")          # output: What is your age? 100\n",
    "print (\"Your age is: \", age)               # output: Your age is:  100\n",
    "type(age)                                  # output: str\n",
    "```"
   ]
  },
  {
   "cell_type": "markdown",
   "metadata": {},
   "source": [
    "## _random number functions_\n",
    "\n",
    "In many situations (lack of data, test a program, test game scenarios, security applications and others) you need the computer to generate random data to use it in your program. Python has a random library that can help you achieve that. \n",
    "\n",
    "First, you have to import the random functions using one of the following:\n",
    "\n",
    "    import random\n",
    "    from random import *\n",
    "    from random import specific function(s) separated by commas\n",
    "\n",
    "Second, you can use any of the following functions.\n",
    "\n",
    "|Function|Description|\n",
    "|---------------|---------------------------------------------------|\n",
    "|randint (a, b)|Return a random integer N such that a <= N = <= b.|\n",
    "|random()|A random float r, such that 0 is less than or equal to r and r is less than 1   ( 0<=R<1 )|\n",
    "|uniform (a, b) |Return a random floating point number N such that a <= N <= b for a <= b and b <= N <= a for b < a.|\n",
    "|randrange ([start,] stop [,step])|A randomly selected element from range(start, stop, step)|\n",
    "|shuffle(lst)|Randomizes the items of a list in place. Returns None.|\n",
    "|shuffle (x)|Shuffle the sequence x in place.|\n",
    "|choice (seq)|Return a random element from the non-empty sequence seq|\n",
    "|sample (population, k)|Return a k length list of unique elements chosen from the population sequence. Used for random sampling without replacement.|\n",
    "\n",
    "\n",
    "Here are some examples of using the random number generator:"
   ]
  },
  {
   "cell_type": "code",
   "execution_count": 9,
   "metadata": {},
   "outputs": [],
   "source": [
    "from random import *"
   ]
  },
  {
   "cell_type": "code",
   "execution_count": 10,
   "metadata": {},
   "outputs": [
    {
     "name": "stdout",
     "output_type": "stream",
     "text": [
      "0.80712775008324\n"
     ]
    }
   ],
   "source": [
    "# choose a random float x in the range 0.0 <= x < 1.0\n",
    "print ( random()  ) "
   ]
  },
  {
   "cell_type": "code",
   "execution_count": 18,
   "metadata": {},
   "outputs": [
    {
     "name": "stdout",
     "output_type": "stream",
     "text": [
      "8\n"
     ]
    }
   ],
   "source": [
    "# Choose a random integer in the range 7 to 23 inclusive\n",
    "print ( randint(7, 23 )  )"
   ]
  },
  {
   "cell_type": "code",
   "execution_count": 16,
   "metadata": {},
   "outputs": [
    {
     "name": "stdout",
     "output_type": "stream",
     "text": [
      "0.7493884622156324\n"
     ]
    }
   ],
   "source": [
    "# Choose a random float x in the range -1.0 <= x < 1.0\n",
    "print ( uniform (-1.0, 1.0)  )"
   ]
  },
  {
   "cell_type": "code",
   "execution_count": 12,
   "metadata": {},
   "outputs": [
    {
     "name": "stdout",
     "output_type": "stream",
     "text": [
      "90\n"
     ]
    }
   ],
   "source": [
    "# Choose a random number from 1 to 100 that is divisible by 3\n",
    "print ( randrange(3, 100, 3) ) "
   ]
  },
  {
   "cell_type": "code",
   "execution_count": 13,
   "metadata": {},
   "outputs": [
    {
     "name": "stdout",
     "output_type": "stream",
     "text": [
      "a\n"
     ]
    }
   ],
   "source": [
    "# Choose a random element from a sequence\n",
    "seq = ['a', 'e', 'i', 'o', 'u']\n",
    "print ( choice(seq) )"
   ]
  },
  {
   "cell_type": "code",
   "execution_count": 14,
   "metadata": {},
   "outputs": [
    {
     "name": "stdout",
     "output_type": "stream",
     "text": [
      "['i', 'a']\n"
     ]
    }
   ],
   "source": [
    "# Choose 2 elements from a population\n",
    "print ( sample (seq, 2) )"
   ]
  },
  {
   "cell_type": "code",
   "execution_count": 19,
   "metadata": {},
   "outputs": [
    {
     "name": "stdout",
     "output_type": "stream",
     "text": [
      "None\n"
     ]
    }
   ],
   "source": [
    "# Shuffle a sequence\n",
    "seq = ['e', 'a', 'o', 'i', 'u']\n",
    "x = shuffle (seq)\n",
    "print (x)"
   ]
  },
  {
   "cell_type": "markdown",
   "metadata": {},
   "source": [
    "## _built-in math functions:_  \n",
    "The following list of built-in functions and you don't need to import the math library to use them.\n",
    "\n",
    "|Function|Returns ( description )|\n",
    "|---------------|------------------------------------------------------------------|\n",
    "|abs (x)|The absolute value of x: the (positive) distance between x and zero|\n",
    "|pow (x, y)|The value of x**y|\n",
    "|round (x [,n])|x rounded to n digits from the decimal point. Python rounds away from zero as a tie-breaker: round (0.5) is 1.0 and round (-0.5) is -1.0.|\n",
    "|max (x1, x2,...)|The largest of its arguments: the value closest to positive infinity|\n",
    "|min (x1, x2,...)|The smallest of its arguments: the value closest to negative infinity|\n",
    "|int  (x)|Convert the string x to an integer|\n",
    "|float (x)|Convert the string x to a float|\n",
    "|str (x)|Convert a number back to string|\n",
    "\n"
   ]
  },
  {
   "cell_type": "markdown",
   "metadata": {},
   "source": [
    "## _order of precedence_\n",
    "\n",
    "A summary of the order of precedence rule for a common simple mathematical expression\n",
    "\n",
    "|Operator|Description|\n",
    "|--------|---------------------------|\n",
    "|()|Parentheses (grouping)|\n",
    "|**|Exponentiation|\n",
    "|+x, -x|Positive, negative|\n",
    "|*, /, %,//|Multiplication, division, remainder, floor division|\n",
    "|+, -|Addition, subtraction|\n",
    "\n",
    "If you have a more complicated expression, then the full order of precedence rule is explained in the following table.\n",
    "\n",
    "|Operator|Description|\n",
    "|-----------|----------------|\n",
    "|()|Parentheses (grouping)|\n",
    "|f(args...)|Function call|\n",
    "|x[index:index]|Slicing|\n",
    "|x[index]|ubscription|\n",
    "|x.attribute|Attribute reference|\n",
    "|**|Exponentiation|\n",
    "|~x|Bitwise not|\n",
    "|+x, -x|Positive, negative|\n",
    "|*, /, %|Multiplication, division, remainder|\n",
    "|+, -|Addition, subtraction|\n",
    "|<<, >>|Bitwise shifts|\n",
    "|&|Bitwise AND|\n",
    "|^|Bitwise XOR|\n",
    "|||Bitwise OR|\n",
    "|in, not in, is, is not, <, <=,  >,  >=, <>, !=, ==|Comparisons, membership, identity|\n",
    "|not x|Boolean NOT|\n",
    "|and|Boolean AND|\n",
    "|or|Boolean OR|\n",
    "|lambda|Lambda expression|"
   ]
  },
  {
   "cell_type": "markdown",
   "metadata": {},
   "source": [
    "## _python keywords_"
   ]
  },
  {
   "cell_type": "code",
   "execution_count": 137,
   "metadata": {},
   "outputs": [
    {
     "name": "stdout",
     "output_type": "stream",
     "text": [
      "['False', 'None', 'True', 'and', 'as', 'assert', 'async', 'await', 'break', 'class', 'continue', 'def', 'del', 'elif', 'else', 'except', 'finally', 'for', 'from', 'global', 'if', 'import', 'in', 'is', 'lambda', 'nonlocal', 'not', 'or', 'pass', 'raise', 'return', 'try', 'while', 'with', 'yield']\n"
     ]
    }
   ],
   "source": [
    "# To list the python keywords:\n",
    "import keyword\n",
    "print ( keyword.kwlist )"
   ]
  },
  {
   "cell_type": "markdown",
   "metadata": {},
   "source": [
    "## _division operator (/)  vs. floor division (//)_  \n",
    "In python 3, the division operator (/) gives a float result, even if both of the numbers are integers.  \n",
    "\n",
    "| operation | result |\n",
    "|----------|---------------------:|\n",
    "|4/3 | &nbsp;&nbsp;&nbsp;&nbsp;&nbsp;&nbsp;&nbsp;&nbsp;&nbsp;&nbsp;1.33333333333|\n",
    "|type(4/3)|float|\n",
    "|4/2|2.0|\n",
    "|type(4/2)|float|\n",
    "\n",
    "Floor division - division that results into whole number adjusted to the left in the number line.  \n",
    "\n",
    "| operation | result |\n",
    "|----------|---------------------:|\n",
    "|4//3 | &nbsp;&nbsp;&nbsp;&nbsp;&nbsp;&nbsp;&nbsp;&nbsp;&nbsp;&nbsp;1|\n",
    "|type(4/3)|int|\n",
    "|4//2|2|\n",
    "|type(4//2)|int|"
   ]
  },
  {
   "cell_type": "markdown",
   "metadata": {},
   "source": [
    "## _remove duplicates from list_  "
   ]
  },
  {
   "cell_type": "code",
   "execution_count": 3,
   "metadata": {},
   "outputs": [
    {
     "name": "stdout",
     "output_type": "stream",
     "text": [
      "['b', 'a', 'c']\n"
     ]
    }
   ],
   "source": [
    "mylist = [\"a\", \"b\", \"a\", \"c\", \"c\"]\n",
    "mylist = list(set(mylist))           # convert the list to a set, then convert set to list\n",
    "print(mylist)"
   ]
  },
  {
   "cell_type": "markdown",
   "metadata": {},
   "source": [
    "## _remove duplicates from list and order the list_  "
   ]
  },
  {
   "cell_type": "code",
   "execution_count": 5,
   "metadata": {},
   "outputs": [
    {
     "name": "stdout",
     "output_type": "stream",
     "text": [
      "['a', 'b', 'c']\n"
     ]
    }
   ],
   "source": [
    "mylist = [\"a\", \"b\", \"a\", \"c\", \"c\"]\n",
    "mylist = list(dict.fromkeys(mylist))          # create a dictionary, then convert dict to list\n",
    "print(mylist)"
   ]
  },
  {
   "cell_type": "markdown",
   "metadata": {},
   "source": [
    "## _reverse a string_"
   ]
  },
  {
   "cell_type": "code",
   "execution_count": 6,
   "metadata": {},
   "outputs": [
    {
     "name": "stdout",
     "output_type": "stream",
     "text": [
      "dlroW olleH\n"
     ]
    }
   ],
   "source": [
    "txt = \"Hello World\" [::-1]   # create a slice that starts at the end of the string, and moves backwards.\n",
    "print(txt)"
   ]
  },
  {
   "cell_type": "markdown",
   "metadata": {},
   "source": [
    "The slice statement `[::-1]` is the same as `[11:0:-1]` which means start at position 11 (because \"Hello \"World\" has 11 characters), end at position 0, move with the step -1, negative one, which means one step backwards."
   ]
  },
  {
   "cell_type": "markdown",
   "metadata": {},
   "source": [
    "## _return a function from a function_"
   ]
  },
  {
   "cell_type": "code",
   "execution_count": 28,
   "metadata": {},
   "outputs": [
    {
     "name": "stdout",
     "output_type": "stream",
     "text": [
      "<function OuterFunc.<locals>.InnerFunc at 0x1114bfe18>\n",
      "8\n"
     ]
    }
   ],
   "source": [
    "def OuterFunc(param):\n",
    "    def InnerFunc(param2):\n",
    "        return param2 + 5\n",
    "    return InnerFunc\n",
    "\n",
    "test = OuterFunc(10)         # call the OuterFunc which will return a function\n",
    "print ( test )               # returns: <function OuterFunc.<locals>.InnerFunc at 0x1114ca510>\n",
    "returnedValue = test(3)      # test is now the InnerFunc, pass the InnerFunc the value of 3 to returnedValue\n",
    "print ( returnedValue )      # output: 8"
   ]
  },
  {
   "cell_type": "markdown",
   "metadata": {},
   "source": [
    "## _call a function from a function_"
   ]
  },
  {
   "cell_type": "code",
   "execution_count": 33,
   "metadata": {},
   "outputs": [
    {
     "name": "stdout",
     "output_type": "stream",
     "text": [
      "1\n",
      "0.8414709848078965\n",
      "0.5403023058681398\n"
     ]
    }
   ],
   "source": [
    "import math\n",
    "def apply(func_name, param):\n",
    "    return get(func_name)(param)\n",
    "\n",
    "def get(func_name):\n",
    "   if func_name == 'sin':\n",
    "    return math.sin\n",
    "   elif func_name == 'cos':\n",
    "      return math.cos\n",
    "   elif func_name == 'echo':\n",
    "         def func(x):\n",
    "            return x\n",
    "         return func\n",
    "      \n",
    "def main():\n",
    "   val = apply('echo', 1)\n",
    "   print(val)\n",
    "   val = apply('sin', 1)\n",
    "   print(val)\n",
    "   val = apply('cos', 1)\n",
    "   print(val)\n",
    "   \n",
    "main()"
   ]
  },
  {
   "cell_type": "markdown",
   "metadata": {},
   "source": [
    "## _data types_\n",
    "\n",
    "Python stores its data as various types. \n",
    "\n",
    "  * **numeric types** (integer and floating point)\n",
    "  * **sequential types** (string, tuple, list)\n",
    "  * **mappings** (dictionary, set)\n"
   ]
  },
  {
   "cell_type": "markdown",
   "metadata": {},
   "source": [
    "Importantly, there are Python built-in functions that can convert types to other types:  \n",
    "[`int()`](https://docs.python.org/3/library/functions.html#int)  \n",
    "[`float()`](https://docs.python.org/3/library/functions.html#float)  \n",
    "[`str()`](https://docs.python.org/3/library/functions.html#func-str)  \n",
    "[`tuple()`](https://docs.python.org/3/library/functions.html#func-tuple)  \n",
    "[`list()`](https://docs.python.org/3/library/functions.html#func-list)  \n",
    "[`dict()`](https://docs.python.org/3/library/functions.html#func-dict)  \n",
    "[`set()`](https://docs.python.org/3/library/functions.html#func-set)\n",
    "\n",
    "For example, you can take a list and convert it to a tuple:"
   ]
  },
  {
   "cell_type": "code",
   "execution_count": 32,
   "metadata": {},
   "outputs": [
    {
     "name": "stdout",
     "output_type": "stream",
     "text": [
      "(90.2, 34.9)\n"
     ]
    }
   ],
   "source": [
    "coords_list = [90.2,34.9]\n",
    "coords_tuple = tuple(coords_list)  #converts the list (coord_list) into a tuple (coords_tuple)\n",
    "print(coords_tuple)"
   ]
  },
  {
   "cell_type": "markdown",
   "metadata": {},
   "source": [
    "## _lambda function_\n",
    "\n",
    "The lambda function is just awesome. Anytime you have can reduce a function to one expression you can use lambda to simplify the code.\n",
    "\n",
    "where\n",
    "```python\n",
    "#function to accept the list of numbers returning the value if it is an odd number\n",
    "def find_odds(n):\n",
    "    if(n % 2 != 0):\n",
    "        return n\n",
    "```\n",
    "can be reduced to\n",
    "```python\n",
    "(lambda x : x % 2 != 0, nums)\n",
    "```"
   ]
  },
  {
   "cell_type": "code",
   "execution_count": null,
   "metadata": {},
   "outputs": [],
   "source": []
  }
 ],
 "metadata": {
  "kernelspec": {
   "display_name": "Python 3",
   "language": "python",
   "name": "python3"
  },
  "language_info": {
   "codemirror_mode": {
    "name": "ipython",
    "version": 3
   },
   "file_extension": ".py",
   "mimetype": "text/x-python",
   "name": "python",
   "nbconvert_exporter": "python",
   "pygments_lexer": "ipython3",
   "version": "3.7.1"
  }
 },
 "nbformat": 4,
 "nbformat_minor": 2
}
