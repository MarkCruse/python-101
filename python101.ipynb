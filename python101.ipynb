{
 "cells": [
  {
   "cell_type": "markdown",
   "metadata": {},
   "source": [
    "***\n",
    "## Functions\n",
    "### _Define a function_  \n",
    "```python \n",
    "def MyFunction(param):\n",
    "```\n",
    "### _Call a function_\n",
    "```python \n",
    "name = 'Sam'\n",
    "MyFunction(name)\n",
    "```\n",
    "### _Parameters Vs. Arguments_  \n",
    "   > `Parameters` are the name within the function definition. __In example above__, the function `MyFunction` is asking for a parameter called `param` which is used within the function.  \n",
    "   > `Arguments` are the values passed in when the function is called. __In example above__, `name` is the argument.\n",
    "     `Parameters` don’t change when the program is running.  \n",
    "   `Arguments` are probably going to be different every time the function is called."
   ]
  },
  {
   "cell_type": "markdown",
   "metadata": {},
   "source": [
    "### _Function returns One/More Values_\n",
    "  Most functions take in arguments, perform some processing and then return a value to the caller.  \n",
    "  In Python this is achieved with the return statement.\n"
   ]
  },
  {
   "cell_type": "code",
   "execution_count": 8,
   "metadata": {},
   "outputs": [
    {
     "name": "stdout",
     "output_type": "stream",
     "text": [
      "4\n",
      "4\n"
     ]
    }
   ],
   "source": [
    "def square(n):  \n",
    "  return n*n\n",
    "\n",
    "two_squared = square(2)   # this is calling the function square and puts the return value into two_squared\n",
    "print(two_squared)\n",
    "\n",
    "print(square(2))        # or call the function and then print the returned value"
   ]
  },
  {
   "cell_type": "markdown",
   "metadata": {},
   "source": [
    "Python also has the ability to __return multiple values__ from a function call, something missing from many other languages. In this case the return values should be a comma-separated list of values and Python then constructs a tuple and returns this to the caller, e.g.  "
   ]
  },
  {
   "cell_type": "code",
   "execution_count": 9,
   "metadata": {},
   "outputs": [
    {
     "name": "stdout",
     "output_type": "stream",
     "text": [
      "(4, 9)\n"
     ]
    }
   ],
   "source": [
    "def square(x,y):\n",
    "    return x*x, y*y\n",
    "\n",
    "t = square(2,3)\n",
    "print(t)  \n",
    "# Outputs: (4,9)\n",
    "# Now access the tuple with usual operations"
   ]
  },
  {
   "cell_type": "markdown",
   "metadata": {},
   "source": [
    "An alternate syntax when dealing with multiple return values is to have Python \"unwrap\" the tuple into the variables directly by specifying the same number of variables on the left-hand side of the assignment as there are returned from the function, e.g.  "
   ]
  },
  {
   "cell_type": "code",
   "execution_count": 10,
   "metadata": {},
   "outputs": [
    {
     "name": "stdout",
     "output_type": "stream",
     "text": [
      "4\n",
      "9\n"
     ]
    }
   ],
   "source": [
    "def square(x,y):\n",
    "    return x*x, y*y\n",
    "\n",
    "xsq, ysq = square(2,3)\n",
    "print(xsq)  \n",
    "# Outputs: 4\n",
    "print(ysq)  \n",
    "# Outputs: 9  \n",
    "# Tuple has vanished!"
   ]
  },
  {
   "cell_type": "markdown",
   "metadata": {},
   "source": [
    "__Return multiple values from a method using list__"
   ]
  },
  {
   "cell_type": "code",
   "execution_count": 12,
   "metadata": {},
   "outputs": [
    {
     "name": "stdout",
     "output_type": "stream",
     "text": [
      "[4, 9]\n"
     ]
    }
   ],
   "source": [
    "def square(x,y):\n",
    "    return [x*x, y*y]\n",
    "\n",
    "list = square(2,3)\n",
    "print(list)\n",
    "# Outputs: [4,9]"
   ]
  },
  {
   "cell_type": "markdown",
   "metadata": {},
   "source": [
    "### _Local vs. Global variables in Functions_"
   ]
  },
  {
   "cell_type": "code",
   "execution_count": 14,
   "metadata": {},
   "outputs": [
    {
     "name": "stdout",
     "output_type": "stream",
     "text": [
      "global :  1\n",
      "Inside f() :  1\n",
      "global :  1\n",
      "Inside g() :  2\n",
      "global :  1\n",
      "Inside h() :  3\n",
      "global :  3\n"
     ]
    }
   ],
   "source": [
    "a = 1\n",
    "\n",
    "# Uses global because there is no local 'a' \n",
    "def f(): \n",
    "    print ('Inside f() : ', a ) \n",
    "\n",
    "# Variable 'a' is redefined as a local \n",
    "def g():     \n",
    "    a = 2\n",
    "    print ('Inside g() : ',a )\n",
    "\n",
    "# Uses global keyword to modify global 'a' \n",
    "def h():     \n",
    "    global a \n",
    "    a = 3\n",
    "    print ('Inside h() : ',a )\n",
    "\n",
    "# Global scope \n",
    "print ('global : ',a )\n",
    "f() \n",
    "print ('global : ',a )\n",
    "g() \n",
    "print ('global : ',a )\n",
    "h() \n",
    "print ('global : ',a)"
   ]
  },
  {
   "cell_type": "markdown",
   "metadata": {},
   "source": [
    "### _Passing(variable of int, float, Boolean) vs list_ \n",
    "> Variables of int, float, Boolean are immutable  \n",
    "> Lists are mutable therfore they can be passed, changed with in the function, passed to another  \n",
    "> If the list was declared outside of all functions the list is available within all functions AND the changes occuring inside the funtions on the list is available everywhere. Variables of int, float, Boolean would not have such a capability."
   ]
  },
  {
   "cell_type": "markdown",
   "metadata": {},
   "source": [
    "***\n",
    "## Strings"
   ]
  },
  {
   "cell_type": "markdown",
   "metadata": {},
   "source": [
    "#### _Creating strings_\n",
    "\n",
    "__Examples__\n",
    "```python\n",
    "name = \"tom\"          # a string  \n",
    "\n",
    "mychar = 'a'          # a character  \n",
    "```\n",
    "\n",
    "you can also use the following syntax to create strings.  \n",
    "\n",
    "```python\n",
    "name1 = str()                 # this will create empty string object\n",
    "\n",
    "name2 = str(\"newstring\")      # string object containing 'newstring'\n",
    "```"
   ]
  },
  {
   "cell_type": "markdown",
   "metadata": {},
   "source": [
    "### _strings are immutable_\n",
    "Python strings are immutable. However, `MyString` (see example below) is not a string: it is a variable with a string value. You can't mutate the string, but can change the value of the variable to a new string."
   ]
  },
  {
   "cell_type": "code",
   "execution_count": 32,
   "metadata": {},
   "outputs": [
    {
     "name": "stdout",
     "output_type": "stream",
     "text": [
      "Good things come to those that study hard\n",
      "<class 'str'>\n",
      "a changed string\n"
     ]
    }
   ],
   "source": [
    "MyString = 'Good things come to those that study hard'\n",
    "print(MyString)\n",
    "print(type(MyString))\n",
    "MyString = 'a changed string'\n",
    "print(MyString)"
   ]
  },
  {
   "cell_type": "markdown",
   "metadata": {},
   "source": [
    "### _string comparison_\n",
    "You can use ( `>` , `<` , `<=` , `<=` , `==` , `!=` ) to compare two strings. \n",
    "  \n",
    "\n",
    "Python compares string lexicographically i.e using ASCII value of the characters.  \n",
    "Suppose you have `str1` as `\"Mary\"` and `str2` as `\"Mac\"`  \n",
    "The first two characters from `str1` and `str2` ( `M` and `M` ) are compared.\n",
    "As they are equal, the second two characters are compared.  \n",
    "Because they are also equal, the third two characters ( `r`  and `c` ) are compared. \n",
    "And because `'r'`  has greater ASCII value than `'c'` ,  \n",
    "`str1`  is greater than `str2`.  \n",
    "  \n",
    "__Examples__\n",
    "```python\n",
    "\"tim\"  ==  \"tie\"\n",
    "False\n",
    "\n",
    "\"free\"  !=  \"freedom\"\n",
    "True\n",
    "\n",
    "\"arrow\"  >  \"aron\"\n",
    "True\n",
    "\n",
    "\"right\"  >=  \"left\"\n",
    "True\n",
    "\n",
    "\"teeth\"  <  \"tee\"\n",
    "False\n",
    "\n",
    "\"yellow\"  <=  \"fellow\"\n",
    "False\n",
    "\n",
    "\"abc\"  >  \"\"\n",
    "True\n",
    "```"
   ]
  },
  {
   "cell_type": "code",
   "execution_count": null,
   "metadata": {},
   "outputs": [],
   "source": [
    "\n",
    "Syntax\n",
    "Following is the syntax for strip() method −\n",
    "\n",
    "str.strip([chars]);\n",
    "Parameters\n",
    "chars − The characters to be removed from beginning or end of the string.\n",
    "\n",
    "Return Value\n",
    "This method returns a copy of the string in which all chars have been stripped from the beginning and the end of the string.\n",
    "\n",
    "Example\n",
    "The following example shows the usage of strip() method.\n",
    "\n",
    " Live Demo\n",
    "#!/usr/bin/python\n"
   ]
  },
  {
   "cell_type": "markdown",
   "metadata": {},
   "source": [
    "### _string functions and methods_"
   ]
  },
  {
   "cell_type": "markdown",
   "metadata": {},
   "source": [
    "__Converting Strings__"
   ]
  },
  {
   "cell_type": "markdown",
   "metadata": {},
   "source": [
    "\n",
    "|METHOD NAME|METHOD DESCRIPTION|\n",
    "|---------------------|------------------------------------------------------------------------------------------|\n",
    "|__capitalize(): str__|Returns a copy of this string with only the first character capitalized.|\n",
    "|__lower(): str__|Returns string by converting every character to lowercase|\n",
    "|__upper(): str__|Returns string by converting every character to uppercase|\n",
    "|__title(): str__|Returns string by capitalizing first letter of every word in the string|\n",
    "|__swapcase(): str__|Returns a string in which the lowercase letter is converted to uppercase and uppercase to lowercase|\n",
    "|__replace(old, new): str__|Returns new string by replacing the occurrence of old string with new string|\n",
    "|__strip('to be stripped'): str__|Returns a copy of the string in which all chars have been stripped from the beginning and the end of the string (default whitespace characters).|"
   ]
  },
  {
   "cell_type": "markdown",
   "metadata": {},
   "source": [
    "__Examples__\n",
    "```python\n",
    "s = \"string in python\"\n",
    "s1 = s.capitalize()\n",
    "print ( s1 )\n",
    "'String in python'\n",
    "\n",
    "s2 = s.title()\n",
    "print ( s2 )\n",
    "'String In Python'\n",
    "\n",
    "s = \"This Is Test\"\n",
    "s3 = s.lower()\n",
    "print ( s3 )\n",
    "'this is test'\n",
    "\n",
    "s = \"This Is Test\"\n",
    "s4 = s.upper()\n",
    "print ( s4 )\n",
    "'THIS IS TEST'\n",
    "\n",
    "s = \"This Is Test\"\n",
    "s5 = s.swapcase()\n",
    "print ( s5 )\n",
    "'tHIS iS tEST'\n",
    "       \n",
    "s = \"This Is Test\"\n",
    "s6 = s.replace(\"Is\", \"Was\")\n",
    "print ( s6 )\n",
    "'This Was Test'\n",
    "print ( s )\n",
    "'This Is Test'\n",
    "\n",
    "s7 = \"0000000this is string example....wow!!!0000000\";    # strip all 0s from the string\n",
    "print s7.strip( '0' )\n",
    "'this is string example....wow!!!'\n",
    "\n",
    "```"
   ]
  },
  {
   "cell_type": "code",
   "execution_count": 38,
   "metadata": {},
   "outputs": [
    {
     "name": "stdout",
     "output_type": "stream",
     "text": [
      "String in python\n"
     ]
    }
   ],
   "source": [
    "s = \"string in python\"\n",
    "s1 = s.capitalize()\n",
    "print ( s1 )"
   ]
  },
  {
   "cell_type": "markdown",
   "metadata": {},
   "source": [
    "### _string Functions in Python_  \n",
    "\n",
    "|FUNCTION NAME|FUNCTION DESCRIPTION|\n",
    "|-------------|--------------------|\n",
    "|__len()__|returns length of the string|\n",
    "|__max()__|returns character having highest ASCII value|\n",
    "|__min()__|returns character having lowest ASCII value|\n",
    "\n",
    "_Examples:_ \n",
    "```python    \n",
    "len(\"hello\")  \n",
    "5  \n",
    "\n",
    "max(\"abc\")  \n",
    "'c'  \n",
    "\n",
    "min(\"abc\")  \n",
    "'a'  \n",
    "```\n"
   ]
  },
  {
   "cell_type": "markdown",
   "metadata": {},
   "source": [
    "### _testing strings_\n",
    "String class in python has various inbuilt methods which allows to check for different types of strings.\n",
    "\n",
    "|METHOD NAME|METHOD DESCRIPTION|\n",
    "|--------------|--------------------------------------------|\n",
    "|__isalnum()__|Returns True if string is alphanumeric|\n",
    "|__isalpha()__|Returns True if string contains only alphabets|\n",
    "|__isdigit()__|Returns True if string contains only digits|\n",
    "|__isidentifier()__|Return True is string a valid identifier|\n",
    "|__islower()__|Returns True if string is in lowercase|\n",
    "|__isupper()__|Returns True if string is in uppercase|\n",
    "|__isspace()__|Returns True if string contains only whitespace|\n",
    "\n",
    "__Examples:__  \n",
    "```python\n",
    "s = \"welcome to python\"\n",
    "\n",
    "s.isalnum()\n",
    "False\n",
    "\n",
    "\"Welcome\".isalpha()\n",
    "True\n",
    "\n",
    "\"2012\".isdigit()\n",
    "True\n",
    "\n",
    "\"first Number\".isidentifier()\n",
    "False\n",
    "\n",
    "s.islower()\n",
    "True\n",
    "\n",
    "\"WELCOME\".isupper()\n",
    "True\n",
    "\n",
    "\"  \\t\".isspace()\n",
    "True\n",
    "```"
   ]
  },
  {
   "cell_type": "markdown",
   "metadata": {},
   "source": [
    "### _searching for substrings_\n",
    "\n",
    "|METHOD NAME|METHODS DESCRIPTION:|\n",
    "|------------------|---------------------|\n",
    "|__endswith(s1: str): bool__|Returns True if strings ends with substring s1|\n",
    "|__startswith(s1: str): bool__|Returns True if strings starts with substring s1|\n",
    "|__count(substring): int__|Returns number of occurrences of substring in the string|\n",
    "|__find(s1): int__|Returns lowest index from where s1 starts in the string, if string not found returns -1|\n",
    "|__rfind(s1): int__|Returns highest index from where s1 starts in the string, if string not found returns -1|\n",
    "\n",
    "__Examples:__  \n",
    "```python\n",
    "s = \"welcome to python\"\n",
    "\n",
    "s.endswith(\"thon\")     # does s end with \"thon\"?\n",
    "True\n",
    "\n",
    "s.startswith(\"good\")   # does s start with \"good\"?\n",
    "False\n",
    "\n",
    "s.find(\"come\")         # where is the first index of \"come\"?\n",
    "3\n",
    "\n",
    "s.find(\"become\")       # -1 means that the string was not found\n",
    "-1\n",
    "\n",
    "s.rfind(\"o\")         # where is the last index of the letter \"o\"?\n",
    "15\n",
    "\n",
    "s.count(\"o\")         # how many times does the letter 'o' appear in the string?\n",
    "3\n",
    "  \n",
    "```"
   ]
  },
  {
   "cell_type": "markdown",
   "metadata": {},
   "source": [
    "### _finding a string in a string_\n",
    "`in`  and `not in`  operators\n",
    "\n",
    "You can use `in`  and `not in`  operators to check existence of a string in another string. They are also known as membership operator.\n",
    "\n",
    "\n",
    "__Examples:__  \n",
    "```python\n",
    "s1 = \"Welcome\"\n",
    "\n",
    "\"come\" in s1\n",
    "True\n",
    "\n",
    "\"come\" not in s1\n",
    "False\n",
    "\n",
    "```"
   ]
  },
  {
   "cell_type": "markdown",
   "metadata": {},
   "source": [
    "### _concatentating strings_\n",
    "\n",
    "Concatenation - Adds values on either side of the operator  \n",
    "\n",
    "__Example:__  \n",
    "```python\n",
    "s1 = \"Welcome\"\n",
    "s2 = \" Home\"\n",
    "s1 + s2\n",
    "\"Welcome Home\"\n",
    "```"
   ]
  },
  {
   "cell_type": "markdown",
   "metadata": {},
   "source": [
    "#### _strings repitition_\n",
    "\n",
    "Repetition - Creates new strings, concatenating multiple copies of the same string   \n",
    "\n",
    "__Example:__  \n",
    "```python\n",
    "s1 = \"Welcome \"\n",
    "s2 = \"Home\"\n",
    "s1*3 + s2\n",
    "\"Welcome Welcome Welcome Home\"\n",
    "```"
   ]
  },
  {
   "cell_type": "markdown",
   "metadata": {},
   "source": [
    "### _slicing strings - slice / range slice_\n",
    "\n",
    "For the string `Welcome_Home!` the index breakdown looks like this:\n",
    "\n",
    "|W  |e  |l  |c  |o  |m  |e  |&nbsp; |H |o |m |e |! |  \n",
    "|--|--|--|--|--|--|--|--|--|--|--|--|--|  \n",
    "|0 |1 |2 |3 |4 |5 |6 |7 |8 |9 |10|11|12|\n",
    "\n",
    "`Slice` - Gives the character from the given index  \n",
    "\n",
    "__Example:__  \n",
    "```python\n",
    "s1 = \"Welcome Home!\"\n",
    "\n",
    "s[1] \n",
    "\"e\"\n",
    "\n",
    "s[8]\n",
    "\"H\"\n",
    "```\n",
    "\n",
    "`Range Slice` - Gives the characters from the given range  \n",
    "__Example:__   \n",
    "```python\n",
    "s1[1:4]\n",
    "\"elc\"\n",
    "\n",
    "s1[3:7]\n",
    "\"come\"\n",
    "\n",
    "s1[8:13]\n",
    "\"Home!\"\n",
    "```"
   ]
  },
  {
   "cell_type": "markdown",
   "metadata": {},
   "source": [
    "### _slicing - accessing characters by negative index number_\n",
    "\n",
    "If we have a long string and we want to pinpoint an item towards the end, we can also count backwards from the end of the string, starting at the index number -1.\n",
    "\n",
    "For the same string `Welcome_Home!` the negative index breakdown looks like this:  \n",
    "\n",
    "|W  |e  |l  |c  |o  |m  |e  |&nbsp; |H |o |m |e |! |  \n",
    "|--|--|--|--|--|--|--|--|--|--|--|--|--|  \n",
    "|-13 |-12 |-11 |-10 |-9 |-8 |-7 |-6 |-5 |-4 |-3|-2|-1|  \n",
    "\n",
    "Using negative index numbers can be advantageous for isolating a single character towards the end of a long string.\n",
    "__Example:__   \n",
    "```python\n",
    "s[-5]               # handier than counting all the way through welcome!\n",
    "\"H\"\n",
    "s1[-5:-1]\n",
    "\"Home!\"\n",
    "\n",
    "```"
   ]
  },
  {
   "cell_type": "markdown",
   "metadata": {},
   "source": [
    "### _specifying stride while slicing strings_\n",
    "\n",
    "String slicing can accept a third parameter in addition to two index numbers. The third parameter specifies the `stride`,  \n",
    "which refers to how many characters to move forward after the first character is retrieved from the string.  \n",
    "\n",
    "So far, we have omitted the stride parameter, and Python defaults to the stride of 1, so that every character between two index numbers is retrieved.\n",
    "\n",
    "\n",
    "|W  |e  |l  |c  |o  |m  |e  |&nbsp; |H |o |m |e |! |  \n",
    "|--|--|--|--|--|--|--|--|--|--|--|--|--|  \n",
    "|0 |1 |2 |3 |4 |5 |6 |7 |8 |9 |10|11|12|\n",
    "\n",
    "\n",
    "__Example:__   \n",
    "```python\n",
    "\n",
    "s1[8:13]\n",
    "\"Home!\"\n",
    "\n",
    "We can obtain the same results by including a third parameter with a stride of 1:\n",
    "    \n",
    "s1[8:13:1]\n",
    "\"Home!\"\n",
    "\n",
    "If, instead, we increase the stride, we will see that characters are skipped:\n",
    "    \n",
    "s1[0:12:2]\n",
    "\"WloeHm\"\n",
    "\n",
    "Note that the whitespace character are counted as index number 7 is skipped with a stride of 2 specified.\n",
    "```"
   ]
  },
  {
   "cell_type": "markdown",
   "metadata": {},
   "source": [
    "### _string split() method_\n",
    "\n",
    "The split() method splits a string into a list.  \n",
    "  \n",
    "You can specify the separator, default separator is any whitespace.\n",
    "\n",
    "`string.split(separator, max)`\n",
    "\n",
    "|Parameter    |Description|  \n",
    "|-----------------------|---------------------------------------------------------------------------------------|  \n",
    "|separator| Optional. Specifies the separator to use when splitting the string. Default value is a whitespace|  \n",
    "|max| Optional. Specifies how many splits to do. Default value is -1, which is \"all occurrences\"|  \n",
    "\n",
    "__Example:__   \n",
    "\n",
    "```python\n",
    "txt = \"welcome to the jungle\"\n",
    "x = txt.split()\n",
    "['welcome', 'to', 'the', 'jungle']\n",
    "\n",
    "txt = \"apple#banana#cherry#orange\"\n",
    "x = txt.split(\"#\")\n",
    "['apple', 'banana', 'cherry', 'orange']\n",
    "```\n",
    "Split the string into a list with max 2 items:\n",
    "```python\n",
    "txt = \"apple#banana#cherry#orange\"\n",
    "x = txt.split(\"#\", 1)\n",
    "['apple', 'banana#cherry#orange']\n",
    "\n",
    "```"
   ]
  },
  {
   "cell_type": "markdown",
   "metadata": {},
   "source": [
    "## Lists"
   ]
  },
  {
   "cell_type": "markdown",
   "metadata": {},
   "source": [
    "A list is a data structure in Python that is a mutable, or changeable, ordered sequence of elements.  \n",
    "Each element or value that is inside of a list is called an item.  \n",
    "\n",
    "Just as strings are defined as characters between quotes, lists are defined by having values between square brackets `[ ]`."
   ]
  },
  {
   "cell_type": "markdown",
   "metadata": {},
   "source": [
    "### _initializing a list_ \n",
    "\n",
    "A list can be initialize as empty  \n",
    "```python\n",
    "teams = []\n",
    "or\n",
    "teams = list()\n",
    "```\n",
    "or with elements  \n",
    "```python\n",
    "teams = ['Cowboys','Redskins','Eagles','Giants','Dolphins']\n",
    "\n",
    "numbers = [1,2,6,8,24,99,3,2,7,1]\n",
    "```"
   ]
  },
  {
   "cell_type": "markdown",
   "metadata": {},
   "source": [
    "### _Indexing Lists_  \n",
    "Each item in a list corresponds to an index number, which is an integer value, starting with the index number 0.\n",
    "\n",
    "For a list teams, the index breakdown looks like this:\n",
    "\n",
    "teams = ['Cowboys','Redskins','Eagles','Giants','Dolphins']\n",
    "\n",
    "|'Cowboys'|'Redskins'|'Eagles'|'Giants'|'Packers'|\n",
    "|:-------:|:--------:|:------:|:------:|:--------:|\n",
    "| 0| 1 | 2 | 3 | 4 |\n",
    "\n",
    "The first item, the string `'Cowboys'` starts at index 0, and the list ends at index 4 with the item `'Packers'`.\n",
    "\n",
    "Because each item in a Python list has a corresponding index number, we’re able to access and manipulate lists in the same ways we can with other sequential data types.\n",
    "\n",
    "Now we can call a discrete item of the list by referring to its index number:\n",
    "\n",
    "__Example:__   \n",
    "```python\n",
    "print(teams[0])       # output: Cowboys\n",
    "print(teams[4])       # output: Packers\n",
    "\n",
    "\n",
    "```\n",
    "If we call the list teams with an index number of any that is greater than 4, it will be `out of range` as it will not be valid:\n",
    "\n",
    "__Example:__   \n",
    "```python\n",
    "print(teams[10])      # output: IndexError: list index out of range\n",
    "```\n",
    "\n",
    "In addition to positive index numbers, we can also access items from the list with a negative index number, by counting backwards from the end of the list, starting at -1. This is especially useful if we have a long list and we want to pinpoint an item towards the end of a list.\n",
    "\n",
    "For the same list teams, the negative index breakdown looks like this:\n",
    "\n",
    "\n",
    "|'Cowboys'|'Redskins'|'Eagles'|'Giants'|'Packers'|\n",
    "|:-------:|:--------:|:------:|:------:|:--------:|\n",
    "|-5|-4|-3|-2|-1|\n",
    "\n",
    "So, if we would like to print out the item 'Packers' by using its negative index number, we can do so like:\n",
    "\n",
    "__Example:__   \n",
    "```python\n",
    "print(teams[-1])                # output: Packers\n",
    "```\n",
    "or a combination of both\n",
    "```python\n",
    "print(teams[-1] + teams[4])     # output: PackersPackers\n",
    "\n",
    "```"
   ]
  },
  {
   "cell_type": "markdown",
   "metadata": {},
   "source": [
    "### _lists are heterogeneous (elements don't have to be all the same type)_\n",
    "```python\n",
    "junk = [1,2,'pink',8.10,'dolls',True]  \n",
    "\n",
    "type(junk[0])      # int\n",
    "type(junk[2])      # str \n",
    "type(junk[3])     # float\n",
    "type(junk[5])     # bool\n",
    "```"
   ]
  },
  {
   "cell_type": "markdown",
   "metadata": {},
   "source": [
    "### _get the length of a list_\n",
    "pass your list to the len() function to get the length of your list back  \n",
    "```python\n",
    "junk = [1,2,'pink',8.10,'dolls',True]  \n",
    "teams = ['Cowboys','Redskins','Eagles','Giants','Dolphins']\n",
    "\n",
    "len(junk)    # 6\n",
    "len(teams)   # 5\n",
    "```"
   ]
  },
  {
   "cell_type": "markdown",
   "metadata": {},
   "source": [
    "### _loop over a list_\n",
    "```python\n",
    "junk = [1,2,'pink',8.10,'dolls',True]  \n",
    "\n",
    "# Loop over your list and print all elements that are of string\n",
    "for x in junk:\n",
    "      if type(x)==str:\n",
    "        print(x)\n",
    "```\n",
    "Output:  \n",
    ">pink  \n",
    ">dolls  "
   ]
  },
  {
   "cell_type": "markdown",
   "metadata": {},
   "source": [
    "### _how many times one particular list item occurs in a list and how many times each list item is encountered_\n",
    "\n",
    "```python\n",
    "# Count the occurrences of the number 2\n",
    "numbers = [1,2,6,8,24,99,3,2,7,1]\n",
    "\n",
    "print(numbers.count(2))         # output: 2\n",
    "\n",
    "# Count the occurrences of the letter \"a\"\n",
    "list = [\"d\", \"a\", \"t\", \"a\", \"c\", \"a\", \"m\", \"p\"]\n",
    "\n",
    "list.count(\"a\")                 # output: 3\n",
    "```"
   ]
  },
  {
   "cell_type": "markdown",
   "metadata": {},
   "source": [
    "### _create single list out of list of lists_\n",
    "\n",
    "```python\n",
    "# Your initial list of lists\n",
    "list = [[1,2],[3,4],[5,6]]\n",
    "\n",
    "# Flatten out your original list of lists with `sum()`\n",
    "sum(list, [])\n",
    "```\n",
    "ouput: [1, 2, 3, 4, 5, 6]"
   ]
  },
  {
   "cell_type": "markdown",
   "metadata": {},
   "source": [
    "### _list methods_\n",
    "\n",
    "|Method|Description|\n",
    "|------------------|------------------------------------------------------------------------------------------------------------------------|\n",
    "|list.append(elem)|adds a single element to the end of the list. Common error: does not return the new list, just modifies the original.|\n",
    "|list.insert(index, elem) |inserts the element at the given index, shifting elements to the right.|\n",
    "|list.extend(list2)|adds the elements in list2 to the end of the list. Using + or += on a list is similar to using extend().|\n",
    "|list.index(elem)|searches for the given element from the start of the list and returns its index. Throws a ValueError if the element does not appear (use \"in\" to check without a ValueError).|\n",
    "|list.remove(elem)|searches for the first instance of the given element and removes it (throws ValueError if not present)|\n",
    "|list.sort() |sorts the list in place (does not return it). (The sorted() function shown later is preferred.)|\n",
    "|list.reverse()|reverses the list in place (does not return it)|\n",
    "|list.pop(index)|removes and returns the element at the given index. Returns the rightmost element if index is omitted (roughly the opposite of append()).|\n",
    "\n",
    "__Examples:__\n",
    "```python\n",
    "teams = ['Cowboys','Redskins','Eagles','Giants','Dolphins']\n",
    "teams2 = ['Raiders', 'Seahawks', 'Vikings']\n",
    "\n",
    "teams.append('Falcons')            # ['Cowboys', 'Redskins', 'Eagles', 'Giants', 'Dolphins', 'Falcons']\n",
    "\n",
    "teams.insert(2,'Steelers')         # ['Cowboys', 'Redskins', 'Steelers', 'Eagles', 'Giants', 'Dolphins', 'Falcons']\n",
    "\n",
    "teams.extend(teams2)               # ['Cowboys', 'Redskins', 'Steelers', 'Eagles', 'Giants', 'Dolphins', 'Falcons', 'Raiders', 'Seahawks', 'Vikings']\n",
    "\n",
    "teams.index('Giants')              # 4\n",
    "\n",
    "teams.remove('Steeler')            # ['Cowboys', 'Redskins', 'Eagles', 'Giants', 'Dolphins', 'Falcons', 'Raiders', 'Seahawks', 'Vikings']\n",
    "\n",
    "teams.sort()   #  does not return the list but list is altered as follows ['Cowboys', 'Dolphins', 'Eagles', 'Falcons', 'Giants', 'Raiders', 'Redskins', 'Seahawks', 'Vikings']\n",
    "\n",
    "teams.reverse()  #  does not return the list but list is altered as follows ['Vikings', 'Seahawks', 'Redskins', 'Raiders', 'Giants', 'Falcons', 'Eagles', 'Dolphins', 'Cowboys']\n",
    "\n",
    "teams.pop(2)                       # removes Redskinds ['Vikings', 'Seahawks', 'Raiders', 'Giants', 'Falcons', 'Eagles', 'Dolphins', 'Cowboys']\n",
    "\n",
    "```"
   ]
  },
  {
   "cell_type": "markdown",
   "metadata": {},
   "source": [
    "### _Try / except control with list.remove()_\n",
    "Attempting to remove a list element that doesn’t exists in the list will throw exception.  \n",
    "\n",
    "Therefore before calling list.remove() we should either,\n",
    "\n",
    "Check if element exists in list i.e.\n",
    "```python\n",
    "# Check if element exist in List, before removing\n",
    "\n",
    "teams = ['Cowboys','Redskins','Eagles','Giants','Dolphins']\n",
    "\n",
    "if 'Redskins' in teams:\n",
    "    teams.remove('Redskins')\n",
    "else:\n",
    "    print(\"Given Element Not Found in List\")\n",
    "print ( teams )                        # ['Cowboys', 'Eagles', 'Giants', 'Dolphins']\n",
    "```\n",
    "\n",
    "Or use try / except i.e.\n",
    "\n",
    "```python\n",
    "# If given element doesn't exists in list, then remove() can throw Error\n",
    "# Therefore use try / except while calling list.remove()\n",
    "try :\n",
    "    teams.remove('Patriots')\n",
    "except ValueError:\n",
    "    print(\"Given Element Not Found in List\")\n",
    "\n",
    "#returned: Given Element Not Found in List\n",
    "```"
   ]
  },
  {
   "cell_type": "markdown",
   "metadata": {},
   "source": [
    "### _list concatenation_  \n",
    "Also see extend method above  \n",
    "```python \n",
    "teams = ['Cowboys','Redskins','Eagles','Giants','Dolphins']  \n",
    "teams2 = ['Raiders', 'Seahawks', 'Vikings']  \n",
    "\n",
    "\n",
    "teams = teams + teams2\n",
    "print(teams)            # ['Cowboys', 'Redskins', 'Eagles', 'Giants', 'Dolphins', 'Raiders', 'Seahawks', 'Vikings']\n",
    "```"
   ]
  },
  {
   "cell_type": "markdown",
   "metadata": {},
   "source": [
    "### _list `in` and `not in`_   \n",
    "__Examples:__\n",
    "```python\n",
    "teams = ['Cowboys','Redskins','Eagles','Giants','Dolphins']    \n",
    "teams2 = ['Raiders', 'Seahawks', 'Vikings']    \n",
    "\n",
    "'Cowboys' in teams       # True\n",
    "'Raiders' in teams       # False\n",
    "\n",
    "'Raiders' not in teams   # True\n",
    "'Eagles' not in teams    # False\n",
    "```"
   ]
  },
  {
   "cell_type": "markdown",
   "metadata": {},
   "source": [
    "### _slicing a list_\n",
    "The slice() constructor creates a slice object representing the set of indices specified by range(start, stop, step).\n",
    "\n",
    "slice() mainly takes three parameters which have the same meaning in both constructs:\n",
    "\n",
    " - start - starting integer where the slicing of the object starts\n",
    " - stop - integer until which the slicing takes place. The slicing stops at index stop - 1.\n",
    " - step - integer value which determines the increment between each index for slicing  \n",
    "If a single parameter is passed, start and step are set to None.\n",
    "\n",
    "\n",
    "\n",
    "__Examples:__\n",
    "```python\n",
    "teams = ['Cowboys','Redskins','Eagles','Giants','Dolphins','Raiders', 'Seahawks', 'Vikings']    \n",
    "\n",
    "teams[1:4]     # ['Redskins', 'Eagles', 'Giants']\n",
    "\n",
    "teams[0:len(teams):2]        # ['Cowboys', 'Eagles', 'Dolphins', 'Seahawks']\n",
    "\n",
    "```"
   ]
  },
  {
   "cell_type": "markdown",
   "metadata": {},
   "source": [
    "### _difference between \"for i in list\" and \"for i in range(len(list))_\n",
    "```python\n",
    "teams = ['Cowboys','Redskins','Eagles','Giants','Dolphins','Raiders', 'Seahawks', 'Vikings']    \n",
    "\n",
    "for name in teams:\n",
    "    print ( name )\n",
    "```\n",
    "     returns: \n",
    "        Cowboys  \n",
    "        Redskins   \n",
    "        Eagles  \n",
    "        Giants  \n",
    "        Dolphins  \n",
    "        Raiders  \n",
    "        Seahawks  \n",
    "        Vikings  \n",
    "\n",
    "```python\n",
    "for name in range(len(teams)):\n",
    "    print ( name )\n",
    "```\n",
    "     returns:  \n",
    "        0  \n",
    "        1  \n",
    "        2  \n",
    "        3  \n",
    "        4  \n",
    "        5  \n",
    "        6  \n",
    "        7  "
   ]
  },
  {
   "cell_type": "markdown",
   "metadata": {},
   "source": [
    "### _list comparisons_  \n",
    "programatically you can compare this way\n",
    "```python\n",
    "teams = ['Cowboys','Redskins','Eagles','Giants','Dolphins']    \n",
    "teams2 = ['Raiders', 'Seahawks', 'Vikings']    \n",
    "teams3 = teams + ['Vikings']\n",
    "for name in teams:\n",
    "    for otherName in teams2:\n",
    "        if name == otherName:\n",
    "            print(name, otherName)\n",
    "```\n",
    "    returns:\n",
    "        nothing\n",
    "```python\n",
    "for name in teams2:\n",
    "    for otherName in teams3:\n",
    "        if name == otherName:\n",
    "            print(name)   \n",
    "```\n",
    "    returns:\n",
    "        Vikings\n",
    "            \n",
    "The use of Python Sets makes it easier:\n",
    "```python\n",
    "set(teams2).intersection(teams3)\n",
    "```\n",
    "    returns:\n",
    "        Vikings"
   ]
  },
  {
   "cell_type": "markdown",
   "metadata": {},
   "source": [
    "### __Good to know__\n",
    "-  lists are heterogeneous (elements don't have to be all the same type)\n",
    "-  have direct (or random) access (can refer to any element without having to access the others before it)\n",
    "-  don't have to stay the same size all the time - can get larger or smaller\n",
    "-  mutable - their elements can be changed\n"
   ]
  },
  {
   "cell_type": "markdown",
   "metadata": {},
   "source": [
    "### _Try / except control structure_\n",
    "\n",
    "As we saw earlier Python can give error messages under certain conditions. This is known as raising an exception and Python's default behaviour is to halt execution. \n",
    "\n",
    "In some cases we may be able to manage the error and still continue. This is known as exception handling and is achieved using `try ... except clauses`,\n",
    "```python\n",
    "arr = [1,2,3,4,5]\n",
    "# loop through the elements + 1 to throw an erro\n",
    "for i in range(6):\n",
    "    try:\n",
    "        val = arr[i]\n",
    "        print(str(val))\n",
    "    except IndexError:\n",
    "        print('Error: List index out of range, leaving loop')\n",
    "        break\n",
    "```\n",
    "If an exception is raised then the code immediately jumps to the nearest `except` block. The output of the above code block is:  \n",
    "    Output:  \n",
    "        1  \n",
    "        2  \n",
    "        3  \n",
    "        4  \n",
    "        5  \n",
    "        Error: List index out of range, leaving loop  \n",
    "\n",
    "As with other control structures there is an extra `else` clause that can be added which will only be executed if no error was raised,  \n",
    "```python\n",
    "arr = [1,2,3,4,5]\n",
    "value = 0\n",
    "try:\n",
    "   value = arr[5]\n",
    "except IndexError:\n",
    "   print('5 is not a valid array index')\n",
    "else:\n",
    "   print('6th element is ' + str(value))\n",
    "```\n",
    "    Output:  \n",
    "        5 is not a valid array index  \n",
    "\n",
    "With a `try...except...else` structure only one of the except/else clauses will ever be executed. In some circumstances however it is necessary to perform some operation, maybe a clean up, regardless of whether an exception was raised. This is done with a `try...except...finally` structure,  \n",
    "```python\n",
    "value = 0\n",
    "arr = [1,2,3,4]\n",
    "element = 6\n",
    "try:\n",
    "    value = arr[element]\n",
    "except IndexError:\n",
    "    print(str(element) + ' is not a valid array index')\n",
    "else:\n",
    "    print(str(element + 1 ) + 'th element is ' + str(value))\n",
    "finally:\n",
    "    print('Entered finally clause, do cleanup ...')\n",
    "```\n",
    "    Output:  \n",
    "        6 is not a valid array index  \n",
    "        Entered finally clause, do cleanup ...   \n",
    "\n",
    "Changing the value of the element variable between valid/invalid values will show that one of the `except/else` clauses gets executed and then the `finally` clause always gets executed.  \n",
    "\n",
    "It is also possible to catch exceptions of any type by leaving off the specific error that is to be caught. This is however not recommended as then it is not possible to say exactly what error occurred\n",
    "```python\n",
    "value = 0\n",
    "arr = [1,2,3,4]\n",
    "element = 6\n",
    "try:\n",
    "    value = arr[element]\n",
    "except:     # Catch everything\n",
    "    print(\"Something went wrong but I don't know what\")\n",
    "```\n",
    "    Output:  \n",
    "        Something went wrong but I don't know what  "
   ]
  },
  {
   "cell_type": "markdown",
   "metadata": {},
   "source": [
    "### _Python Standard Exceptions_\n",
    "\n",
    "|Exception Name|Description|\n",
    "|----------------------|----------------------------------------------------|\n",
    "|Exception|Base class for all exceptions|\n",
    "|StopIteration|Raised when the next() method of an iterator does not point to any object.|\n",
    "|SystemExit|Raised by the sys.exit() function.|\n",
    "|StandardError|Base class for all built-in exceptions except StopIteration and SystemExit.|\n",
    "|ArithmeticError|Base class for all errors that occur for numeric calculation.|\n",
    "|OverflowError|Raised when a calculation exceeds maximum limit for a numeric type.|\n",
    "|FloatingPointError|Raised when a floating point calculation fails.|\n",
    "|ZeroDivisionError|Raised when division or modulo by zero takes place for all numeric types.|\n",
    "|AssertionError|Raised in case of failure of the Assert statement.|\n",
    "|AttributeError|Raised in case of failure of attribute reference or assignment.|\n",
    "|EOFError|Raised when there is no input from either the raw_input() or input() function and the end of file is reached.|\n",
    "|ImportError|Raised when an import statement fails.|\n",
    "|KeyboardInterrupt|Raised when the user interrupts program execution, usually by pressing Ctrl+c.|\n",
    "|LookupError|Base class for all lookup errors.|\n",
    "|IndexError|Raised when an index is not found in a sequence.|\n",
    "|KeyError|Raised when the specified key is not found in the dictionary.|\n",
    "|NameError|Raised when an identifier is not found in the local or global namespace.|\n",
    "|UnboundLocalError|Raised when trying to access a local variable in a function or method but no value has been assigned to it.\n",
    "|EnvironmentError|Base class for all exceptions that occur outside the Python environment.|\n",
    "|IOError|Raised when an input/ output operation fails, such as the print statement or the open() function when trying to open a file that does not exist.|\n",
    "|OSError|Raised for operating system-related errors.|\n",
    "|SyntaxError|Raised when there is an error in Python syntax.|\n",
    "|IndentationError|Raised when indentation is not specified properly.|\n",
    "|SystemError|Raised when the interpreter finds an internal problem, but when this error is encountered the Python interpreter does not exit.|\n",
    "|SystemExit|Raised when Python interpreter is quit by using the sys.exit() function. If not handled in the code, causes the interpreter to exit.|\n",
    "|TypeError|Raised when an operation or function is attempted that is invalid for the specified data type.|\n",
    "|ValueError|Raised when the built-in function for a data type has the valid type of arguments, but the arguments have invalid values specified.|\n",
    "|RuntimeError|Raised when a generated error does not fall into any category.|\n",
    "|NotImplementedError|Raised when an abstract method that needs to be implemented in an inherited class is not actually implemented.|"
   ]
  },
  {
   "cell_type": "markdown",
   "metadata": {},
   "source": [
    "### Files\n",
    "- why use files\n",
    "- how to open / process / close\n",
    "- \"opening a file to write to is constructive (creative) and destructive\"\n",
    "- input data from files (know how much they read, what type they return)\n",
    "  - read\n",
    "  - readlines\n",
    "  - readline\n",
    "- output to files\n",
    "  - write\n",
    "  - print\n",
    "- file modes \"r\",\"w\",\"a\""
   ]
  },
  {
   "cell_type": "code",
   "execution_count": null,
   "metadata": {},
   "outputs": [],
   "source": []
  },
  {
   "cell_type": "code",
   "execution_count": null,
   "metadata": {},
   "outputs": [],
   "source": []
  },
  {
   "cell_type": "code",
   "execution_count": null,
   "metadata": {},
   "outputs": [],
   "source": []
  }
 ],
 "metadata": {
  "kernelspec": {
   "display_name": "Python 3",
   "language": "python",
   "name": "python3"
  },
  "language_info": {
   "codemirror_mode": {
    "name": "ipython",
    "version": 3
   },
   "file_extension": ".py",
   "mimetype": "text/x-python",
   "name": "python",
   "nbconvert_exporter": "python",
   "pygments_lexer": "ipython3",
   "version": "3.7.1"
  }
 },
 "nbformat": 4,
 "nbformat_minor": 2
}
