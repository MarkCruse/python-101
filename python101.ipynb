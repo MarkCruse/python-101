{
 "cells": [
  {
   "cell_type": "markdown",
   "metadata": {},
   "source": [
    "### Functions\n",
    "### _Define a function_  \n",
    "```python \n",
    "def MyFunction(param):\n",
    "```\n",
    "### _Call a function_\n",
    "```python \n",
    "name = 'Sam'\n",
    "MyFunction(name)\n",
    "```\n",
    "### _Parameters Vs. Arguments_  \n",
    "   > `Parameters` are the name within the function definition. __In example above__, the function `MyFunction` is asking for a parameter called `param` which is used within the function.  \n",
    "   > `Arguments` are the values passed in when the function is called. __In example above__, `name` is the argument.\n",
    "     `Parameters` don’t change when the program is running.  \n",
    "   `Arguments` are probably going to be different every time the function is called."
   ]
  },
  {
   "cell_type": "markdown",
   "metadata": {},
   "source": [
    "### _Function returns One/More Values_\n",
    "  Most functions take in arguments, perform some processing and then return a value to the caller.  \n",
    "  In Python this is achieved with the return statement.\n"
   ]
  },
  {
   "cell_type": "code",
   "execution_count": 8,
   "metadata": {},
   "outputs": [
    {
     "name": "stdout",
     "output_type": "stream",
     "text": [
      "4\n",
      "4\n"
     ]
    }
   ],
   "source": [
    "def square(n):  \n",
    "  return n*n\n",
    "\n",
    "two_squared = square(2)   # this is calling the function square and puts the return value into two_squared\n",
    "print(two_squared)\n",
    "\n",
    "print(square(2))        # or call the function and then print the returned value"
   ]
  },
  {
   "cell_type": "markdown",
   "metadata": {},
   "source": [
    "Python also has the ability to __return multiple values__ from a function call, something missing from many other languages. In this case the return values should be a comma-separated list of values and Python then constructs a tuple and returns this to the caller, e.g.  "
   ]
  },
  {
   "cell_type": "code",
   "execution_count": 9,
   "metadata": {},
   "outputs": [
    {
     "name": "stdout",
     "output_type": "stream",
     "text": [
      "(4, 9)\n"
     ]
    }
   ],
   "source": [
    "def square(x,y):\n",
    "    return x*x, y*y\n",
    "\n",
    "t = square(2,3)\n",
    "print(t)  \n",
    "# Outputs: (4,9)\n",
    "# Now access the tuple with usual operations"
   ]
  },
  {
   "cell_type": "markdown",
   "metadata": {},
   "source": [
    "An alternate syntax when dealing with multiple return values is to have Python \"unwrap\" the tuple into the variables directly by specifying the same number of variables on the left-hand side of the assignment as there are returned from the function, e.g.  "
   ]
  },
  {
   "cell_type": "code",
   "execution_count": 10,
   "metadata": {},
   "outputs": [
    {
     "name": "stdout",
     "output_type": "stream",
     "text": [
      "4\n",
      "9\n"
     ]
    }
   ],
   "source": [
    "def square(x,y):\n",
    "    return x*x, y*y\n",
    "\n",
    "xsq, ysq = square(2,3)\n",
    "print(xsq)  \n",
    "# Outputs: 4\n",
    "print(ysq)  \n",
    "# Outputs: 9  \n",
    "# Tuple has vanished!"
   ]
  },
  {
   "cell_type": "markdown",
   "metadata": {},
   "source": [
    "__Return multiple values from a method using list__"
   ]
  },
  {
   "cell_type": "code",
   "execution_count": 12,
   "metadata": {},
   "outputs": [
    {
     "name": "stdout",
     "output_type": "stream",
     "text": [
      "[4, 9]\n"
     ]
    }
   ],
   "source": [
    "def square(x,y):\n",
    "    return [x*x, y*y]\n",
    "\n",
    "list = square(2,3)\n",
    "print(list)\n",
    "# Outputs: [4,9]"
   ]
  },
  {
   "cell_type": "markdown",
   "metadata": {},
   "source": [
    "### _Local vs. Global variables in Functions_"
   ]
  },
  {
   "cell_type": "code",
   "execution_count": 14,
   "metadata": {},
   "outputs": [
    {
     "name": "stdout",
     "output_type": "stream",
     "text": [
      "global :  1\n",
      "Inside f() :  1\n",
      "global :  1\n",
      "Inside g() :  2\n",
      "global :  1\n",
      "Inside h() :  3\n",
      "global :  3\n"
     ]
    }
   ],
   "source": [
    "a = 1\n",
    "\n",
    "# Uses global because there is no local 'a' \n",
    "def f(): \n",
    "    print ('Inside f() : ', a ) \n",
    "\n",
    "# Variable 'a' is redefined as a local \n",
    "def g():     \n",
    "    a = 2\n",
    "    print ('Inside g() : ',a )\n",
    "\n",
    "# Uses global keyword to modify global 'a' \n",
    "def h():     \n",
    "    global a \n",
    "    a = 3\n",
    "    print ('Inside h() : ',a )\n",
    "\n",
    "# Global scope \n",
    "print ('global : ',a )\n",
    "f() \n",
    "print ('global : ',a )\n",
    "g() \n",
    "print ('global : ',a )\n",
    "h() \n",
    "print ('global : ',a)"
   ]
  },
  {
   "cell_type": "code",
   "execution_count": null,
   "metadata": {},
   "outputs": [],
   "source": []
  }
 ],
 "metadata": {
  "kernelspec": {
   "display_name": "Python 3",
   "language": "python",
   "name": "python3"
  },
  "language_info": {
   "codemirror_mode": {
    "name": "ipython",
    "version": 3
   },
   "file_extension": ".py",
   "mimetype": "text/x-python",
   "name": "python",
   "nbconvert_exporter": "python",
   "pygments_lexer": "ipython3",
   "version": "3.7.1"
  }
 },
 "nbformat": 4,
 "nbformat_minor": 2
}
