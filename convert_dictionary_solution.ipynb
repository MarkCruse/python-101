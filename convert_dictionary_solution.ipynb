{
 "cells": [
  {
   "cell_type": "markdown",
   "metadata": {},
   "source": [
    "### Convert a dictionary of lat/lon values encoded as a single string values to a dictionary of tuples containing two numeric types separated by commas."
   ]
  },
  {
   "cell_type": "code",
   "execution_count": 9,
   "metadata": {},
   "outputs": [],
   "source": [
    "locations = {\"Chicago\":\"41.83,-88.01\", \"Paris\":\"48.8589996,2.20\", \"Tokyo\":\"35.67,139.56\", \\\n",
    "            \"San Paulo\":\"-22.4732068,-53.14\"}"
   ]
  },
  {
   "cell_type": "markdown",
   "metadata": {},
   "source": [
    "__Python dictionaries contain a key with values associated to the key.__  \n",
    "The following demonstrates looping over each key to print the values within the key"
   ]
  },
  {
   "cell_type": "code",
   "execution_count": 12,
   "metadata": {},
   "outputs": [
    {
     "name": "stdout",
     "output_type": "stream",
     "text": [
      "The key is:  Chicago\n",
      "The values of  Chicago :  41.83,-88.01 - <class 'str'>\n",
      "The key is:  Paris\n",
      "The values of  Paris :  48.8589996,2.20 - <class 'str'>\n",
      "The key is:  Tokyo\n",
      "The values of  Tokyo :  35.67,139.56 - <class 'str'>\n",
      "The key is:  San Paulo\n",
      "The values of  San Paulo :  -22.4732068,-53.14 - <class 'str'>\n"
     ]
    }
   ],
   "source": [
    "for key in locations.keys():      #Loop through each key of the dictionary\n",
    "    location_string = locations[key]   \n",
    "    print ('The key is: ', key)\n",
    "    print ('The values of ', key, ': ', location_string, '-', type(location_string))"
   ]
  },
  {
   "cell_type": "markdown",
   "metadata": {},
   "source": [
    "__Now split the single string on the comma to produce a list with 2 string elements.__"
   ]
  },
  {
   "cell_type": "code",
   "execution_count": 3,
   "metadata": {},
   "outputs": [
    {
     "name": "stdout",
     "output_type": "stream",
     "text": [
      "['41.83', '-88.01'] - <class 'list'>\n",
      "['48.8589996', '2.20'] - <class 'list'>\n",
      "['35.67', '139.56'] - <class 'list'>\n",
      "['-22.4732068', '-53.14'] - <class 'list'>\n"
     ]
    }
   ],
   "source": [
    "for key in locations.keys():      #Loop through each key of the dictionary\n",
    "    location_string=locations[key].split(',')  #Split the geolocation on the comma returning an array with 2 elements \n",
    "    print (location_string, '-', type(location_string))"
   ]
  },
  {
   "cell_type": "markdown",
   "metadata": {},
   "source": [
    "__Print the individual elements and the type.__"
   ]
  },
  {
   "cell_type": "code",
   "execution_count": 4,
   "metadata": {},
   "outputs": [
    {
     "name": "stdout",
     "output_type": "stream",
     "text": [
      "41.83 - <class 'str'>\n",
      "-88.01 - <class 'str'>\n",
      "48.8589996 - <class 'str'>\n",
      "2.20 - <class 'str'>\n",
      "35.67 - <class 'str'>\n",
      "139.56 - <class 'str'>\n",
      "-22.4732068 - <class 'str'>\n",
      "-53.14 - <class 'str'>\n"
     ]
    }
   ],
   "source": [
    "for key in locations.keys():      #Loop through each key of the dictionary\n",
    "    location_string=locations[key].split(',')  #Split the geolocation on the comma returning a list with 2 elements \n",
    "    print (location_string[0], '-', type(location_string[0]))\n",
    "    print (location_string[1], '-', type(location_string[1]))"
   ]
  },
  {
   "cell_type": "markdown",
   "metadata": {},
   "source": [
    "__Add a new list to the process. Add the location_string elements.__"
   ]
  },
  {
   "cell_type": "code",
   "execution_count": 5,
   "metadata": {},
   "outputs": [
    {
     "name": "stdout",
     "output_type": "stream",
     "text": [
      "[['41.83', '-88.01'], ['48.8589996', '2.20'], ['35.67', '139.56'], ['-22.4732068', '-53.14']]\n"
     ]
    }
   ],
   "source": [
    "newlist=[]                         #Create a new list with no values\n",
    "for key in locations.keys():       #Loop through each key of the dictionary\n",
    "    location_string=locations[key].split(',')   #Split the geolocation on the comma returning 2 \n",
    "\n",
    "    newlist.append(location_string) #convert the string into a float and append it to the list locations\n",
    "print (newlist)"
   ]
  },
  {
   "cell_type": "markdown",
   "metadata": {},
   "source": [
    "__Add an inner loop to iterate over the contents of the string. Convert each string to float.  Append to 'newlist' list.__"
   ]
  },
  {
   "cell_type": "code",
   "execution_count": 6,
   "metadata": {},
   "outputs": [
    {
     "name": "stdout",
     "output_type": "stream",
     "text": [
      "[41.83, -88.01] <class 'list'>\n",
      "[48.8589996, 2.2] <class 'list'>\n",
      "[35.67, 139.56] <class 'list'>\n",
      "[-22.4732068, -53.14] <class 'list'>\n"
     ]
    }
   ],
   "source": [
    "locations = {\"Chicago\":\"41.83,-88.01\", \"Paris\":\"48.8589996,2.20\", \"Tokyo\":\"35.67,139.56\", \\\n",
    "            \"San Paulo\":\"-22.4732068,-53.14\"}\n",
    "for key in locations.keys():      #Loop through each key of the dictionary\n",
    "    location_string=locations[key].split(',')   #Split the geolocation on the comma returning 2 \n",
    "    newlist=[]                    #Create a new list with no values\n",
    "    for i in range(len(location_string)):       #Loop through each of the values in the geolocation\n",
    "        newlist.append(float(location_string[i])) #convert the string into a float and append it to the list\n",
    "    print (newlist, type(newlist))"
   ]
  },
  {
   "cell_type": "markdown",
   "metadata": {},
   "source": [
    "\n",
    "__Add a line to convert the list 'newlist' to tuple. Add the tuple to the dictionary.__"
   ]
  },
  {
   "cell_type": "code",
   "execution_count": 7,
   "metadata": {},
   "outputs": [
    {
     "data": {
      "text/plain": [
       "{'Chicago': (41.83, -88.01),\n",
       " 'Paris': (48.8589996, 2.2),\n",
       " 'Tokyo': (35.67, 139.56),\n",
       " 'San Paulo': (-22.4732068, -53.14)}"
      ]
     },
     "execution_count": 7,
     "metadata": {},
     "output_type": "execute_result"
    }
   ],
   "source": [
    "locations = {\"Chicago\":\"41.83,-88.01\", \"Paris\":\"48.8589996,2.20\", \"Tokyo\":\"35.67,139.56\", \\\n",
    "            \"San Paulo\":\"-22.4732068,-53.14\"}\n",
    "for key in locations.keys():      #Loop through each key of the dictionary\n",
    "    location_string=locations[key].split(',')   #Split the geolocation on the comma returning 2 \n",
    "    newlist=[]                    #Create a new list with no values\n",
    "    for i in range(len(location_string)):       #Loop through each of the values in the geolocation\n",
    "        newlist.append(float(location_string[i])) #convert the string into a float and append it to the list\n",
    "    locations[key]=tuple(newlist)   #Update the dictionary values from string to a tuple of numeric types \n",
    "locations"
   ]
  },
  {
   "cell_type": "code",
   "execution_count": 24,
   "metadata": {},
   "outputs": [
    {
     "name": "stdout",
     "output_type": "stream",
     "text": [
      "[['41.83', '-88.01'], ['48.8589996', '2.20'], ['35.67', '139.56'], ['-22.4732068', '-53.14']]\n"
     ]
    }
   ],
   "source": [
    "locations = {\"Chicago\":\"41.83,-88.01\", \"Paris\":\"48.8589996,2.20\", \"Tokyo\":\"35.67,139.56\", \\\n",
    "            \"San Paulo\":\"-22.4732068,-53.14\"}\n",
    "location_string=[locations[key].split(',') for key in locations.keys()]\n",
    "print (location_string)"
   ]
  },
  {
   "cell_type": "code",
   "execution_count": 22,
   "metadata": {},
   "outputs": [
    {
     "name": "stdout",
     "output_type": "stream",
     "text": [
      "[(1, 0), (2, 0), (2, 1), (3, 0), (3, 1), (3, 2), (4, 0), (4, 1), (4, 2), (4, 3), (5, 0), (5, 1), (5, 2), (5, 3), (5, 4), (6, 0), (6, 1), (6, 2), (6, 3), (6, 4), (6, 5), (7, 0), (7, 1), (7, 2), (7, 3), (7, 4), (7, 5), (7, 6), (8, 0), (8, 1), (8, 2), (8, 3), (8, 4), (8, 5), (8, 6), (8, 7), (9, 0), (9, 1), (9, 2), (9, 3), (9, 4), (9, 5), (9, 6), (9, 7), (9, 8)]\n"
     ]
    }
   ],
   "source": [
    "results = [(i, j) for i in range(10) for j in range(i)]\n",
    "print (results)"
   ]
  },
  {
   "cell_type": "code",
   "execution_count": 25,
   "metadata": {},
   "outputs": [
    {
     "ename": "AttributeError",
     "evalue": "'str' object has no attribute 'values'",
     "output_type": "error",
     "traceback": [
      "\u001b[1;31m---------------------------------------------------------------------------\u001b[0m",
      "\u001b[1;31mAttributeError\u001b[0m                            Traceback (most recent call last)",
      "\u001b[1;32m<ipython-input-25-ffab8e877106>\u001b[0m in \u001b[0;36m<module>\u001b[1;34m\u001b[0m\n\u001b[1;32m----> 1\u001b[1;33m \u001b[1;33m[\u001b[0m\u001b[0mtuple\u001b[0m\u001b[1;33m(\u001b[0m\u001b[0md\u001b[0m\u001b[1;33m.\u001b[0m\u001b[0mvalues\u001b[0m\u001b[1;33m(\u001b[0m\u001b[1;33m)\u001b[0m\u001b[1;33m)\u001b[0m \u001b[1;32mfor\u001b[0m \u001b[0md\u001b[0m \u001b[1;32min\u001b[0m \u001b[0mlocations\u001b[0m\u001b[1;33m]\u001b[0m\u001b[1;33m\u001b[0m\u001b[0m\n\u001b[0m",
      "\u001b[1;32m<ipython-input-25-ffab8e877106>\u001b[0m in \u001b[0;36m<listcomp>\u001b[1;34m(.0)\u001b[0m\n\u001b[1;32m----> 1\u001b[1;33m \u001b[1;33m[\u001b[0m\u001b[0mtuple\u001b[0m\u001b[1;33m(\u001b[0m\u001b[0md\u001b[0m\u001b[1;33m.\u001b[0m\u001b[0mvalues\u001b[0m\u001b[1;33m(\u001b[0m\u001b[1;33m)\u001b[0m\u001b[1;33m)\u001b[0m \u001b[1;32mfor\u001b[0m \u001b[0md\u001b[0m \u001b[1;32min\u001b[0m \u001b[0mlocations\u001b[0m\u001b[1;33m]\u001b[0m\u001b[1;33m\u001b[0m\u001b[0m\n\u001b[0m",
      "\u001b[1;31mAttributeError\u001b[0m: 'str' object has no attribute 'values'"
     ]
    }
   ],
   "source": [
    "[tuple(d.values()) for d in locations]"
   ]
  },
  {
   "cell_type": "code",
   "execution_count": 27,
   "metadata": {},
   "outputs": [
    {
     "name": "stdout",
     "output_type": "stream",
     "text": [
      "41.83,-88.01\n",
      "48.8589996,2.20\n",
      "35.67,139.56\n",
      "-22.4732068,-53.14\n",
      "listt: [('Chicago', '41.83,-88.01'), ('Paris', '48.8589996,2.20'), ('Tokyo', '35.67,139.56'), ('San Paulo', '-22.4732068,-53.14')]\n"
     ]
    },
    {
     "data": {
      "text/plain": [
       "'Chicago=41.83,-88.01,Paris=48.8589996,2.20,Tokyo=35.67,139.56,San Paulo=-22.4732068,-53.14'"
      ]
     },
     "execution_count": 27,
     "metadata": {},
     "output_type": "execute_result"
    }
   ],
   "source": [
    "locations = {\"Chicago\":\"41.83,-88.01\", \"Paris\":\"48.8589996,2.20\", \"Tokyo\":\"35.67,139.56\", \"San Paulo\":\"-22.4732068,-53.14\"}\n",
    "# Step 1: Convert string values to numeric type \n",
    "for key in locations.keys():\n",
    "    results = locations[key]\n",
    "    print(results)\n",
    "# Step 2: Convert values from dictionary to tuple \n",
    "listt =  [(k,v) for k, v in dict.items(locations)]\n",
    "print('listt:',listt)\n",
    "# Step 3: Format the tuple ?? \n",
    "end = [('Chicago', '41.83,-88.01'), ('Paris', '48.8589996,2.20'), ('Tokyo', '35.67,139.56'), ('San Paulo', '-22.4732068,-53.14')]\n",
    "','.join('='.join(t) for t in end)"
   ]
  },
  {
   "cell_type": "code",
   "execution_count": 30,
   "metadata": {},
   "outputs": [
    {
     "name": "stdout",
     "output_type": "stream",
     "text": [
      "-22.4732068,-53.14\n"
     ]
    }
   ],
   "source": [
    " print(results)\n",
    "#location_string=locations[key].split(',')"
   ]
  },
  {
   "cell_type": "code",
   "execution_count": 31,
   "metadata": {},
   "outputs": [
    {
     "name": "stdout",
     "output_type": "stream",
     "text": [
      "['41.83', '-88.01']\n",
      "['48.8589996', '2.20']\n",
      "['35.67', '139.56']\n",
      "['-22.4732068', '-53.14']\n"
     ]
    }
   ],
   "source": [
    "for key in locations.keys():\n",
    "    results = locations[key]\n",
    "    print(results.split(','))"
   ]
  },
  {
   "cell_type": "code",
   "execution_count": 45,
   "metadata": {},
   "outputs": [
    {
     "data": {
      "text/plain": [
       "{'Chicago': ('41.83', '-88.01'),\n",
       " 'Paris': ('48.8589996', '2.20'),\n",
       " 'Tokyo': ('35.67', '139.56'),\n",
       " 'San Paulo': ('-22.4732068', '-53.14')}"
      ]
     },
     "execution_count": 45,
     "metadata": {},
     "output_type": "execute_result"
    }
   ],
   "source": [
    "locations = {\"Chicago\":\"41.83,-88.01\", \"Paris\":\"48.8589996,2.20\", \"Tokyo\":\"35.67,139.56\", \\\n",
    "            \"San Paulo\":\"-22.4732068,-53.14\"}\n",
    "for key in locations.keys():\n",
    "    results = locations[key]\n",
    "    results = results.split(',')\n",
    "    locations[key]=tuple(results)\n",
    "locations"
   ]
  },
  {
   "cell_type": "code",
   "execution_count": 44,
   "metadata": {},
   "outputs": [
    {
     "data": {
      "text/plain": [
       "-22.4732068"
      ]
     },
     "execution_count": 44,
     "metadata": {},
     "output_type": "execute_result"
    }
   ],
   "source": [
    "locations = {\"Chicago\":\"41.83,-88.01\", \"Paris\":\"48.8589996,2.20\", \"Tokyo\":\"35.67,139.56\", \\\n",
    "            \"San Paulo\":\"-22.4732068,-53.14\"}\n",
    "for key in locations.keys():\n",
    "    results = locations[key].split(',')\n",
    "    results = float(results[0])\n",
    "results"
   ]
  },
  {
   "cell_type": "code",
   "execution_count": null,
   "metadata": {},
   "outputs": [],
   "source": []
  }
 ],
 "metadata": {
  "kernelspec": {
   "display_name": "Python 3",
   "language": "python",
   "name": "python3"
  },
  "language_info": {
   "codemirror_mode": {
    "name": "ipython",
    "version": 3
   },
   "file_extension": ".py",
   "mimetype": "text/x-python",
   "name": "python",
   "nbconvert_exporter": "python",
   "pygments_lexer": "ipython3",
   "version": "3.7.0"
  }
 },
 "nbformat": 4,
 "nbformat_minor": 2
}
