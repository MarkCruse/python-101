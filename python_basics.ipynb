{
 "cells": [
  {
   "cell_type": "code",
   "execution_count": null,
   "metadata": {},
   "outputs": [],
   "source": []
  },
  {
   "cell_type": "markdown",
   "metadata": {},
   "source": [
    "# Python Basics - Useful Python Notes"
   ]
  },
  {
   "cell_type": "markdown",
   "metadata": {},
   "source": [
    "* Python is case sensitive. Observe or be burned\n",
    "\n",
    "* There is no end statement character (like semicolon in Javascript)\n",
    "\n",
    "* Indentation is important since there is not end of statement charater\n",
    "\n",
    "* Preferred indentation method is 4 spaces. **Example below.**\n"
   ]
  },
  {
   "cell_type": "code",
   "execution_count": null,
   "metadata": {},
   "outputs": [],
   "source": [
    "#Here is an example of a correctly (though confusingly) indented piece of Python code:\n",
    "\n",
    "def perm(l):\n",
    "        # Compute the list of all permutations of l\n",
    "    if len(l) <= 1:\n",
    "        return [l]\n",
    "    r = []\n",
    "    for i in range(len(l)):\n",
    "        s = l[:i] + l[i+1:]\n",
    "        p = perm(s)\n",
    "        for x in p:\n",
    "            r.append(l[i:i+1] + x)\n",
    "    return r\n",
    "#perm('test')"
   ]
  },
  {
   "cell_type": "code",
   "execution_count": null,
   "metadata": {},
   "outputs": [],
   "source": [
    "#The following example shows various indentation errors:\n",
    "\n",
    "     def perm(l):                       # error: first line indented\n",
    "    for i in range(len(l)):             # error: not indented\n",
    "        s = l[:i] + l[i+1:]\n",
    "            p = perm(l[:i] + l[i+1:])   # error: unexpected indent\n",
    "            for x in p:\n",
    "                    r.append(l[i:i+1] + x)\n",
    "                return r                # error: inconsistent dedentThe following example shows various indentation errors:\n",
    "\n",
    "     def perm(l):                       # error: first line indented\n",
    "    for i in range(len(l)):             # error: not indented\n",
    "        s = l[:i] + l[i+1:]\n",
    "            p = perm(l[:i] + l[i+1:])   # error: unexpected indent\n",
    "            for x in p:\n",
    "                    r.append(l[i:i+1] + x)\n",
    "                return r                # error: inconsistent dedent"
   ]
  },
  {
   "cell_type": "markdown",
   "metadata": {},
   "source": [
    "___"
   ]
  },
  {
   "cell_type": "code",
   "execution_count": null,
   "metadata": {},
   "outputs": [],
   "source": []
  }
 ],
 "metadata": {
  "kernelspec": {
   "display_name": "Python 3",
   "language": "python",
   "name": "python3"
  },
  "language_info": {
   "codemirror_mode": {
    "name": "ipython",
    "version": 3
   },
   "file_extension": ".py",
   "mimetype": "text/x-python",
   "name": "python",
   "nbconvert_exporter": "python",
   "pygments_lexer": "ipython3",
   "version": "3.6.6"
  }
 },
 "nbformat": 4,
 "nbformat_minor": 2
}
