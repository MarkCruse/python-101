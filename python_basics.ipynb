{
 "cells": [
  {
   "cell_type": "markdown",
   "metadata": {},
   "source": [
    "# Python Basics - Useful Python Notes"
   ]
  },
  {
   "cell_type": "markdown",
   "metadata": {},
   "source": [
    "* Python is case sensitive. Observe or be burned\n",
    "\n",
    "* There is no end statement character (like semicolon in Javascript)\n",
    "\n",
    "* Indentation is important since there is not end of statement charater\n",
    "\n",
    "* Preferred indentation method is 4 spaces. **Example below.**\n"
   ]
  },
  {
   "cell_type": "code",
   "execution_count": null,
   "metadata": {},
   "outputs": [],
   "source": []
  },
  {
   "cell_type": "code",
   "execution_count": 1,
   "metadata": {},
   "outputs": [],
   "source": [
    "#Here is an example of a correctly (though confusingly) indented piece of Python code:\n",
    "\n",
    "def perm(l):\n",
    "        # Compute the list of all permutations of l\n",
    "    if len(l) <= 1:\n",
    "        return [l]\n",
    "    r = []\n",
    "    for i in range(len(l)):\n",
    "        s = l[:i] + l[i+1:]\n",
    "        p = perm(s)\n",
    "        for x in p:\n",
    "            r.append(l[i:i+1] + x)\n",
    "    return r\n",
    "#perm('test')"
   ]
  },
  {
   "cell_type": "code",
   "execution_count": 3,
   "metadata": {
    "collapsed": true
   },
   "outputs": [
    {
     "ename": "IndentationError",
     "evalue": "unindent does not match any outer indentation level (<tokenize>, line 4)",
     "output_type": "error",
     "traceback": [
      "\u001b[0;36m  File \u001b[0;32m\"<tokenize>\"\u001b[0;36m, line \u001b[0;32m4\u001b[0m\n\u001b[0;31m    for i in range(len(l)):             # error: not indented\u001b[0m\n\u001b[0m    ^\u001b[0m\n\u001b[0;31mIndentationError\u001b[0m\u001b[0;31m:\u001b[0m unindent does not match any outer indentation level\n"
     ]
    }
   ],
   "source": [
    "#The following example shows various indentation errors:\n",
    "\n",
    "     def perm(l):                       # error: first line indented\n",
    "    for i in range(len(l)):             # error: not indented\n",
    "        s = l[:i] + l[i+1:]\n",
    "            p = perm(l[:i] + l[i+1:])   # error: unexpected indent\n",
    "            for x in p:\n",
    "                    r.append(l[i:i+1] + x)\n",
    "                return r                # error: inconsistent dedentThe following example shows various indentation errors:\n",
    "\n",
    "     def perm(l):                       # error: first line indented\n",
    "    for i in range(len(l)):             # error: not indented\n",
    "        s = l[:i] + l[i+1:]\n",
    "            p = perm(l[:i] + l[i+1:])   # error: unexpected indent\n",
    "            for x in p:\n",
    "                    r.append(l[i:i+1] + x)\n",
    "                return r                # error: inconsistent dedent"
   ]
  },
  {
   "cell_type": "markdown",
   "metadata": {},
   "source": [
    "## Explicit Lines\n",
    "Two or more physical lines may be joined into logical lines using backslash characters (\\), as follows: when a physical line ends in a backslash that is not part of a string literal or comment, it is joined with the following forming a single logical line, deleting the backslash and the following end-of-line character. For example:"
   ]
  },
  {
   "cell_type": "code",
   "execution_count": null,
   "metadata": {},
   "outputs": [],
   "source": [
    "def checkdate():\n",
    "    if 1900 < year < 2100 and 1 <= month <= 12 \\\n",
    "        and 1 <= day <= 31 and 0 <= hour < 24 \\\n",
    "        and 0 <= minute < 60 and 0 <= second < 60:   # Looks like a valid date\n",
    "            return 1"
   ]
  },
  {
   "cell_type": "markdown",
   "metadata": {},
   "source": [
    "## Implicit line joining\n",
    "Expressions in parentheses, square brackets or curly braces can be split over more than one physical line without using backslashes. For example:"
   ]
  },
  {
   "cell_type": "code",
   "execution_count": null,
   "metadata": {},
   "outputs": [],
   "source": [
    "month_names = ['Januari', 'Februari', 'Maart',      # These are the\n",
    "               'April',   'Mei',      'Juni',       # Dutch names\n",
    "               'Juli',    'Augustus', 'September',  # for the months\n",
    "               'Oktober', 'November', 'December']   # of the year"
   ]
  },
  {
   "cell_type": "markdown",
   "metadata": {},
   "source": [
    "## Identifiers (variable names) \n",
    "\n",
    "&nbsp;&nbsp;&nbsp;must start with a letter or an underscore, such as:|  \n",
    "&nbsp;&nbsp;&nbsp; \\_underscore  \n",
    "&nbsp;&nbsp;&nbsp; underscore\\_  \n",
    "&nbsp;&nbsp;&nbsp;The remainder of your variable name may consist of letters, numbers and underscores.  \n",
    "&nbsp;&nbsp;&nbsp;password1  \n",
    "&nbsp;&nbsp;&nbsp;n00b  \n",
    "&nbsp;&nbsp;&nbsp;un_der_scores  \n",
    "&nbsp;&nbsp;&nbsp;Names are case sensitive.  \n",
    "&nbsp;&nbsp;&nbsp;case_sensitive, CASE_SENSITIVE, and Case_Sensitive are each a different variable.  \n"
   ]
  },
  {
   "cell_type": "markdown",
   "metadata": {},
   "source": [
    "\n",
    "| Operator | Description                                                                                                       | Example                      |\n",
    "| -------- | ----------------------------------------------------------------------------------------------------------------- | ---------------------------- |\n",
    "| ==       | If the values of two operands are equal, then the condition becomes true.                                         | `(26 == 26)` # True          |\n",
    "| !=       | If the values of two operands are not equal, then condition becomes true.                                         | `('hello != 'Hello')` # True |\n",
    "| >        | If the value of left operand is greater than the value of right operand, then condition becomes true.             | `(26 > 24)` # True           |\n",
    "| <        | If the value of left operand is less than the value of right operand, then condition becomes true.                | `(24 < 26)` # True           |\n",
    "| >=       | If the value of left operand is greater than or equal to the value of right operand, then condition becomes true. | `(26 >= 26)` # True          |\n",
    "| <=       | If the value of left operand is less than or equal to the value of right operand, then condition becomes true.    | `(26 <= 26)` # True          |\n"
   ]
  },
  {
   "cell_type": "code",
   "execution_count": 4,
   "metadata": {},
   "outputs": [
    {
     "name": "stdout",
     "output_type": "stream",
     "text": [
      "True\n",
      "False\n",
      "True\n",
      "False\n",
      "True\n",
      "True\n",
      "False\n"
     ]
    }
   ],
   "source": [
    "print(26 == 26)           # True\n",
    "print(26 == 42)           # False\n",
    "print('hello' == 'hello') # True\n",
    "print('hello' == 'Hello') # False\n",
    "print('cat' != 'cow')     # True\n",
    "print(42 == 42.0 )        # True\n",
    "print(42 == '42')         # False"
   ]
  },
  {
   "cell_type": "markdown",
   "metadata": {},
   "source": [
    "### data types\n",
    "\n",
    "Python stores its data as various types. \n",
    "\n",
    "  * **numeric types** (integer and floating point)\n",
    "  * **sequential types** (string, tuple, list)\n",
    "  * **mappings** (dictionary, set)\n"
   ]
  },
  {
   "cell_type": "markdown",
   "metadata": {},
   "source": [
    "Importantly, there are Python built-in functions that can convert types to other types ([`int`](https://docs.python.org/3/library/functions.html#int), [`float`](https://docs.python.org/3/library/functions.html#float), [`str()`](https://docs.python.org/3/library/functions.html#func-str), [`tuple`](https://docs.python.org/3/library/functions.html#func-tuple), [`list`](https://docs.python.org/3/library/functions.html#func-list), [`dict()`](https://docs.python.org/3/library/functions.html#func-dict), [`set`](https://docs.python.org/3/library/functions.html#func-set)).\n",
    "\n",
    "For example, you can take a list and convert it to a tuple (we'll learn about these data structures below):"
   ]
  },
  {
   "cell_type": "code",
   "execution_count": 5,
   "metadata": {},
   "outputs": [
    {
     "name": "stdout",
     "output_type": "stream",
     "text": [
      "(90.2, 34.9)\n"
     ]
    }
   ],
   "source": [
    "coords_list = [90.2,34.9]\n",
    "coords_tuple = tuple(coords_list)  #converts the list (coord_list) into a tuple (coords_tuple)\n",
    "print(coords_tuple)"
   ]
  },
  {
   "cell_type": "markdown",
   "metadata": {},
   "source": [
    "### numeric data types\n",
    "\n",
    "Python 3 has three types of numeric data types. In practice, these types won't mean a lot for you, but recognize that the types involve different amounts of memory allocated to each (e.g., an integer requires fewer bits to represent it than a floating point number requires).\n",
    "\n",
    "**integers**\n",
    "\n",
    "Integers are whole numbers (i.e., not fractions), identified within python by `int`.\n"
   ]
  },
  {
   "cell_type": "code",
   "execution_count": 6,
   "metadata": {},
   "outputs": [
    {
     "name": "stdout",
     "output_type": "stream",
     "text": [
      "4\n",
      "<class 'int'>\n"
     ]
    }
   ],
   "source": [
    "number = 4\n",
    "print(number)\n",
    "print(type(4))"
   ]
  },
  {
   "cell_type": "markdown",
   "metadata": {},
   "source": [
    "**floating point**\n",
    "\n",
    "Fractions (e.g., decimals) are represented within Python as floating number numbers, identified as `float`. The difference between the `int` and `float` types is the amount of memory allocated to each. The computer will use more memory to store a float type than an integer, even if the floating point value is `4.0`. In this case, it would better to use an integer.\n"
   ]
  },
  {
   "cell_type": "code",
   "execution_count": 7,
   "metadata": {},
   "outputs": [
    {
     "name": "stdout",
     "output_type": "stream",
     "text": [
      "4.5\n",
      "<class 'float'>\n"
     ]
    }
   ],
   "source": [
    "number = 4.5\n",
    "print(number) \n",
    "print(type(number))"
   ]
  },
  {
   "cell_type": "markdown",
   "metadata": {},
   "source": [
    "Note that integers and floating points considered subtypes of the numeric data type, therefore you can use operators on int and float types without throwing the TypeError.\n"
   ]
  },
  {
   "cell_type": "code",
   "execution_count": 8,
   "metadata": {},
   "outputs": [
    {
     "name": "stdout",
     "output_type": "stream",
     "text": [
      "<class 'int'> <class 'float'>\n",
      "9.5 <class 'float'>\n"
     ]
    }
   ],
   "source": [
    "a = 4\n",
    "b = 5.5\n",
    "print(type(a), type(b))\n",
    "c = a + b\n",
    "print(c, type(c))"
   ]
  },
  {
   "cell_type": "markdown",
   "metadata": {},
   "source": [
    "Also, with Python 3 we can use division using integers and the result will be converted to the appropriate float representation (Python 2 would actually keep these as integers and lose the decimal values).\n"
   ]
  },
  {
   "cell_type": "code",
   "execution_count": 9,
   "metadata": {},
   "outputs": [
    {
     "name": "stdout",
     "output_type": "stream",
     "text": [
      "<class 'int'> <class 'int'>\n",
      "1.0 <class 'float'>\n"
     ]
    }
   ],
   "source": [
    "a = 4\n",
    "b = 4\n",
    "print(type(a), type(b)) \n",
    "c = a/b\n",
    "print(c, type(c))"
   ]
  },
  {
   "cell_type": "markdown",
   "metadata": {},
   "source": [
    "#### numeric operators\n",
    "\n",
    "When working with numeric values we often perform basic math operations. Python supports the following operators (ranked here from **highest to lowest precedence** ... if you remember PEMDAS from grade school):\n",
    "\n",
    "| Operators | Operation        | Example         |\n",
    "| --------- | ---------------- | --------------- |\n",
    "| **        | Exponent         | `2 ** 3 = 8`    |\n",
    "| %         | Modulus/Remaider | `22 % 8 = 6`    |\n",
    "| //        | Integer division | `22 // 8 = 2`   |\n",
    "| /         | Division         | `22 / 8 = 2.75` |\n",
    "| *         | Multiplication   | `3 * 3 = 9`     |\n",
    "| -         | Subtraction      | `5 - 2 = 3`     |\n",
    "| +         | Addition         | `2 + 2 = 4`     |\n"
   ]
  },
  {
   "cell_type": "markdown",
   "metadata": {},
   "source": [
    "## Print formatting"
   ]
  },
  {
   "cell_type": "code",
   "execution_count": 8,
   "metadata": {},
   "outputs": [
    {
     "name": "stdout",
     "output_type": "stream",
     "text": [
      "$1.20\n",
      "$1,141.80\n",
      "25%\n",
      "This project is 25.489345% completed.\n",
      "This project is 25% completed.\n",
      "This project is 25.5% completed.\n",
      "$12.12\n"
     ]
    }
   ],
   "source": [
    "currency = 1.20\n",
    "currency2 = 1141.80\n",
    "percentage = .254893453453\n",
    "print('${:,.2f}'.format(currency))   # $1.20\n",
    "print('${:,.2f}'.format(currency2))  # $1,141.80\n",
    "print('{:,.0f}%'.format(percentage * 100))  # 25%\n",
    "print('This project is {:%} completed.'.format(percentage))\n",
    "print('This project is {:.0%} completed.'.format(percentage))\n",
    "print('This project is {:.1%} completed.'.format(percentage))\n"
   ]
  },
  {
   "cell_type": "code",
   "execution_count": 12,
   "metadata": {},
   "outputs": [
    {
     "data": {
      "text/plain": [
       "'$1,234.50'"
      ]
     },
     "execution_count": 12,
     "metadata": {},
     "output_type": "execute_result"
    }
   ],
   "source": [
    "import locale\n",
    "locale.setlocale( locale.LC_ALL, 'English_United States.1252' )\n",
    "locale.currency( 1234.50, grouping = True )"
   ]
  },
  {
   "cell_type": "markdown",
   "metadata": {},
   "source": [
    "## Looping"
   ]
  },
  {
   "cell_type": "code",
   "execution_count": 31,
   "metadata": {},
   "outputs": [
    {
     "name": "stdout",
     "output_type": "stream",
     "text": [
      "john\n",
      "raj\n",
      "lisa\n"
     ]
    }
   ],
   "source": [
    "# loop through a list\n",
    "names = [\"john\", \"raj\", \"lisa\"]\n",
    "for i in names:\n",
    "  print(i)"
   ]
  },
  {
   "cell_type": "code",
   "execution_count": 30,
   "metadata": {},
   "outputs": [
    {
     "name": "stdout",
     "output_type": "stream",
     "text": [
      "0\n",
      "1\n",
      "2\n",
      "3\n",
      "4\n"
     ]
    }
   ],
   "source": [
    "# default range\n",
    "for i in range(5):   # loops from 0-4\n",
    " print(i)"
   ]
  },
  {
   "cell_type": "code",
   "execution_count": 29,
   "metadata": {},
   "outputs": [
    {
     "name": "stdout",
     "output_type": "stream",
     "text": [
      "1\n",
      "2\n",
      "3\n",
      "4\n",
      "5\n"
     ]
    }
   ],
   "source": [
    "# custom start and end numbers\n",
    "for i in range(1,6): # loops from 1-5\n",
    "  print(i)"
   ]
  },
  {
   "cell_type": "code",
   "execution_count": 28,
   "metadata": {},
   "outputs": [
    {
     "name": "stdout",
     "output_type": "stream",
     "text": [
      "1\n",
      "3\n",
      "5\n"
     ]
    }
   ],
   "source": [
    "# loop with incremental numbers\n",
    "for i in range(1,6,2):\n",
    "  print(i)\n",
    "# range(1,6,2) – will print 1,3 and 5\n",
    "# range(1,5,2) – will print only 1 and 3"
   ]
  },
  {
   "cell_type": "code",
   "execution_count": 27,
   "metadata": {},
   "outputs": [
    {
     "name": "stdout",
     "output_type": "stream",
     "text": [
      "4\n",
      "2\n",
      "0\n",
      "-2\n",
      "-4\n"
     ]
    }
   ],
   "source": [
    "# loop range with negative numbers\n",
    "# This example uses negative numbers for end-value (-5) and increment-value (-2)\n",
    "for i in range(4,-5,-2):\n",
    "  print(i)"
   ]
  },
  {
   "cell_type": "code",
   "execution_count": 32,
   "metadata": {},
   "outputs": [
    {
     "name": "stdout",
     "output_type": "stream",
     "text": [
      "lisa\n",
      "lisa\n",
      "--end--\n"
     ]
    }
   ],
   "source": [
    "#  Continue Statement Inside Python For Loop\n",
    "\n",
    "names = [\"john\", \"lisa\", \"raj\", \"lisa\"]\n",
    "for i in names:\n",
    "  if i != \"lisa\":\n",
    "    continue\n",
    "  print(i)\n",
    "print(\"--end--\")"
   ]
  },
  {
   "cell_type": "code",
   "execution_count": 33,
   "metadata": {},
   "outputs": [
    {
     "name": "stdout",
     "output_type": "stream",
     "text": [
      "john\n",
      "lisa\n",
      "--end--\n"
     ]
    }
   ],
   "source": [
    "# Break Statement Inside Loop\n",
    "\n",
    "names = [\"john\", \"lisa\", \"raj\", \"lisa\"]\n",
    "for i in names:\n",
    "  if i == \"raj\":\n",
    "    break\n",
    "  print(i)\n",
    "print(\"--end--\")"
   ]
  },
  {
   "cell_type": "code",
   "execution_count": 34,
   "metadata": {},
   "outputs": [
    {
     "name": "stdout",
     "output_type": "stream",
     "text": [
      "john\n",
      "raj\n",
      "lisa\n",
      "for loop condition failed!\n"
     ]
    }
   ],
   "source": [
    "# loop with Else\n",
    "# anything inside the else-block for the for-loop will get executed when the for statement fails \n",
    "names = [\"john\", \"raj\", \"lisa\"]\n",
    "for i in names:\n",
    "  print(i)\n",
    "else:\n",
    "  print(\"for loop condition failed!\")"
   ]
  },
  {
   "cell_type": "code",
   "execution_count": 35,
   "metadata": {},
   "outputs": [
    {
     "name": "stdout",
     "output_type": "stream",
     "text": [
      "john\n",
      "lisa\n",
      "--end--\n"
     ]
    }
   ],
   "source": [
    "# Else and Break Combination\n",
    "\n",
    "names = [\"john\", \"lisa\", \"raj\", \"lisa\"]\n",
    "for i in names:\n",
    "  if i == \"raj\":\n",
    "    break\n",
    "  print(i)\n",
    "else:\n",
    "  print(\"for loop condition failed!\")\n",
    "print(\"--end--\")"
   ]
  },
  {
   "cell_type": "code",
   "execution_count": 36,
   "metadata": {},
   "outputs": [
    {
     "name": "stdout",
     "output_type": "stream",
     "text": [
      "centos 32-bit\n",
      "centos 64-bit\n",
      "-----------\n",
      "redhat 32-bit\n",
      "redhat 64-bit\n",
      "-----------\n",
      "ubuntu 32-bit\n",
      "ubuntu 64-bit\n",
      "-----------\n"
     ]
    }
   ],
   "source": [
    "# Nested loops\n",
    "\n",
    "distros = [\"centos\", \"redhat\", \"ubuntu\"]\n",
    "arch = [\"32-bit\", \"64-bit\"]\n",
    "for i in distros:\n",
    "  for j in arch:\n",
    "    print(i + \" \" + j)\n",
    "  print(\"-----------\")"
   ]
  },
  {
   "cell_type": "code",
   "execution_count": 40,
   "metadata": {},
   "outputs": [
    {
     "name": "stdout",
     "output_type": "stream",
     "text": [
      "CA\n",
      "NV\n",
      "UT\n",
      "NJ\n",
      "NY\n",
      "DE\n"
     ]
    }
   ],
   "source": [
    "# List of list looping\n",
    "\n",
    "multiple_state_lists = [ [\"CA\",\"NV\",\"UT\"], [\"NJ\",\"NY\",\"DE\"] ]\n",
    "for state_list in multiple_state_lists:\n",
    "  for state in state_list:\n",
    "    print(state)"
   ]
  },
  {
   "cell_type": "markdown",
   "metadata": {},
   "source": [
    "## Lambda function\n"
   ]
  },
  {
   "cell_type": "markdown",
   "metadata": {},
   "source": [
    "The lambda function is just awesome. Anytime you have can reduce a function to one expression you can use lambda to simplify the code.\n",
    "\n",
    "where\n",
    "```python\n",
    "#function to accept the list of numbers returning the value if it is an odd number\n",
    "def find_odds(n):\n",
    "    if(n % 2 != 0):\n",
    "        return n\n",
    "```\n",
    "can be reduced to\n",
    "```python\n",
    "(lambda x : x % 2 != 0, nums)\n",
    "```\n"
   ]
  },
  {
   "cell_type": "markdown",
   "metadata": {},
   "source": [
    "## Flipping strings"
   ]
  },
  {
   "cell_type": "code",
   "execution_count": 10,
   "metadata": {},
   "outputs": [
    {
     "name": "stdout",
     "output_type": "stream",
     "text": [
      "ananab\n"
     ]
    }
   ],
   "source": [
    "fruit = 'banana'\n",
    "print(fruit[::-1])  #ananab"
   ]
  },
  {
   "cell_type": "markdown",
   "metadata": {},
   "source": [
    "## .apply method\n",
    "\n",
    "Checkout this website for some insight (https://www.ritchieng.com/pandas-apply/)"
   ]
  },
  {
   "cell_type": "code",
   "execution_count": 2,
   "metadata": {},
   "outputs": [
    {
     "data": {
      "text/html": [
       "<div>\n",
       "<style scoped>\n",
       "    .dataframe tbody tr th:only-of-type {\n",
       "        vertical-align: middle;\n",
       "    }\n",
       "\n",
       "    .dataframe tbody tr th {\n",
       "        vertical-align: top;\n",
       "    }\n",
       "\n",
       "    .dataframe thead th {\n",
       "        text-align: right;\n",
       "    }\n",
       "</style>\n",
       "<table border=\"1\" class=\"dataframe\">\n",
       "  <thead>\n",
       "    <tr style=\"text-align: right;\">\n",
       "      <th></th>\n",
       "      <th>country</th>\n",
       "      <th>beer_servings</th>\n",
       "      <th>spirit_servings</th>\n",
       "      <th>wine_servings</th>\n",
       "      <th>total_litres_of_pure_alcohol</th>\n",
       "      <th>continent</th>\n",
       "    </tr>\n",
       "  </thead>\n",
       "  <tbody>\n",
       "    <tr>\n",
       "      <th>0</th>\n",
       "      <td>Afghanistan</td>\n",
       "      <td>0</td>\n",
       "      <td>0</td>\n",
       "      <td>0</td>\n",
       "      <td>0.0</td>\n",
       "      <td>Asia</td>\n",
       "    </tr>\n",
       "    <tr>\n",
       "      <th>1</th>\n",
       "      <td>Albania</td>\n",
       "      <td>89</td>\n",
       "      <td>132</td>\n",
       "      <td>54</td>\n",
       "      <td>4.9</td>\n",
       "      <td>Europe</td>\n",
       "    </tr>\n",
       "    <tr>\n",
       "      <th>2</th>\n",
       "      <td>Algeria</td>\n",
       "      <td>25</td>\n",
       "      <td>0</td>\n",
       "      <td>14</td>\n",
       "      <td>0.7</td>\n",
       "      <td>Africa</td>\n",
       "    </tr>\n",
       "    <tr>\n",
       "      <th>3</th>\n",
       "      <td>Andorra</td>\n",
       "      <td>245</td>\n",
       "      <td>138</td>\n",
       "      <td>312</td>\n",
       "      <td>12.4</td>\n",
       "      <td>Europe</td>\n",
       "    </tr>\n",
       "    <tr>\n",
       "      <th>4</th>\n",
       "      <td>Angola</td>\n",
       "      <td>217</td>\n",
       "      <td>57</td>\n",
       "      <td>45</td>\n",
       "      <td>5.9</td>\n",
       "      <td>Africa</td>\n",
       "    </tr>\n",
       "  </tbody>\n",
       "</table>\n",
       "</div>"
      ],
      "text/plain": [
       "       country  beer_servings  spirit_servings  wine_servings  \\\n",
       "0  Afghanistan              0                0              0   \n",
       "1      Albania             89              132             54   \n",
       "2      Algeria             25                0             14   \n",
       "3      Andorra            245              138            312   \n",
       "4       Angola            217               57             45   \n",
       "\n",
       "   total_litres_of_pure_alcohol continent  \n",
       "0                           0.0      Asia  \n",
       "1                           4.9    Europe  \n",
       "2                           0.7    Africa  \n",
       "3                          12.4    Europe  \n",
       "4                           5.9    Africa  "
      ]
     },
     "execution_count": 2,
     "metadata": {},
     "output_type": "execute_result"
    }
   ],
   "source": [
    "import pandas as pd\n",
    "url = 'http://bit.ly/drinksbycountry'\n",
    "drinks = pd.read_csv(url)\n",
    "drinks.head()"
   ]
  },
  {
   "cell_type": "markdown",
   "metadata": {},
   "source": [
    "### Sorting a dataframe\n",
    "`df.sort_values('a_column_name',ascending=True)`"
   ]
  },
  {
   "cell_type": "code",
   "execution_count": 5,
   "metadata": {},
   "outputs": [
    {
     "data": {
      "text/html": [
       "<div>\n",
       "<style scoped>\n",
       "    .dataframe tbody tr th:only-of-type {\n",
       "        vertical-align: middle;\n",
       "    }\n",
       "\n",
       "    .dataframe tbody tr th {\n",
       "        vertical-align: top;\n",
       "    }\n",
       "\n",
       "    .dataframe thead th {\n",
       "        text-align: right;\n",
       "    }\n",
       "</style>\n",
       "<table border=\"1\" class=\"dataframe\">\n",
       "  <thead>\n",
       "    <tr style=\"text-align: right;\">\n",
       "      <th></th>\n",
       "      <th>country</th>\n",
       "      <th>beer_servings</th>\n",
       "      <th>spirit_servings</th>\n",
       "      <th>wine_servings</th>\n",
       "      <th>total_litres_of_pure_alcohol</th>\n",
       "      <th>continent</th>\n",
       "    </tr>\n",
       "  </thead>\n",
       "  <tbody>\n",
       "    <tr>\n",
       "      <th>15</th>\n",
       "      <td>Belarus</td>\n",
       "      <td>142</td>\n",
       "      <td>373</td>\n",
       "      <td>42</td>\n",
       "      <td>14.4</td>\n",
       "      <td>Europe</td>\n",
       "    </tr>\n",
       "    <tr>\n",
       "      <th>98</th>\n",
       "      <td>Lithuania</td>\n",
       "      <td>343</td>\n",
       "      <td>244</td>\n",
       "      <td>56</td>\n",
       "      <td>12.9</td>\n",
       "      <td>Europe</td>\n",
       "    </tr>\n",
       "    <tr>\n",
       "      <th>3</th>\n",
       "      <td>Andorra</td>\n",
       "      <td>245</td>\n",
       "      <td>138</td>\n",
       "      <td>312</td>\n",
       "      <td>12.4</td>\n",
       "      <td>Europe</td>\n",
       "    </tr>\n",
       "    <tr>\n",
       "      <th>68</th>\n",
       "      <td>Grenada</td>\n",
       "      <td>199</td>\n",
       "      <td>438</td>\n",
       "      <td>28</td>\n",
       "      <td>11.9</td>\n",
       "      <td>North America</td>\n",
       "    </tr>\n",
       "    <tr>\n",
       "      <th>45</th>\n",
       "      <td>Czech Republic</td>\n",
       "      <td>361</td>\n",
       "      <td>170</td>\n",
       "      <td>134</td>\n",
       "      <td>11.8</td>\n",
       "      <td>Europe</td>\n",
       "    </tr>\n",
       "  </tbody>\n",
       "</table>\n",
       "</div>"
      ],
      "text/plain": [
       "           country  beer_servings  spirit_servings  wine_servings  \\\n",
       "15         Belarus            142              373             42   \n",
       "98       Lithuania            343              244             56   \n",
       "3          Andorra            245              138            312   \n",
       "68         Grenada            199              438             28   \n",
       "45  Czech Republic            361              170            134   \n",
       "\n",
       "    total_litres_of_pure_alcohol      continent  \n",
       "15                          14.4         Europe  \n",
       "98                          12.9         Europe  \n",
       "3                           12.4         Europe  \n",
       "68                          11.9  North America  \n",
       "45                          11.8         Europe  "
      ]
     },
     "execution_count": 5,
     "metadata": {},
     "output_type": "execute_result"
    }
   ],
   "source": [
    "drinks.sort_values('total_litres_of_pure_alcohol', ascending=False).head()"
   ]
  },
  {
   "cell_type": "code",
   "execution_count": null,
   "metadata": {},
   "outputs": [],
   "source": []
  }
 ],
 "metadata": {
  "kernelspec": {
   "display_name": "Python 3",
   "language": "python",
   "name": "python3"
  },
  "language_info": {
   "codemirror_mode": {
    "name": "ipython",
    "version": 3
   },
   "file_extension": ".py",
   "mimetype": "text/x-python",
   "name": "python",
   "nbconvert_exporter": "python",
   "pygments_lexer": "ipython3",
   "version": "3.7.0"
  }
 },
 "nbformat": 4,
 "nbformat_minor": 2
}
