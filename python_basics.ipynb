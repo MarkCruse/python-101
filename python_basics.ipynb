{
 "cells": [
  {
   "cell_type": "code",
   "execution_count": null,
   "metadata": {},
   "outputs": [],
   "source": []
  },
  {
   "cell_type": "markdown",
   "metadata": {},
   "source": [
    "# Python Basics - Useful Python Notes"
   ]
  },
  {
   "cell_type": "markdown",
   "metadata": {},
   "source": [
    "* Python is case sensitive. Observe or be burned\n",
    "\n",
    "* There is no end statement character (like semicolon in Javascript)\n",
    "\n",
    "* Indentation is important since there is not end of statement charater\n",
    "\n",
    "* Preferred indentation method is 4 spaces. **Example below.**\n"
   ]
  },
  {
   "cell_type": "code",
   "execution_count": null,
   "metadata": {},
   "outputs": [],
   "source": [
    "#Here is an example of a correctly (though confusingly) indented piece of Python code:\n",
    "\n",
    "def perm(l):\n",
    "        # Compute the list of all permutations of l\n",
    "    if len(l) <= 1:\n",
    "        return [l]\n",
    "    r = []\n",
    "    for i in range(len(l)):\n",
    "        s = l[:i] + l[i+1:]\n",
    "        p = perm(s)\n",
    "        for x in p:\n",
    "            r.append(l[i:i+1] + x)\n",
    "    return r\n",
    "#perm('test')"
   ]
  },
  {
   "cell_type": "code",
   "execution_count": null,
   "metadata": {},
   "outputs": [],
   "source": [
    "#The following example shows various indentation errors:\n",
    "\n",
    "     def perm(l):                       # error: first line indented\n",
    "    for i in range(len(l)):             # error: not indented\n",
    "        s = l[:i] + l[i+1:]\n",
    "            p = perm(l[:i] + l[i+1:])   # error: unexpected indent\n",
    "            for x in p:\n",
    "                    r.append(l[i:i+1] + x)\n",
    "                return r                # error: inconsistent dedentThe following example shows various indentation errors:\n",
    "\n",
    "     def perm(l):                       # error: first line indented\n",
    "    for i in range(len(l)):             # error: not indented\n",
    "        s = l[:i] + l[i+1:]\n",
    "            p = perm(l[:i] + l[i+1:])   # error: unexpected indent\n",
    "            for x in p:\n",
    "                    r.append(l[i:i+1] + x)\n",
    "                return r                # error: inconsistent dedent"
   ]
  },
  {
   "cell_type": "markdown",
   "metadata": {},
   "source": [
    "## Explicit Lines\n",
    "Two or more physical lines may be joined into logical lines using backslash characters (\\), as follows: when a physical line ends in a backslash that is not part of a string literal or comment, it is joined with the following forming a single logical line, deleting the backslash and the following end-of-line character. For example:"
   ]
  },
  {
   "cell_type": "code",
   "execution_count": 4,
   "metadata": {},
   "outputs": [],
   "source": [
    "def checkdate():\n",
    "    if 1900 < year < 2100 and 1 <= month <= 12 \\\n",
    "        and 1 <= day <= 31 and 0 <= hour < 24 \\\n",
    "        and 0 <= minute < 60 and 0 <= second < 60:   # Looks like a valid date\n",
    "            return 1"
   ]
  },
  {
   "cell_type": "markdown",
   "metadata": {},
   "source": [
    "## Implicit line joining\n",
    "Expressions in parentheses, square brackets or curly braces can be split over more than one physical line without using backslashes. For example:"
   ]
  },
  {
   "cell_type": "code",
   "execution_count": 5,
   "metadata": {},
   "outputs": [],
   "source": [
    "month_names = ['Januari', 'Februari', 'Maart',      # These are the\n",
    "               'April',   'Mei',      'Juni',       # Dutch names\n",
    "               'Juli',    'Augustus', 'September',  # for the months\n",
    "               'Oktober', 'November', 'December']   # of the year"
   ]
  },
  {
   "cell_type": "markdown",
   "metadata": {},
   "source": [
    "## Variables names \n",
    "must start with a letter or an underscore, such as:  \n",
    "\\_underscore  \n",
    "underscore\\_  \n",
    "The remainder of your variable name may consist of letters, numbers and underscores.  \n",
    "password1  \n",
    "n00b  \n",
    "un_der_scores  \n",
    "Names are case sensitive.  \n",
    "case_sensitive, CASE_SENSITIVE, and Case_Sensitive are each a different variable.  \n"
   ]
  },
  {
   "cell_type": "code",
   "execution_count": null,
   "metadata": {},
   "outputs": [],
   "source": []
  },
  {
   "cell_type": "code",
   "execution_count": null,
   "metadata": {},
   "outputs": [],
   "source": []
  }
 ],
 "metadata": {
  "kernelspec": {
   "display_name": "Python 3",
   "language": "python",
   "name": "python3"
  },
  "language_info": {
   "codemirror_mode": {
    "name": "ipython",
    "version": 3
   },
   "file_extension": ".py",
   "mimetype": "text/x-python",
   "name": "python",
   "nbconvert_exporter": "python",
   "pygments_lexer": "ipython3",
   "version": "3.6.6"
  }
 },
 "nbformat": 4,
 "nbformat_minor": 2
}
